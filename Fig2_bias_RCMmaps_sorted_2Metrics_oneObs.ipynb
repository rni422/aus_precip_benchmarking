{
 "cells": [
  {
   "cell_type": "markdown",
   "id": "75484b8f-0f71-4c9a-b8c0-40a771b50438",
   "metadata": {},
   "source": [
    "# MAPE and Spatial Correlation MSMs: Sorted Climatological Bias Maps with the 2 Metrics on the Map "
   ]
  },
  {
   "cell_type": "code",
   "execution_count": null,
   "id": "a9eb32fb-da42-41d9-9450-67cb353a73fb",
   "metadata": {
    "tags": []
   },
   "outputs": [],
   "source": [
    "# Import modules\n",
    "%matplotlib inline\n",
    "%run /g/data/w40/ri9247/code/aus_precip_benchmarking/master_functions_bmf.ipynb\n",
    "import matplotlib as mpl\n",
    "import fnmatch\n",
    "import xarray as xr\n",
    "import numpy as np\n",
    "import pandas as pd\n",
    "import matplotlib.pyplot as plt\n",
    "import matplotlib as mpl\n",
    "import matplotlib.ticker as mticker\n",
    "import matplotlib.gridspec as gridspec\n",
    "from matplotlib.patches import Rectangle\n",
    "import cartopy as cartopy\n",
    "import cartopy.crs as ccrs\n",
    "from cartopy.mpl.ticker import LongitudeFormatter, LatitudeFormatter"
   ]
  },
  {
   "cell_type": "markdown",
   "id": "9e18ee31-be75-4a05-98fc-b43f257fb72e",
   "metadata": {},
   "source": [
    "## Define Spatiotemporal Boundaries"
   ]
  },
  {
   "cell_type": "code",
   "execution_count": null,
   "id": "f3118deb-2000-40ec-9089-d38c178ee275",
   "metadata": {
    "tags": []
   },
   "outputs": [],
   "source": [
    "# Define region of interest (lat and lon boundaries for all of Australia)\n",
    "lat_slice = slice(-44.5,-10)\n",
    "lon_slice = slice(112,156.25)\n",
    "time_slice = slice(\"1976-01-01\", \"2005-12-30\")\n",
    "\n",
    "# Define temporal scale for SPI variable (1 for 3-months, 2 for 6-months, 3 for 12-months); use \"None\" if not using the SPI variable\n",
    "iscale = None\n",
    "\n",
    "# Define season as a list of month numbers. If not wanting a seasonal breakdown, use None.\n",
    "# Suggestions: Wet 6-month: [10,11,12,1,2,3]; Dry 6-month: [4,5,6,7,8,9]; Wet 3-month: [12,1,2]; Dry 3-month: [6,7,8]\n",
    "season = None #[12,1,2]\n",
    "season_name = 'Annual' #'3-Month Wet: DJF' #'3-Month Dry: JJA' \n",
    "\n",
    "# Paths to mask datasets\n",
    "mask_ds = xr.open_dataset('/g/data/w40/ri9247/CORDEX-Australasia/data/obs/AUS-44i_grid/no_indices/mask/AUS-44i_combined_quality_mask_no_oceans.nc')\n",
    "\n",
    "# Extract masks over Australia\n",
    "qc_mask = mask_ds.station_mask.sel(lat=lat_slice, lon=lon_slice)"
   ]
  },
  {
   "cell_type": "markdown",
   "id": "2243121a-4e16-4fa4-b906-37a5e87c7c46",
   "metadata": {},
   "source": [
    "## Define Benchmarking Thresholds for Metrics: MAPE and Spatial Correlation"
   ]
  },
  {
   "cell_type": "code",
   "execution_count": null,
   "id": "879cf33a-0a03-4a15-b45b-741a84d11367",
   "metadata": {
    "tags": []
   },
   "outputs": [],
   "source": [
    "mape_threshold = 0.75\n",
    "sc_threshold = 0.7"
   ]
  },
  {
   "cell_type": "markdown",
   "id": "101d03af-b8a0-423d-beb3-8b981fdc42ec",
   "metadata": {},
   "source": [
    "## Define Keywords for Data"
   ]
  },
  {
   "cell_type": "markdown",
   "id": "0d1ff48d-e4fe-43f4-9739-1aa5f3bf3203",
   "metadata": {
    "tags": []
   },
   "source": [
    "Keywords needed are bracketed {}. <br><br>\n",
    "**RCM** database is organized following: <br>\n",
    "**Climpact Indices:** <br>\n",
    "parent_directory/{time_period}/{index-keyword}/{variable}_{time_average} _dataset_file.nc \n",
    "<br><br>\n",
    "**Observations** database is organized as follows: <br>\n",
    "obs_parent_directory/grid_type}/climpact/{variable}/{variable} _{time_average}_agcd_historical_v1_1950-2020.nc <br><br>\n",
    "**Keyword Options:** <br>\n",
    "grid_type: 'AUS-44i_grid', 'native_grid', 'one_degree_grid' <br>\n",
    "time_period: 'historical', 'rcp85' <br>\n",
    "variable: See list of Climpact Indices at: https://climpact-sci.org/indices; must be all-lowercase <br>\n",
    "time_average: 'ANN', 'MON'"
   ]
  },
  {
   "cell_type": "markdown",
   "id": "e2257425-3fad-4704-be3e-bf6a98c0340a",
   "metadata": {},
   "source": [
    "### Using Climpact Indices"
   ]
  },
  {
   "cell_type": "code",
   "execution_count": null,
   "id": "be34e777-1bcb-49c7-8a86-cb169eda9756",
   "metadata": {
    "tags": []
   },
   "outputs": [],
   "source": [
    "# Define keywords to be used with f-strings to build the path to datasets\n",
    "time_period = 'historical'\n",
    "variable = 'prcptot'\n",
    "time_average = 'ANN'\n",
    "grid_type = 'AUS-44i_grid'\n",
    "\n",
    "# Define paths to data\n",
    "model_master_path = '/g/data/ks32/CLEX_Data/CORDEX_Australasia_Indices/v1-0/'\n",
    "obs_master_path = '/g/data/w40/ri9247/CORDEX-Australasia/data/obs/'\n",
    "\n",
    "model_data_path = model_master_path + f'{time_period}/{variable}/'\n",
    "agcd_data_path = obs_master_path + f'{grid_type}/climpact/{variable}/{variable}_{time_average}_agcd_historical_v1_1950-2020.nc'"
   ]
  },
  {
   "cell_type": "markdown",
   "id": "8e44e3cf-a9ff-46a0-b20e-a1029531235c",
   "metadata": {},
   "source": [
    "## Get Pandas Dataframe with complete list of model dataset file paths"
   ]
  },
  {
   "cell_type": "code",
   "execution_count": null,
   "id": "6635b5ab-d57a-4218-aa54-7d60e6ec1df9",
   "metadata": {
    "tags": []
   },
   "outputs": [],
   "source": [
    "# Get all model paths in full ensemble (this will be stored in a Pandas DataFrame)\n",
    "model_paths = get_model_files(model_data_path, time_average)\n",
    "\n",
    "# Expand the column with to see the full paths stored in the Pandas Dataframe\n",
    "pd.set_option('display.max_colwidth', None)\n",
    "\n",
    "# Option to check that correct file paths are selected\n",
    "model_paths"
   ]
  },
  {
   "cell_type": "markdown",
   "id": "a38644c5-344a-464c-8c1c-3866d9c93875",
   "metadata": {},
   "source": [
    "## Get Individual Model Bias"
   ]
  },
  {
   "cell_type": "code",
   "execution_count": null,
   "id": "e394325b-4692-40c5-8afa-8f237a5d1284",
   "metadata": {
    "tags": []
   },
   "outputs": [],
   "source": [
    "# Note data_type is model so units are properly converted if daily or monthly mean data\n",
    "# Keyword \"model\" will convert precip data to mm/day from kg/m^2/s; any other keyword will keep native units\n",
    "data_type = 'model_climpact'\n",
    "\n",
    "# Intialize an empty dictionary to store model climatologies as DataArrays\n",
    "bias_model_dict = {}\n",
    "\n",
    "# Loop through RCM simulations and calculate the model bias; store in a dictionary\n",
    "for i, row in model_paths.iterrows():\n",
    "    bias_xr = get_bias(model_paths.iloc[i,2], agcd_data_path, variable, time_slice, lat_slice, lon_slice, data_type, season, iscale, qc_mask)\n",
    "    model_name = f'{model_paths.iloc[i,1]}   {model_paths.iloc[i,0]}'\n",
    "    bias_model_dict[model_name] = bias_xr\n",
    "\n",
    "# Option to print dictionary keys (model names)\n",
    "print(bias_model_dict.keys())"
   ]
  },
  {
   "cell_type": "markdown",
   "id": "b1182087-5ba1-4527-a35c-32c5db31eb74",
   "metadata": {
    "tags": []
   },
   "source": [
    "## Calculate Weighted Spatial Average (of bias) and Store in Pandas Dataframe for sorting plots"
   ]
  },
  {
   "cell_type": "markdown",
   "id": "904c7193-932b-4a07-a7a7-b586ce5b6ee3",
   "metadata": {},
   "source": [
    "### Models"
   ]
  },
  {
   "cell_type": "code",
   "execution_count": null,
   "id": "de1547ae-61d1-42da-b083-b0aa10eeea87",
   "metadata": {
    "tags": []
   },
   "outputs": [],
   "source": [
    "# Set up empty data frame to store values\n",
    "model_weighted_avg_master_df = pd.DataFrame(columns=[\"weighted_average\", \"dataset_name\"])\n",
    "\n",
    "# Loop through Dictionary of climatologies and calculate spatial weighted average\n",
    "for model_name in bias_model_dict.keys():\n",
    "    model_weighted_avg = get_weighted_spatial_average_from_data(bias_model_dict[model_name]).round(2)\n",
    "        \n",
    "    # Convert the resulting xarray to a pandas df\n",
    "    model_weighted_avg_df = pd.DataFrame({'weighted_average': model_weighted_avg.item(0), 'dataset_name': f'{model_name}'}, index=[0])\n",
    "    \n",
    "    # Append the master time series \n",
    "    model_weighted_avg_master_df = pd.concat([model_weighted_avg_master_df, model_weighted_avg_df], ignore_index=True)\n",
    "\n",
    "# Sort weighted spatial average wettest to driest\n",
    "model_weighted_avg_master_df = model_weighted_avg_master_df.sort_values(\"weighted_average\", ascending=False)\n",
    "\n",
    "# Option to print DataFrame\n",
    "print(model_weighted_avg_master_df)"
   ]
  },
  {
   "cell_type": "markdown",
   "id": "4e7737fe-2060-42fd-83b9-b1bc6a1cf5aa",
   "metadata": {
    "tags": []
   },
   "source": [
    "## Get MAPE and uncentered Spatial Correlation and store in Pandas Dataframe"
   ]
  },
  {
   "cell_type": "code",
   "execution_count": null,
   "id": "c2f23ca1-131b-423e-a510-fe502b4460f5",
   "metadata": {
    "tags": []
   },
   "outputs": [],
   "source": [
    "rcm_master_metrics_df = pd.DataFrame(columns=[f\"{variable}_mape\", f\"{variable}_spatial_cor\", \"GCM_RCM_pair\"])\n",
    "\n",
    "# Define if you want centered (True) or uncentered (False) correlation \n",
    "centered = True\n",
    "\n",
    "# 'model' will include appropriate unit conversion\n",
    "datatype = 'model_climpact'\n",
    "\n",
    "# Loop through RCMs and calculate the spatial correlation against the obs data\n",
    "for i, row in model_paths.iterrows(): \n",
    "    \n",
    "    # Calculate correlation coefficient between each model and observation data\n",
    "    spatial_cor_xr = get_spatial_correlation(model_paths.iloc[i,2], agcd_data_path, variable, time_slice, lat_slice, lon_slice, season, iscale, qc_mask, centered)\n",
    "    mape_xr = get_mape(model_paths.iloc[i,2], agcd_data_path, variable, time_slice, lat_slice, lon_slice, datatype, season, iscale, qc_mask)\n",
    "    \n",
    "    # Convert the resulting xarray to a pandas df\n",
    "    metrics_df = pd.DataFrame({f\"{variable}_mape\": mape_xr.item(0), f\"{variable}_spatial_cor\": spatial_cor_xr.item(0),'GCM_RCM_pair': f'{model_paths.iloc[i,1]}   {model_paths.iloc[i,0]}'}, index=[0])\n",
    "        \n",
    "    # Append the master time series \n",
    "    rcm_master_metrics_df = pd.concat([rcm_master_metrics_df, metrics_df], ignore_index=True)\n",
    "\n",
    "rcm_master_metrics_df = rcm_master_metrics_df.reset_index(drop = True)\n",
    "\n",
    "# Option to print the DataFrame\n",
    "print(rcm_master_metrics_df)"
   ]
  },
  {
   "cell_type": "markdown",
   "id": "8106df5e-35d3-4f4a-8fb6-4ab279cf4091",
   "metadata": {},
   "source": [
    "## Set Up Panel Plot Sorted by Spatial Area Average"
   ]
  },
  {
   "cell_type": "markdown",
   "id": "6cb429d1-c8f0-4f9b-8883-f8d25d672856",
   "metadata": {},
   "source": [
    "### Set up mapping constants"
   ]
  },
  {
   "cell_type": "code",
   "execution_count": null,
   "id": "fb64750b-1634-42b0-ac70-a2a1735344e8",
   "metadata": {
    "tags": []
   },
   "outputs": [],
   "source": [
    "# Define map constants and specifications\n",
    "extent = [112, 156.25, -44.5, -10]\n",
    "proj = ccrs.PlateCarree()\n",
    "\n",
    "# Axes indices where I want lat and/or lon tickmarks on the map\n",
    "lat_label = [0,4,8,12,16]\n",
    "lon_label = [21,22,23]\n",
    "both_label = [20]\n",
    "\n",
    "# Lat/Lon values to show for axis labels\n",
    "lat_ticks = [-10,-20,-30,-40]\n",
    "lon_ticks = [115,125,135,145,155]\n",
    "\n",
    "# Define colormap\n",
    "cmap = plt.get_cmap('BrBG',18)\n",
    "#cmap = cmap.reversed()\n",
    "mmin = -300\n",
    "mmax = 300\n",
    "\n",
    "cmap"
   ]
  },
  {
   "cell_type": "code",
   "execution_count": null,
   "id": "56049581-4880-4fd8-ae8b-1de6ae076c3c",
   "metadata": {
    "tags": []
   },
   "outputs": [],
   "source": [
    "# Define color for quality mask\n",
    "cmap_mask_i = plt.get_cmap('gray',30)\n",
    "cmap_mask_i = cmap_mask_i.reversed()\n",
    "cmap_mask = truncate_colormap(cmap_mask_i, 0.2, 0.99, 100)\n",
    "\n",
    "cmap_mask"
   ]
  },
  {
   "cell_type": "markdown",
   "id": "96d63804-dc12-4c63-86dc-7e1c85ff5d12",
   "metadata": {},
   "source": [
    "### Create Sorted Panel Plot - Portrait (for Paper)"
   ]
  },
  {
   "cell_type": "code",
   "execution_count": null,
   "id": "c43ee315-39f9-4831-9896-16810bec86a8",
   "metadata": {
    "tags": []
   },
   "outputs": [],
   "source": [
    "# Define figure size\n",
    "fig = plt.figure(figsize=(12,16))\n",
    "fig.suptitle(f\"Climatological Rainfall Bias (1976-2005) (mm/year)\", fontsize=16, y=0.99)\n",
    "\n",
    "# Setup axes for all subplots\n",
    "gs = gridspec.GridSpec(7,4,width_ratios=[1,1,1,1], height_ratios=[1,1,1,1,1,1,0.1])\n",
    "\n",
    "row_max = 6\n",
    "col_max = 3\n",
    "row = 0\n",
    "col = 0\n",
    "\n",
    "axs = {}\n",
    "\n",
    "# Set up Axes labels (this loops through the sorted Pandas DF to assign axes positions based on wetness)\n",
    "# For Models\n",
    "for i, df_row_mod in model_weighted_avg_master_df.iterrows():\n",
    "    axs[f'{model_weighted_avg_master_df.iloc[i,1]}'] = fig.add_subplot(gs[row,col], projection=proj)\n",
    "    \n",
    "    if col == col_max:\n",
    "        row = row + 1\n",
    "        col = 0 \n",
    "    else:\n",
    "        col = col + 1\n",
    "        \n",
    "\n",
    "for name, ax in axs.items():\n",
    "    ax.set_title(name, fontsize=13)\n",
    "    \n",
    "# Plot climtologies and spatial weighted mean \n",
    "# Define empty dictionary of plots\n",
    "plots = {}\n",
    "\n",
    "# Plot climatology maps and add spatial weighted average for model data   \n",
    "for model_name in bias_model_dict.keys():\n",
    "    \n",
    "    # Define NRMSE and SCor for each model\n",
    "    mape_score = rcm_master_metrics_df[rcm_master_metrics_df['GCM_RCM_pair'] == f'{model_name}'].iloc[0,0]\n",
    "    sc_score = rcm_master_metrics_df[rcm_master_metrics_df['GCM_RCM_pair'] == f'{model_name}'].iloc[0,1]\n",
    "    \n",
    "    # Plot Data and add grey mask \n",
    "    plots[model_name] = bias_model_dict[model_name].plot(ax=axs[model_name], add_labels=False, add_colorbar=False, vmin=mmin, vmax=mmax, cmap=cmap)\n",
    "    (qc_mask.where(qc_mask==0.)).plot(ax=axs[model_name], add_labels=False, add_colorbar=False, cmap=cmap_mask)\n",
    "    \n",
    "    # Check if models fail/not fail benchmarking thresholds; draw square around passing values\n",
    "    # Check NRMSE\n",
    "    if mape_score <= mape_threshold:\n",
    "        axs[model_name].text(0.06, 0.06, 'MAPE:\\n%.2f' % (mape_score), fontsize=12.0, transform=axs[model_name].transAxes,\n",
    "                            bbox=dict(facecolor='lavender', edgecolor='blueviolet',boxstyle='round'))\n",
    "            \n",
    "    elif mape_score > mape_threshold:\n",
    "        axs[model_name].text(0.06, 0.06, 'MAPE:\\n%.2f' % (mape_score), fontsize=12.0, transform=axs[model_name].transAxes)\n",
    "    \n",
    "    # Check Pattern Correlation\n",
    "    if sc_score >= sc_threshold:\n",
    "        axs[model_name].text(0.43, 0.06,'SCor:\\n%.2f' % (sc_score), fontsize=12.0, transform=axs[model_name].transAxes,\n",
    "                            bbox=dict(facecolor='lavender', edgecolor='blueviolet',boxstyle='round'))\n",
    "            \n",
    "    elif sc_score <= sc_threshold:\n",
    "        axs[model_name].text(0.43, 0.06,'SCor:\\n%.2f' % (sc_score), fontsize=12.0, transform=axs[model_name].transAxes)  \n",
    "          \n",
    "# Add coastlines and set map extent\n",
    "for ax in axs.values():\n",
    "    ax.coastlines()\n",
    "    ax.set_extent(extent)\n",
    "    #ax.add_feature(cartopy.feature.OCEAN)\n",
    "    \n",
    "\n",
    "# Add lat and long values on first column and bottom row; add empty tick marks to the rest of the plots    \n",
    "for i, ax in enumerate(fig.axes):\n",
    "    ax.set_xticks(lon_ticks, crs=ccrs.PlateCarree())\n",
    "    ax.set_yticks(lat_ticks, crs=ccrs.PlateCarree())\n",
    "    ax.xaxis.set_ticklabels([])\n",
    "    ax.yaxis.set_ticklabels([])\n",
    "    if i in lat_label:\n",
    "        ax.set_yticks(lat_ticks, crs=ccrs.PlateCarree())\n",
    "        lat_formatter = LatitudeFormatter()\n",
    "        ax.yaxis.set_major_formatter(lat_formatter)\n",
    "    elif i in lon_label:\n",
    "        ax.set_xticks(lon_ticks, crs=ccrs.PlateCarree())\n",
    "        lon_formatter = LongitudeFormatter(zero_direction_label=True)\n",
    "        ax.xaxis.set_major_formatter(lon_formatter)\n",
    "    elif i in both_label:\n",
    "        ax.set_xticks(lon_ticks, crs=ccrs.PlateCarree())\n",
    "        ax.set_yticks(lat_ticks, crs=ccrs.PlateCarree())\n",
    "        lon_formatter = LongitudeFormatter(zero_direction_label=True)\n",
    "        lat_formatter = LatitudeFormatter()\n",
    "        ax.xaxis.set_major_formatter(lon_formatter)\n",
    "        ax.yaxis.set_major_formatter(lat_formatter)\n",
    "    else:\n",
    "        continue\n",
    "\n",
    "\n",
    "# Plot colorbars\n",
    "cbar_gs = gridspec.GridSpecFromSubplotSpec(1,1, subplot_spec=gs[6,:], hspace=0.5)\n",
    "cbar_ax = fig.add_subplot(cbar_gs[0,0])\n",
    "plt.colorbar(plots['CanESM2   WRF360J'], cbar_ax, orientation='horizontal', extend='both')\n",
    "cbar_ax.set_xlabel(f\"Climatological Rainfall Bias (1976-2005) (mm/year)\",fontsize=12.0)\n",
    "\n",
    "# Plot with tight layout\n",
    "plt.tight_layout()"
   ]
  },
  {
   "cell_type": "markdown",
   "id": "7d7f60d6-5445-4af1-bc29-cc6525d1bcb7",
   "metadata": {},
   "source": [
    "## Extra code for landscape display of plots (better for PPT)"
   ]
  },
  {
   "cell_type": "code",
   "execution_count": null,
   "id": "0b4cb6c1-9592-4fcd-94ab-7ce468279ab5",
   "metadata": {
    "tags": []
   },
   "outputs": [],
   "source": [
    "# Update plot numbers that get lat and lon labels\n",
    "lat_label = [0,6,12]\n",
    "lon_label = [19,20,21,22,23]\n",
    "both_label = [18]\n",
    "\n",
    "\n",
    "# Define figure size\n",
    "fig = plt.figure(figsize=(16,11))\n",
    "fig.suptitle(f\"Climatological Rainfall Bias (1976-2005) (mm/year)\", fontsize=16, y=0.99)\n",
    "\n",
    "# Setup axes for all subplots\n",
    "gs = gridspec.GridSpec(5,6,width_ratios=[1,1,1,1,1,1], height_ratios=[1,1,1,1,0.1])\n",
    "\n",
    "row_max = 3\n",
    "col_max = 5\n",
    "row = 0\n",
    "col = 0\n",
    "\n",
    "axs = {}\n",
    "\n",
    "# Set up Axes labels (this loops through the sorted Pandas DF to assign axes positions based on wetness)\n",
    "# For Models\n",
    "for i, df_row_mod in model_weighted_avg_master_df.iterrows():\n",
    "    axs[f'{df_row_mod[1]}'] = fig.add_subplot(gs[row,col], projection=proj)\n",
    "    \n",
    "    if col == col_max:\n",
    "        row = row + 1\n",
    "        col = 0 \n",
    "    else:\n",
    "        col = col + 1\n",
    "        \n",
    "\n",
    "for name, ax in axs.items():\n",
    "    ax.set_title(name, fontsize=12)\n",
    "    \n",
    "# Plot climtologies and spatial weighted mean \n",
    "# Define empty dictionary of plots\n",
    "plots = {}\n",
    "\n",
    "\n",
    "# Plot climatology maps and add spatial weighted average for model data      \n",
    "for model_name in bias_model_dict.keys():\n",
    "    \n",
    "    # Define NRMSE and PC for each model\n",
    "    mape_score = rcm_master_metrics_df[rcm_master_metrics_df['GCM_RCM_pair'] == f'{model_name}'].iloc[0,0]\n",
    "    sc_score = rcm_master_metrics_df[rcm_master_metrics_df['GCM_RCM_pair'] == f'{model_name}'].iloc[0,1]\n",
    "    \n",
    "    # Plot Data and add grey mask \n",
    "    plots[model_name] = bias_model_dict[model_name].plot(ax=axs[model_name], add_labels=False, add_colorbar=False, vmin=mmin, vmax=mmax, cmap=cmap)\n",
    "    (mask.where(mask==0.)).plot(ax=axs[model_name], add_labels=False, add_colorbar=False, cmap='gray')\n",
    "    #axs[model_name].text(0.06, 0.06, 'NRMSE:\\n%.2f' % (nrmse_score), fontsize=12.0, transform=axs[model_name].transAxes)\n",
    "    #axs[model_name].text(0.43, 0.06,'PC:\\n%.2f' % (pc_score), transform=axs[model_name].transAxes, fontsize=12.0)\n",
    "    \n",
    "    # Check if models fail/not fail benchmarking thresholds; draw square around passing values\n",
    "    # Check NRMSE\n",
    "    if mape_score <= mape_threshold:\n",
    "        axs[model_name].text(0.06, 0.06, 'MAPE:\\n%.2f' % (mape_score), fontsize=12.0, transform=axs[model_name].transAxes,\n",
    "                            bbox=dict(facecolor='lavender', edgecolor='blueviolet', boxstyle='round'))\n",
    "            \n",
    "    elif mape_score > mape_threshold:\n",
    "        axs[model_name].text(0.06, 0.06, 'MAPE:\\n%.2f' % (mape_score), fontsize=12.0, transform=axs[model_name].transAxes)\n",
    "    \n",
    "    # Check Pattern Correlation\n",
    "    if sc_score >= sc_threshold:\n",
    "        axs[model_name].text(0.43, 0.06,'SC:\\n%.2f' % (sc_score), fontsize=12.0, transform=axs[model_name].transAxes,\n",
    "                            bbox=dict(facecolor='lavender', edgecolor='blueviolet',boxstyle='round'))\n",
    "            \n",
    "    elif sc_score <= sc_threshold:\n",
    "        axs[model_name].text(0.43, 0.06,'SC:\\n%.2f' % (sc_score), fontsize=12.0, transform=axs[model_name].transAxes) \n",
    "    \n",
    "# Add coastlines and set map extent\n",
    "for ax in axs.values():\n",
    "    ax.coastlines()\n",
    "    ax.set_extent(extent)\n",
    "\n",
    "# Add lat and long values on first column and bottom row; add empty tick marks to the rest of the plots    \n",
    "for i, ax in enumerate(fig.axes):\n",
    "    ax.set_xticks(lon_ticks, crs=ccrs.PlateCarree())\n",
    "    ax.set_yticks(lat_ticks, crs=ccrs.PlateCarree())\n",
    "    ax.xaxis.set_ticklabels([])\n",
    "    ax.yaxis.set_ticklabels([])\n",
    "    if i in lat_label:\n",
    "        ax.set_yticks(lat_ticks, crs=ccrs.PlateCarree())\n",
    "        lat_formatter = LatitudeFormatter()\n",
    "        ax.yaxis.set_major_formatter(lat_formatter)\n",
    "    elif i in lon_label:\n",
    "        ax.set_xticks(lon_ticks, crs=ccrs.PlateCarree())\n",
    "        lon_formatter = LongitudeFormatter(zero_direction_label=True)\n",
    "        ax.xaxis.set_major_formatter(lon_formatter)\n",
    "    elif i in both_label:\n",
    "        ax.set_xticks(lon_ticks, crs=ccrs.PlateCarree())\n",
    "        ax.set_yticks(lat_ticks, crs=ccrs.PlateCarree())\n",
    "        lon_formatter = LongitudeFormatter(zero_direction_label=True)\n",
    "        lat_formatter = LatitudeFormatter()\n",
    "        ax.xaxis.set_major_formatter(lon_formatter)\n",
    "        ax.yaxis.set_major_formatter(lat_formatter)\n",
    "    else:\n",
    "        continue\n",
    "\n",
    "\n",
    "# Plot colorbars\n",
    "cbar_gs = gridspec.GridSpecFromSubplotSpec(1,1, subplot_spec=gs[4,:], hspace=0.5)\n",
    "cbar_ax = fig.add_subplot(cbar_gs[0,0])\n",
    "plt.colorbar(plots['CanESM2   WRF360J'], cbar_ax, orientation='horizontal', extend='both')\n",
    "cbar_ax.set_xlabel(f\"Climatological Rainfall Bias (1976-2005) (mm/day)\",fontsize=12.0)\n",
    "\n",
    "# Plot with tight layout\n",
    "plt.tight_layout()"
   ]
  }
 ],
 "metadata": {
  "kernelspec": {
   "display_name": "Python 3 (ipykernel)",
   "language": "python",
   "name": "python3"
  },
  "language_info": {
   "codemirror_mode": {
    "name": "ipython",
    "version": 3
   },
   "file_extension": ".py",
   "mimetype": "text/x-python",
   "name": "python",
   "nbconvert_exporter": "python",
   "pygments_lexer": "ipython3",
   "version": "3.10.13"
  }
 },
 "nbformat": 4,
 "nbformat_minor": 5
}
