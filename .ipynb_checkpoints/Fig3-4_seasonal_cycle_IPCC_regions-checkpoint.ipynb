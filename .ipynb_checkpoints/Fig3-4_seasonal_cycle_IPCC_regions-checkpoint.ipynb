{
 "cells": [
  {
   "cell_type": "markdown",
   "id": "75484b8f-0f71-4c9a-b8c0-40a771b50438",
   "metadata": {},
   "source": [
    "# Monthly Average Time Series (Seasonal Cycle) - IPCC Subregions"
   ]
  },
  {
   "cell_type": "code",
   "execution_count": 1,
   "id": "a9eb32fb-da42-41d9-9450-67cb353a73fb",
   "metadata": {
    "tags": []
   },
   "outputs": [],
   "source": [
    "# Import modules\n",
    "%run /g/data/w40/ri9247/code/aus_precip_benchmarking/master_functions_bmf.ipynb\n",
    "import matplotlib as mpl\n",
    "import os\n",
    "import fnmatch\n",
    "import xarray as xr\n",
    "import numpy as np\n",
    "import datetime as dt\n",
    "import matplotlib.pyplot as plt\n",
    "import pandas as pd\n",
    "import plotly.express as px\n",
    "import plotly.graph_objects as go"
   ]
  },
  {
   "cell_type": "markdown",
   "id": "bf1e8aa8-ad16-42ee-afef-141794ed219f",
   "metadata": {},
   "source": [
    "## Define Spatiotemporal boundaries and masks"
   ]
  },
  {
   "cell_type": "code",
   "execution_count": 2,
   "id": "f3118deb-2000-40ec-9089-d38c178ee275",
   "metadata": {
    "tags": []
   },
   "outputs": [],
   "source": [
    "# Define region of interest (lat and lon boundaries for all of Australia)\n",
    "lat_slice = slice(-44.5,-10)\n",
    "lon_slice = slice(112,156.25)\n",
    "time_slice = slice(\"1976-01-01\", \"2005-12-30\")\n",
    "\n",
    "# Define temporal scale for SPI variable (1 for 3-months, 2 for 6-months, 3 for 12-months); use \"None\" if not using the SPI variable\n",
    "iscale = None\n",
    "\n",
    "# Define season as a list of month numbers. If not wanting a seasonal breakdown, use None.\n",
    "# Suggestions: Wet 6-month: [10,11,12,1,2,3]; Dry 6-month: [4,5,6,7,8,9]; Wet 3-month: [12,1,2]; Dry 3-month: [6,7,8]\n",
    "season = None \n",
    "season_name = 'Annual' \n",
    "\n",
    "# Paths to mask datasets\n",
    "mask_ds = xr.open_dataset('/g/data/w40/ri9247/CORDEX-Australasia/data/obs/AUS-44i_grid/no_indices/mask/AUS-44i_combined_quality_mask_no_oceans.nc')\n",
    "ipcc_mask_ds = xr.open_dataset('/g/data/w40/ri9247/CORDEX-Australasia/data/obs/AUS-44i_grid/no_indices/mask/AUS44i_IPCC_AUS_regions_mask.nc')\n",
    "\n",
    "# Extract masks over Australia\n",
    "qc_mask = mask_ds.station_mask.sel(lat=lat_slice, lon=lon_slice)\n",
    "ipcc_mask = ipcc_mask_ds.mask"
   ]
  },
  {
   "cell_type": "markdown",
   "id": "f2c23476-3456-4f25-a401-9e0bd299e6bc",
   "metadata": {
    "tags": []
   },
   "source": [
    "## Define Keywords for Data"
   ]
  },
  {
   "cell_type": "markdown",
   "id": "39e33a36-8ee0-4d82-884b-1a36bce4b2bc",
   "metadata": {
    "tags": []
   },
   "source": [
    "Keywords needed are bracketed {}. Model directories are set-up following: <br>\n",
    "**Climpact Indices:** <br>\n",
    "parent_directory/CORDEX-Australasia/data/{rcm-or-gcm}/{grid_type}/climpact/{historical-or-future}/{indice-keyword}/{yr-or-mon}/dataset_file.nc <br>\n",
    "**Daily Data:** <br> \n",
    "parent_directory/CORDEX-Australasia/data/{rcm-or-gcm}/{grid_type}/no_indices/dataset_file.nc <br>\n",
    "<br>\n",
    "**Keyword Options:** <br>\n",
    "model_type: 'rcm', 'gcm' <br>\n",
    "GCM grid_type: 'coarsest_gcm_grid', 'native_grid' <br>\n",
    "RCM grid_type: 'AUS-44i_grid', 'coarsest_gcm_grid', 'one_degree_gridgrid', 'native_grid' <br>\n",
    "time_period: 'historical', 'future' <br>\n",
    "variable: See list of Climpact Indices at: https://climpact-sci.org/indices; must be all-lowercase <br>\n",
    "temporal_resolution: 'yr', 'mon'"
   ]
  },
  {
   "cell_type": "markdown",
   "id": "f0abb201-c034-4dac-afb6-fb73e723e542",
   "metadata": {},
   "source": [
    "## Using Climpact"
   ]
  },
  {
   "cell_type": "code",
   "execution_count": 3,
   "id": "e01def13-f054-405d-9a02-404b2057c0c2",
   "metadata": {
    "tags": []
   },
   "outputs": [],
   "source": [
    "# Define keywords to be used with f-strings to build the path to datasets\n",
    "model_type = 'rcm'\n",
    "grid_type = 'AUS-44i_grid'\n",
    "time_period = 'historical'\n",
    "variable = 'prcptot'\n",
    "temporal_resolution = 'mon'\n",
    "obs_temporal_resolution = 'MON'\n",
    "\n",
    "# Define paths to data\n",
    "master_path = '/g/data/w40/ri9247/CORDEX-Australasia/data/'\n",
    "\n",
    "model_data_path = master_path +  f\"{model_type}/{grid_type}/climpact/{time_period}/{variable}/{temporal_resolution}/\"\n",
    "agcd_data_path = master_path + f\"obs/{grid_type}/climpact/{variable}/{variable}_{obs_temporal_resolution}_agcd_historical_v1_1950-2020.nc\""
   ]
  },
  {
   "cell_type": "markdown",
   "id": "5320cd4e-268c-4d46-87c2-c1fc44a903bd",
   "metadata": {},
   "source": [
    "## Get Pandas Dataframe with complete list of model dataset file paths"
   ]
  },
  {
   "cell_type": "code",
   "execution_count": 4,
   "id": "03ceebae-3076-481f-8c22-98ff2b55c3b3",
   "metadata": {
    "tags": []
   },
   "outputs": [
    {
     "data": {
      "text/html": [
       "<div>\n",
       "<style scoped>\n",
       "    .dataframe tbody tr th:only-of-type {\n",
       "        vertical-align: middle;\n",
       "    }\n",
       "\n",
       "    .dataframe tbody tr th {\n",
       "        vertical-align: top;\n",
       "    }\n",
       "\n",
       "    .dataframe thead th {\n",
       "        text-align: right;\n",
       "    }\n",
       "</style>\n",
       "<table border=\"1\" class=\"dataframe\">\n",
       "  <thead>\n",
       "    <tr style=\"text-align: right;\">\n",
       "      <th></th>\n",
       "      <th>rcm</th>\n",
       "      <th>driving_gcm</th>\n",
       "      <th>dataset_path</th>\n",
       "    </tr>\n",
       "  </thead>\n",
       "  <tbody>\n",
       "    <tr>\n",
       "      <th>0</th>\n",
       "      <td>RegCM4-7</td>\n",
       "      <td>MPI-ESM-MR</td>\n",
       "      <td>/g/data/w40/ri9247/CORDEX-Australasia/data/rcm/AUS-44i_grid/climpact/historical/prcptot/mon/prcptot_MON_AUS-44i_MPI-M-MPI-ESM-MR_historical_r1i1p1_ICTP-RegCM4-7_v0_day_19700101-20051231.nc</td>\n",
       "    </tr>\n",
       "    <tr>\n",
       "      <th>1</th>\n",
       "      <td>RegCM4-7</td>\n",
       "      <td>HadGEM2-ES</td>\n",
       "      <td>/g/data/w40/ri9247/CORDEX-Australasia/data/rcm/AUS-44i_grid/climpact/historical/prcptot/mon/prcptot_MON_AUS-44i_MOHC-HadGEM2-ES_historical_r1i1p1_ICTP-RegCM4-7_v0_day_19700101-20051230.nc</td>\n",
       "    </tr>\n",
       "    <tr>\n",
       "      <th>2</th>\n",
       "      <td>WRF360J</td>\n",
       "      <td>CanESM2</td>\n",
       "      <td>/g/data/w40/ri9247/CORDEX-Australasia/data/rcm/AUS-44i_grid/climpact/historical/prcptot/mon/prcptot_MON_AUS-44i_CCCma-CanESM2_historical_r1i1p1_UNSW-WRF360J_v1_day_19510101-20051231.nc</td>\n",
       "    </tr>\n",
       "    <tr>\n",
       "      <th>3</th>\n",
       "      <td>WRF360K</td>\n",
       "      <td>CanESM2</td>\n",
       "      <td>/g/data/w40/ri9247/CORDEX-Australasia/data/rcm/AUS-44i_grid/climpact/historical/prcptot/mon/prcptot_MON_AUS-44i_CCCma-CanESM2_historical_r1i1p1_UNSW-WRF360K_v1_day_19510101-20051231.nc</td>\n",
       "    </tr>\n",
       "    <tr>\n",
       "      <th>4</th>\n",
       "      <td>REMO2015</td>\n",
       "      <td>MPI-ESM-LR</td>\n",
       "      <td>/g/data/w40/ri9247/CORDEX-Australasia/data/rcm/AUS-44i_grid/climpact/historical/prcptot/mon/prcptot_MON_AUS-44i_MPI-M-MPI-ESM-LR_historical_r1i1p1_GERICS-REMO2015_v1_day_19700101-20051231.nc</td>\n",
       "    </tr>\n",
       "    <tr>\n",
       "      <th>5</th>\n",
       "      <td>REMO2015</td>\n",
       "      <td>HadGEM2-ES</td>\n",
       "      <td>/g/data/w40/ri9247/CORDEX-Australasia/data/rcm/AUS-44i_grid/climpact/historical/prcptot/mon/prcptot_MON_AUS-44i_MOHC-HadGEM2-ES_historical_r1i1p1_GERICS-REMO2015_v1_day_19700101-20051230.nc</td>\n",
       "    </tr>\n",
       "    <tr>\n",
       "      <th>6</th>\n",
       "      <td>WRF360K</td>\n",
       "      <td>ACCESS1-0</td>\n",
       "      <td>/g/data/w40/ri9247/CORDEX-Australasia/data/rcm/AUS-44i_grid/climpact/historical/prcptot/mon/prcptot_MON_AUS-44i_CSIRO-BOM-ACCESS1-0_historical_r1i1p1_UNSW-WRF360K_v1_day_19510101-20051231.nc</td>\n",
       "    </tr>\n",
       "    <tr>\n",
       "      <th>7</th>\n",
       "      <td>CCAM-2008</td>\n",
       "      <td>ACCESS1-0</td>\n",
       "      <td>/g/data/w40/ri9247/CORDEX-Australasia/data/rcm/AUS-44i_grid/climpact/historical/prcptot/mon/prcptot_MON_AUS-44i_CSIRO-BOM-ACCESS1-0_historical_r1i1p1_CSIRO-CCAM-2008_v1_day_19600101-20051231.nc</td>\n",
       "    </tr>\n",
       "    <tr>\n",
       "      <th>8</th>\n",
       "      <td>CCAM-1704</td>\n",
       "      <td>MIROC5</td>\n",
       "      <td>/g/data/w40/ri9247/CORDEX-Australasia/data/rcm/AUS-44i_grid/climpact/historical/prcptot/mon/prcptot_MON_AUS-44i_MIROC-MIROC5_historical_r1i1p1_CSIRO-CCAM-1704_v1_day_19600101-20051231.nc</td>\n",
       "    </tr>\n",
       "    <tr>\n",
       "      <th>9</th>\n",
       "      <td>REMO2015</td>\n",
       "      <td>NorESM1-M</td>\n",
       "      <td>/g/data/w40/ri9247/CORDEX-Australasia/data/rcm/AUS-44i_grid/climpact/historical/prcptot/mon/prcptot_MON_AUS-44i_NCC-NorESM1-M_historical_r1i1p1_GERICS-REMO2015_v1_day_19700101-20051231.nc</td>\n",
       "    </tr>\n",
       "    <tr>\n",
       "      <th>10</th>\n",
       "      <td>WRF360J</td>\n",
       "      <td>ACCESS1-0</td>\n",
       "      <td>/g/data/w40/ri9247/CORDEX-Australasia/data/rcm/AUS-44i_grid/climpact/historical/prcptot/mon/prcptot_MON_AUS-44i_CSIRO-BOM-ACCESS1-0_historical_r1i1p1_UNSW-WRF360J_v1_day_19510101-20051231.nc</td>\n",
       "    </tr>\n",
       "    <tr>\n",
       "      <th>11</th>\n",
       "      <td>CCAM-1704</td>\n",
       "      <td>GFDL-ESM2M</td>\n",
       "      <td>/g/data/w40/ri9247/CORDEX-Australasia/data/rcm/AUS-44i_grid/climpact/historical/prcptot/mon/prcptot_MON_AUS-44i_NOAA-GFDL-GFDL-ESM2M_historical_r1i1p1_CSIRO-CCAM-1704_v1_day_19600101-20051231.nc</td>\n",
       "    </tr>\n",
       "    <tr>\n",
       "      <th>12</th>\n",
       "      <td>CCLM5-0-15</td>\n",
       "      <td>HadGEM2-ES</td>\n",
       "      <td>/g/data/w40/ri9247/CORDEX-Australasia/data/rcm/AUS-44i_grid/climpact/historical/prcptot/mon/prcptot_MON_AUS-44i_MOHC-HadGEM2-ES_historical_r1i1p1_CLMcom-HZG-CCLM5-0-15_v1_day_19500101-20051230.nc</td>\n",
       "    </tr>\n",
       "    <tr>\n",
       "      <th>13</th>\n",
       "      <td>CCAM-2008</td>\n",
       "      <td>NorESM1-M</td>\n",
       "      <td>/g/data/w40/ri9247/CORDEX-Australasia/data/rcm/AUS-44i_grid/climpact/historical/prcptot/mon/prcptot_MON_AUS-44i_NCC-NorESM1-M_historical_r1i1p1_CSIRO-CCAM-2008_v1_day_19600101-20051231.nc</td>\n",
       "    </tr>\n",
       "    <tr>\n",
       "      <th>14</th>\n",
       "      <td>CCLM5-0-15</td>\n",
       "      <td>MPI-ESM-LR</td>\n",
       "      <td>/g/data/w40/ri9247/CORDEX-Australasia/data/rcm/AUS-44i_grid/climpact/historical/prcptot/mon/prcptot_MON_AUS-44i_MPI-M-MPI-ESM-LR_historical_r1i1p1_CLMcom-HZG-CCLM5-0-15_v1_day_19490101-20051231.nc</td>\n",
       "    </tr>\n",
       "    <tr>\n",
       "      <th>15</th>\n",
       "      <td>CCLM5-0-15</td>\n",
       "      <td>NorESM1-M</td>\n",
       "      <td>/g/data/w40/ri9247/CORDEX-Australasia/data/rcm/AUS-44i_grid/climpact/historical/prcptot/mon/prcptot_MON_AUS-44i_NCC-NorESM1-M_historical_r1i1p1_CLMcom-HZG-CCLM5-0-15_v1_day_19500101-20051231.nc</td>\n",
       "    </tr>\n",
       "    <tr>\n",
       "      <th>16</th>\n",
       "      <td>CCAM-2008</td>\n",
       "      <td>MIROC5</td>\n",
       "      <td>/g/data/w40/ri9247/CORDEX-Australasia/data/rcm/AUS-44i_grid/climpact/historical/prcptot/mon/prcptot_MON_AUS-44i_MIROC-MIROC5_historical_r1i1p1_CSIRO-CCAM-2008_v1_day_19610101-20051231.nc</td>\n",
       "    </tr>\n",
       "    <tr>\n",
       "      <th>17</th>\n",
       "      <td>CCAM-2008</td>\n",
       "      <td>GFDL-ESM2M</td>\n",
       "      <td>/g/data/w40/ri9247/CORDEX-Australasia/data/rcm/AUS-44i_grid/climpact/historical/prcptot/mon/prcptot_MON_AUS-44i_NOAA-GFDL-GFDL-ESM2M_historical_r1i1p1_CSIRO-CCAM-2008_v1_day_19600101-20051231.nc</td>\n",
       "    </tr>\n",
       "    <tr>\n",
       "      <th>18</th>\n",
       "      <td>CCAM-1704</td>\n",
       "      <td>HadGEM2-CC</td>\n",
       "      <td>/g/data/w40/ri9247/CORDEX-Australasia/data/rcm/AUS-44i_grid/climpact/historical/prcptot/mon/prcptot_MON_AUS-44i_MOHC-HadGEM2-CC_historical_r1i1p1_CSIRO-CCAM-1704_v1_day_19600101-20051231.nc</td>\n",
       "    </tr>\n",
       "    <tr>\n",
       "      <th>19</th>\n",
       "      <td>CCAM-1704</td>\n",
       "      <td>CNRM-CM5</td>\n",
       "      <td>/g/data/w40/ri9247/CORDEX-Australasia/data/rcm/AUS-44i_grid/climpact/historical/prcptot/mon/prcptot_MON_AUS-44i_CNRM-CERFACS-CNRM-CM5_historical_r1i1p1_CSIRO-CCAM-1704_v1_day_19600101-20051231.nc</td>\n",
       "    </tr>\n",
       "    <tr>\n",
       "      <th>20</th>\n",
       "      <td>RegCM4-7</td>\n",
       "      <td>NorESM1-M</td>\n",
       "      <td>/g/data/w40/ri9247/CORDEX-Australasia/data/rcm/AUS-44i_grid/climpact/historical/prcptot/mon/prcptot_MON_AUS-44i_NCC-NorESM1-M_historical_r1i1p1_ICTP-RegCM4-7_v0_day_19700101-20051231.nc</td>\n",
       "    </tr>\n",
       "    <tr>\n",
       "      <th>21</th>\n",
       "      <td>CCAM-1704</td>\n",
       "      <td>NorESM1-M</td>\n",
       "      <td>/g/data/w40/ri9247/CORDEX-Australasia/data/rcm/AUS-44i_grid/climpact/historical/prcptot/mon/prcptot_MON_AUS-44i_NCC-NorESM1-M_historical_r1i1p1_CSIRO-CCAM-1704_v1_day_19600101-20051231.nc</td>\n",
       "    </tr>\n",
       "    <tr>\n",
       "      <th>22</th>\n",
       "      <td>CCAM-1704</td>\n",
       "      <td>ACCESS1-0</td>\n",
       "      <td>/g/data/w40/ri9247/CORDEX-Australasia/data/rcm/AUS-44i_grid/climpact/historical/prcptot/mon/prcptot_MON_AUS-44i_CSIRO-BOM-ACCESS1-0_historical_r1i1p1_CSIRO-CCAM-1704_v1_day_19600101-20051231.nc</td>\n",
       "    </tr>\n",
       "    <tr>\n",
       "      <th>23</th>\n",
       "      <td>CCAM-2008</td>\n",
       "      <td>CanESM2</td>\n",
       "      <td>/g/data/w40/ri9247/CORDEX-Australasia/data/rcm/AUS-44i_grid/climpact/historical/prcptot/mon/prcptot_MON_AUS-44i_CCCma-CanESM2_historical_r1i1p1_CSIRO-CCAM-2008_v1_day_19600101-20051231.nc</td>\n",
       "    </tr>\n",
       "  </tbody>\n",
       "</table>\n",
       "</div>"
      ],
      "text/plain": [
       "           rcm driving_gcm  \\\n",
       "0     RegCM4-7  MPI-ESM-MR   \n",
       "1     RegCM4-7  HadGEM2-ES   \n",
       "2      WRF360J     CanESM2   \n",
       "3      WRF360K     CanESM2   \n",
       "4     REMO2015  MPI-ESM-LR   \n",
       "5     REMO2015  HadGEM2-ES   \n",
       "6      WRF360K   ACCESS1-0   \n",
       "7    CCAM-2008   ACCESS1-0   \n",
       "8    CCAM-1704      MIROC5   \n",
       "9     REMO2015   NorESM1-M   \n",
       "10     WRF360J   ACCESS1-0   \n",
       "11   CCAM-1704  GFDL-ESM2M   \n",
       "12  CCLM5-0-15  HadGEM2-ES   \n",
       "13   CCAM-2008   NorESM1-M   \n",
       "14  CCLM5-0-15  MPI-ESM-LR   \n",
       "15  CCLM5-0-15   NorESM1-M   \n",
       "16   CCAM-2008      MIROC5   \n",
       "17   CCAM-2008  GFDL-ESM2M   \n",
       "18   CCAM-1704  HadGEM2-CC   \n",
       "19   CCAM-1704    CNRM-CM5   \n",
       "20    RegCM4-7   NorESM1-M   \n",
       "21   CCAM-1704   NorESM1-M   \n",
       "22   CCAM-1704   ACCESS1-0   \n",
       "23   CCAM-2008     CanESM2   \n",
       "\n",
       "                                                                                                                                                                                            dataset_path  \n",
       "0           /g/data/w40/ri9247/CORDEX-Australasia/data/rcm/AUS-44i_grid/climpact/historical/prcptot/mon/prcptot_MON_AUS-44i_MPI-M-MPI-ESM-MR_historical_r1i1p1_ICTP-RegCM4-7_v0_day_19700101-20051231.nc  \n",
       "1            /g/data/w40/ri9247/CORDEX-Australasia/data/rcm/AUS-44i_grid/climpact/historical/prcptot/mon/prcptot_MON_AUS-44i_MOHC-HadGEM2-ES_historical_r1i1p1_ICTP-RegCM4-7_v0_day_19700101-20051230.nc  \n",
       "2               /g/data/w40/ri9247/CORDEX-Australasia/data/rcm/AUS-44i_grid/climpact/historical/prcptot/mon/prcptot_MON_AUS-44i_CCCma-CanESM2_historical_r1i1p1_UNSW-WRF360J_v1_day_19510101-20051231.nc  \n",
       "3               /g/data/w40/ri9247/CORDEX-Australasia/data/rcm/AUS-44i_grid/climpact/historical/prcptot/mon/prcptot_MON_AUS-44i_CCCma-CanESM2_historical_r1i1p1_UNSW-WRF360K_v1_day_19510101-20051231.nc  \n",
       "4         /g/data/w40/ri9247/CORDEX-Australasia/data/rcm/AUS-44i_grid/climpact/historical/prcptot/mon/prcptot_MON_AUS-44i_MPI-M-MPI-ESM-LR_historical_r1i1p1_GERICS-REMO2015_v1_day_19700101-20051231.nc  \n",
       "5          /g/data/w40/ri9247/CORDEX-Australasia/data/rcm/AUS-44i_grid/climpact/historical/prcptot/mon/prcptot_MON_AUS-44i_MOHC-HadGEM2-ES_historical_r1i1p1_GERICS-REMO2015_v1_day_19700101-20051230.nc  \n",
       "6         /g/data/w40/ri9247/CORDEX-Australasia/data/rcm/AUS-44i_grid/climpact/historical/prcptot/mon/prcptot_MON_AUS-44i_CSIRO-BOM-ACCESS1-0_historical_r1i1p1_UNSW-WRF360K_v1_day_19510101-20051231.nc  \n",
       "7      /g/data/w40/ri9247/CORDEX-Australasia/data/rcm/AUS-44i_grid/climpact/historical/prcptot/mon/prcptot_MON_AUS-44i_CSIRO-BOM-ACCESS1-0_historical_r1i1p1_CSIRO-CCAM-2008_v1_day_19600101-20051231.nc  \n",
       "8             /g/data/w40/ri9247/CORDEX-Australasia/data/rcm/AUS-44i_grid/climpact/historical/prcptot/mon/prcptot_MON_AUS-44i_MIROC-MIROC5_historical_r1i1p1_CSIRO-CCAM-1704_v1_day_19600101-20051231.nc  \n",
       "9            /g/data/w40/ri9247/CORDEX-Australasia/data/rcm/AUS-44i_grid/climpact/historical/prcptot/mon/prcptot_MON_AUS-44i_NCC-NorESM1-M_historical_r1i1p1_GERICS-REMO2015_v1_day_19700101-20051231.nc  \n",
       "10        /g/data/w40/ri9247/CORDEX-Australasia/data/rcm/AUS-44i_grid/climpact/historical/prcptot/mon/prcptot_MON_AUS-44i_CSIRO-BOM-ACCESS1-0_historical_r1i1p1_UNSW-WRF360J_v1_day_19510101-20051231.nc  \n",
       "11    /g/data/w40/ri9247/CORDEX-Australasia/data/rcm/AUS-44i_grid/climpact/historical/prcptot/mon/prcptot_MON_AUS-44i_NOAA-GFDL-GFDL-ESM2M_historical_r1i1p1_CSIRO-CCAM-1704_v1_day_19600101-20051231.nc  \n",
       "12   /g/data/w40/ri9247/CORDEX-Australasia/data/rcm/AUS-44i_grid/climpact/historical/prcptot/mon/prcptot_MON_AUS-44i_MOHC-HadGEM2-ES_historical_r1i1p1_CLMcom-HZG-CCLM5-0-15_v1_day_19500101-20051230.nc  \n",
       "13           /g/data/w40/ri9247/CORDEX-Australasia/data/rcm/AUS-44i_grid/climpact/historical/prcptot/mon/prcptot_MON_AUS-44i_NCC-NorESM1-M_historical_r1i1p1_CSIRO-CCAM-2008_v1_day_19600101-20051231.nc  \n",
       "14  /g/data/w40/ri9247/CORDEX-Australasia/data/rcm/AUS-44i_grid/climpact/historical/prcptot/mon/prcptot_MON_AUS-44i_MPI-M-MPI-ESM-LR_historical_r1i1p1_CLMcom-HZG-CCLM5-0-15_v1_day_19490101-20051231.nc  \n",
       "15     /g/data/w40/ri9247/CORDEX-Australasia/data/rcm/AUS-44i_grid/climpact/historical/prcptot/mon/prcptot_MON_AUS-44i_NCC-NorESM1-M_historical_r1i1p1_CLMcom-HZG-CCLM5-0-15_v1_day_19500101-20051231.nc  \n",
       "16            /g/data/w40/ri9247/CORDEX-Australasia/data/rcm/AUS-44i_grid/climpact/historical/prcptot/mon/prcptot_MON_AUS-44i_MIROC-MIROC5_historical_r1i1p1_CSIRO-CCAM-2008_v1_day_19610101-20051231.nc  \n",
       "17    /g/data/w40/ri9247/CORDEX-Australasia/data/rcm/AUS-44i_grid/climpact/historical/prcptot/mon/prcptot_MON_AUS-44i_NOAA-GFDL-GFDL-ESM2M_historical_r1i1p1_CSIRO-CCAM-2008_v1_day_19600101-20051231.nc  \n",
       "18         /g/data/w40/ri9247/CORDEX-Australasia/data/rcm/AUS-44i_grid/climpact/historical/prcptot/mon/prcptot_MON_AUS-44i_MOHC-HadGEM2-CC_historical_r1i1p1_CSIRO-CCAM-1704_v1_day_19600101-20051231.nc  \n",
       "19   /g/data/w40/ri9247/CORDEX-Australasia/data/rcm/AUS-44i_grid/climpact/historical/prcptot/mon/prcptot_MON_AUS-44i_CNRM-CERFACS-CNRM-CM5_historical_r1i1p1_CSIRO-CCAM-1704_v1_day_19600101-20051231.nc  \n",
       "20             /g/data/w40/ri9247/CORDEX-Australasia/data/rcm/AUS-44i_grid/climpact/historical/prcptot/mon/prcptot_MON_AUS-44i_NCC-NorESM1-M_historical_r1i1p1_ICTP-RegCM4-7_v0_day_19700101-20051231.nc  \n",
       "21           /g/data/w40/ri9247/CORDEX-Australasia/data/rcm/AUS-44i_grid/climpact/historical/prcptot/mon/prcptot_MON_AUS-44i_NCC-NorESM1-M_historical_r1i1p1_CSIRO-CCAM-1704_v1_day_19600101-20051231.nc  \n",
       "22     /g/data/w40/ri9247/CORDEX-Australasia/data/rcm/AUS-44i_grid/climpact/historical/prcptot/mon/prcptot_MON_AUS-44i_CSIRO-BOM-ACCESS1-0_historical_r1i1p1_CSIRO-CCAM-1704_v1_day_19600101-20051231.nc  \n",
       "23           /g/data/w40/ri9247/CORDEX-Australasia/data/rcm/AUS-44i_grid/climpact/historical/prcptot/mon/prcptot_MON_AUS-44i_CCCma-CanESM2_historical_r1i1p1_CSIRO-CCAM-2008_v1_day_19600101-20051231.nc  "
      ]
     },
     "execution_count": 4,
     "metadata": {},
     "output_type": "execute_result"
    }
   ],
   "source": [
    "model_paths = get_model_files(model_data_path)\n",
    "\n",
    "# Check that we're grabbing the correct files\n",
    "pd.set_option('display.max_colwidth', None)\n",
    "model_paths"
   ]
  },
  {
   "cell_type": "markdown",
   "id": "b5307701-c755-42d1-b55d-abd7613775d9",
   "metadata": {
    "tags": []
   },
   "source": [
    "## Get Monthly Averages for Model Data and Store in Pandas Dataframe"
   ]
  },
  {
   "cell_type": "code",
   "execution_count": 14,
   "id": "a7601714-bd31-4c12-ac76-4edca73fed71",
   "metadata": {
    "tags": []
   },
   "outputs": [
    {
     "data": {
      "text/html": [
       "<div>\n",
       "<style scoped>\n",
       "    .dataframe tbody tr th:only-of-type {\n",
       "        vertical-align: middle;\n",
       "    }\n",
       "\n",
       "    .dataframe tbody tr th {\n",
       "        vertical-align: top;\n",
       "    }\n",
       "\n",
       "    .dataframe thead th {\n",
       "        text-align: right;\n",
       "    }\n",
       "</style>\n",
       "<table border=\"1\" class=\"dataframe\">\n",
       "  <thead>\n",
       "    <tr style=\"text-align: right;\">\n",
       "      <th></th>\n",
       "      <th>month</th>\n",
       "      <th>prcptot</th>\n",
       "      <th>RCM_GCM_pair</th>\n",
       "      <th>rcm</th>\n",
       "      <th>driving_gcm</th>\n",
       "    </tr>\n",
       "  </thead>\n",
       "  <tbody>\n",
       "    <tr>\n",
       "      <th>1</th>\n",
       "      <td>Jan</td>\n",
       "      <td>33.030255</td>\n",
       "      <td>CCAM-1704 ACCESS1-0</td>\n",
       "      <td>CCAM-1704</td>\n",
       "      <td>ACCESS1-0</td>\n",
       "    </tr>\n",
       "    <tr>\n",
       "      <th>2</th>\n",
       "      <td>Feb</td>\n",
       "      <td>44.488362</td>\n",
       "      <td>CCAM-1704 ACCESS1-0</td>\n",
       "      <td>CCAM-1704</td>\n",
       "      <td>ACCESS1-0</td>\n",
       "    </tr>\n",
       "    <tr>\n",
       "      <th>3</th>\n",
       "      <td>Mar</td>\n",
       "      <td>42.407061</td>\n",
       "      <td>CCAM-1704 ACCESS1-0</td>\n",
       "      <td>CCAM-1704</td>\n",
       "      <td>ACCESS1-0</td>\n",
       "    </tr>\n",
       "    <tr>\n",
       "      <th>4</th>\n",
       "      <td>Apr</td>\n",
       "      <td>33.193657</td>\n",
       "      <td>CCAM-1704 ACCESS1-0</td>\n",
       "      <td>CCAM-1704</td>\n",
       "      <td>ACCESS1-0</td>\n",
       "    </tr>\n",
       "    <tr>\n",
       "      <th>5</th>\n",
       "      <td>May</td>\n",
       "      <td>39.122688</td>\n",
       "      <td>CCAM-1704 ACCESS1-0</td>\n",
       "      <td>CCAM-1704</td>\n",
       "      <td>ACCESS1-0</td>\n",
       "    </tr>\n",
       "    <tr>\n",
       "      <th>...</th>\n",
       "      <td>...</td>\n",
       "      <td>...</td>\n",
       "      <td>...</td>\n",
       "      <td>...</td>\n",
       "      <td>...</td>\n",
       "    </tr>\n",
       "    <tr>\n",
       "      <th>8</th>\n",
       "      <td>Aug</td>\n",
       "      <td>45.498208</td>\n",
       "      <td>WRF360K CanESM2</td>\n",
       "      <td>WRF360K</td>\n",
       "      <td>CanESM2</td>\n",
       "    </tr>\n",
       "    <tr>\n",
       "      <th>9</th>\n",
       "      <td>Sep</td>\n",
       "      <td>40.302357</td>\n",
       "      <td>WRF360K CanESM2</td>\n",
       "      <td>WRF360K</td>\n",
       "      <td>CanESM2</td>\n",
       "    </tr>\n",
       "    <tr>\n",
       "      <th>10</th>\n",
       "      <td>Oct</td>\n",
       "      <td>34.860482</td>\n",
       "      <td>WRF360K CanESM2</td>\n",
       "      <td>WRF360K</td>\n",
       "      <td>CanESM2</td>\n",
       "    </tr>\n",
       "    <tr>\n",
       "      <th>11</th>\n",
       "      <td>Nov</td>\n",
       "      <td>29.629055</td>\n",
       "      <td>WRF360K CanESM2</td>\n",
       "      <td>WRF360K</td>\n",
       "      <td>CanESM2</td>\n",
       "    </tr>\n",
       "    <tr>\n",
       "      <th>12</th>\n",
       "      <td>Dec</td>\n",
       "      <td>26.676726</td>\n",
       "      <td>WRF360K CanESM2</td>\n",
       "      <td>WRF360K</td>\n",
       "      <td>CanESM2</td>\n",
       "    </tr>\n",
       "  </tbody>\n",
       "</table>\n",
       "<p>288 rows × 5 columns</p>\n",
       "</div>"
      ],
      "text/plain": [
       "   month    prcptot         RCM_GCM_pair        rcm driving_gcm\n",
       "1    Jan  33.030255  CCAM-1704 ACCESS1-0  CCAM-1704   ACCESS1-0\n",
       "2    Feb  44.488362  CCAM-1704 ACCESS1-0  CCAM-1704   ACCESS1-0\n",
       "3    Mar  42.407061  CCAM-1704 ACCESS1-0  CCAM-1704   ACCESS1-0\n",
       "4    Apr  33.193657  CCAM-1704 ACCESS1-0  CCAM-1704   ACCESS1-0\n",
       "5    May  39.122688  CCAM-1704 ACCESS1-0  CCAM-1704   ACCESS1-0\n",
       "..   ...        ...                  ...        ...         ...\n",
       "8    Aug  45.498208      WRF360K CanESM2    WRF360K     CanESM2\n",
       "9    Sep  40.302357      WRF360K CanESM2    WRF360K     CanESM2\n",
       "10   Oct  34.860482      WRF360K CanESM2    WRF360K     CanESM2\n",
       "11   Nov  29.629055      WRF360K CanESM2    WRF360K     CanESM2\n",
       "12   Dec  26.676726      WRF360K CanESM2    WRF360K     CanESM2\n",
       "\n",
       "[288 rows x 5 columns]"
      ]
     },
     "execution_count": 14,
     "metadata": {},
     "output_type": "execute_result"
    }
   ],
   "source": [
    "# No unit conversion needed\n",
    "data_type = \"model_climpact\"\n",
    "\n",
    "rcm_master_timeseries_df = pd.DataFrame(columns=[\"month\", f\"{variable}\", 'RCM_GCM_pair', \"rcm\", \"driving_gcm\"])\n",
    "\n",
    "# Loop through models and get monthly averages\n",
    "for i, row in model_paths.iterrows(): \n",
    "    \n",
    "    # Get timeseries data\n",
    "    timeseries_xr = get_monthly_averages(row[2], variable, time_slice, lat_slice, lon_slice, data_type, iscale, qc_mask, ipcc_mask,42)\n",
    "\n",
    "    # Convert the resulting xarray to a pandas df\n",
    "    model_timeseries_df = timeseries_xr.to_dataframe()    \n",
    "    \n",
    "    # Add month column\n",
    "    model_timeseries_df['month'] = model_timeseries_df.index\n",
    "    model_timeseries_df['rcm'] = row[0]\n",
    "    model_timeseries_df['driving_gcm'] = row[1]\n",
    "    model_timeseries_df['RCM_GCM_pair'] = f'{row[0]} {row[1]}'\n",
    "    \n",
    "    # Append the master time series \n",
    "    rcm_master_timeseries_df = pd.concat([rcm_master_timeseries_df, model_timeseries_df])\n",
    "\n",
    "# Sort the values based on the RCM-GCM and the month\n",
    "rcm_master_timeseries_df = rcm_master_timeseries_df.sort_values([\"RCM_GCM_pair\", \"month\"], ascending=True) \n",
    "\n",
    "# Change the numerical month to the name of the month for a nicer plot below\n",
    "rcm_master_timeseries_df['month'] = pd.to_datetime(rcm_master_timeseries_df['month'], format='%m').dt.month_name().str.slice(stop=3)\n",
    "rcm_master_timeseries_df"
   ]
  },
  {
   "cell_type": "markdown",
   "id": "4e1f3846-5ad6-4aec-a5b9-8d0906399a84",
   "metadata": {},
   "source": [
    "## Use Pivot Table to reorganize dataframe for quick ranking table"
   ]
  },
  {
   "cell_type": "code",
   "execution_count": 15,
   "id": "be30bb12-baef-463b-9ed2-c81c50c954d8",
   "metadata": {
    "tags": []
   },
   "outputs": [
    {
     "data": {
      "text/html": [
       "<div>\n",
       "<style scoped>\n",
       "    .dataframe tbody tr th:only-of-type {\n",
       "        vertical-align: middle;\n",
       "    }\n",
       "\n",
       "    .dataframe tbody tr th {\n",
       "        vertical-align: top;\n",
       "    }\n",
       "\n",
       "    .dataframe thead th {\n",
       "        text-align: right;\n",
       "    }\n",
       "</style>\n",
       "<table border=\"1\" class=\"dataframe\">\n",
       "  <thead>\n",
       "    <tr style=\"text-align: right;\">\n",
       "      <th>month</th>\n",
       "      <th>Apr</th>\n",
       "      <th>Aug</th>\n",
       "      <th>Dec</th>\n",
       "      <th>Feb</th>\n",
       "      <th>Jan</th>\n",
       "      <th>Jul</th>\n",
       "      <th>Jun</th>\n",
       "      <th>Mar</th>\n",
       "      <th>May</th>\n",
       "      <th>Nov</th>\n",
       "      <th>Oct</th>\n",
       "      <th>Sep</th>\n",
       "    </tr>\n",
       "    <tr>\n",
       "      <th>RCM_GCM_pair</th>\n",
       "      <th></th>\n",
       "      <th></th>\n",
       "      <th></th>\n",
       "      <th></th>\n",
       "      <th></th>\n",
       "      <th></th>\n",
       "      <th></th>\n",
       "      <th></th>\n",
       "      <th></th>\n",
       "      <th></th>\n",
       "      <th></th>\n",
       "      <th></th>\n",
       "    </tr>\n",
       "  </thead>\n",
       "  <tbody>\n",
       "    <tr>\n",
       "      <th>CCAM-1704 ACCESS1-0</th>\n",
       "      <td>33.193657</td>\n",
       "      <td>50.022298</td>\n",
       "      <td>27.489755</td>\n",
       "      <td>44.488362</td>\n",
       "      <td>33.030255</td>\n",
       "      <td>49.732027</td>\n",
       "      <td>41.963969</td>\n",
       "      <td>42.407061</td>\n",
       "      <td>39.122688</td>\n",
       "      <td>32.708068</td>\n",
       "      <td>40.338481</td>\n",
       "      <td>33.182985</td>\n",
       "    </tr>\n",
       "    <tr>\n",
       "      <th>CCAM-1704 CNRM-CM5</th>\n",
       "      <td>35.903895</td>\n",
       "      <td>49.208173</td>\n",
       "      <td>34.730248</td>\n",
       "      <td>37.362945</td>\n",
       "      <td>30.027207</td>\n",
       "      <td>54.981375</td>\n",
       "      <td>42.935880</td>\n",
       "      <td>42.068762</td>\n",
       "      <td>41.038726</td>\n",
       "      <td>39.062647</td>\n",
       "      <td>32.732897</td>\n",
       "      <td>35.954603</td>\n",
       "    </tr>\n",
       "    <tr>\n",
       "      <th>CCAM-1704 GFDL-ESM2M</th>\n",
       "      <td>31.638391</td>\n",
       "      <td>49.872747</td>\n",
       "      <td>30.331825</td>\n",
       "      <td>43.636058</td>\n",
       "      <td>30.123103</td>\n",
       "      <td>54.359175</td>\n",
       "      <td>45.513986</td>\n",
       "      <td>43.520872</td>\n",
       "      <td>39.425470</td>\n",
       "      <td>29.407940</td>\n",
       "      <td>30.380494</td>\n",
       "      <td>39.736302</td>\n",
       "    </tr>\n",
       "    <tr>\n",
       "      <th>CCAM-1704 HadGEM2-CC</th>\n",
       "      <td>32.608270</td>\n",
       "      <td>45.723354</td>\n",
       "      <td>30.376439</td>\n",
       "      <td>33.450877</td>\n",
       "      <td>36.013188</td>\n",
       "      <td>55.194909</td>\n",
       "      <td>43.132566</td>\n",
       "      <td>36.730498</td>\n",
       "      <td>38.688228</td>\n",
       "      <td>36.377366</td>\n",
       "      <td>35.860534</td>\n",
       "      <td>33.839599</td>\n",
       "    </tr>\n",
       "    <tr>\n",
       "      <th>CCAM-1704 MIROC5</th>\n",
       "      <td>39.913747</td>\n",
       "      <td>42.982663</td>\n",
       "      <td>31.641088</td>\n",
       "      <td>40.067432</td>\n",
       "      <td>41.791743</td>\n",
       "      <td>53.299231</td>\n",
       "      <td>50.025755</td>\n",
       "      <td>49.759379</td>\n",
       "      <td>44.444215</td>\n",
       "      <td>36.923408</td>\n",
       "      <td>39.167537</td>\n",
       "      <td>34.119843</td>\n",
       "    </tr>\n",
       "    <tr>\n",
       "      <th>CCAM-1704 NorESM1-M</th>\n",
       "      <td>36.433501</td>\n",
       "      <td>44.770045</td>\n",
       "      <td>27.918309</td>\n",
       "      <td>46.811882</td>\n",
       "      <td>40.060669</td>\n",
       "      <td>54.119430</td>\n",
       "      <td>47.866208</td>\n",
       "      <td>39.517208</td>\n",
       "      <td>48.659112</td>\n",
       "      <td>27.464741</td>\n",
       "      <td>41.950566</td>\n",
       "      <td>34.836952</td>\n",
       "    </tr>\n",
       "    <tr>\n",
       "      <th>CCAM-2008 ACCESS1-0</th>\n",
       "      <td>35.729405</td>\n",
       "      <td>47.428279</td>\n",
       "      <td>47.160520</td>\n",
       "      <td>44.683237</td>\n",
       "      <td>39.921307</td>\n",
       "      <td>46.027507</td>\n",
       "      <td>42.861144</td>\n",
       "      <td>34.449548</td>\n",
       "      <td>34.381796</td>\n",
       "      <td>44.544354</td>\n",
       "      <td>39.014419</td>\n",
       "      <td>35.501520</td>\n",
       "    </tr>\n",
       "    <tr>\n",
       "      <th>CCAM-2008 CanESM2</th>\n",
       "      <td>40.776773</td>\n",
       "      <td>47.067281</td>\n",
       "      <td>53.173960</td>\n",
       "      <td>50.638375</td>\n",
       "      <td>51.155117</td>\n",
       "      <td>54.897744</td>\n",
       "      <td>49.371259</td>\n",
       "      <td>47.683559</td>\n",
       "      <td>45.594998</td>\n",
       "      <td>56.159864</td>\n",
       "      <td>46.334667</td>\n",
       "      <td>45.075879</td>\n",
       "    </tr>\n",
       "    <tr>\n",
       "      <th>CCAM-2008 GFDL-ESM2M</th>\n",
       "      <td>29.646104</td>\n",
       "      <td>39.569668</td>\n",
       "      <td>38.299283</td>\n",
       "      <td>42.278297</td>\n",
       "      <td>46.632240</td>\n",
       "      <td>48.695115</td>\n",
       "      <td>49.817987</td>\n",
       "      <td>42.753004</td>\n",
       "      <td>37.870975</td>\n",
       "      <td>32.650570</td>\n",
       "      <td>32.345611</td>\n",
       "      <td>34.406477</td>\n",
       "    </tr>\n",
       "    <tr>\n",
       "      <th>CCAM-2008 MIROC5</th>\n",
       "      <td>31.473650</td>\n",
       "      <td>57.279940</td>\n",
       "      <td>32.464337</td>\n",
       "      <td>36.092609</td>\n",
       "      <td>36.831540</td>\n",
       "      <td>55.593456</td>\n",
       "      <td>51.824989</td>\n",
       "      <td>37.059281</td>\n",
       "      <td>36.691290</td>\n",
       "      <td>26.867351</td>\n",
       "      <td>37.494677</td>\n",
       "      <td>47.665250</td>\n",
       "    </tr>\n",
       "    <tr>\n",
       "      <th>CCAM-2008 NorESM1-M</th>\n",
       "      <td>18.107973</td>\n",
       "      <td>37.630429</td>\n",
       "      <td>18.336270</td>\n",
       "      <td>34.640996</td>\n",
       "      <td>28.111703</td>\n",
       "      <td>38.024107</td>\n",
       "      <td>28.737952</td>\n",
       "      <td>27.914731</td>\n",
       "      <td>21.658381</td>\n",
       "      <td>14.264350</td>\n",
       "      <td>16.785411</td>\n",
       "      <td>27.981581</td>\n",
       "    </tr>\n",
       "    <tr>\n",
       "      <th>CCLM5-0-15 HadGEM2-ES</th>\n",
       "      <td>28.770579</td>\n",
       "      <td>37.503736</td>\n",
       "      <td>26.467642</td>\n",
       "      <td>35.984424</td>\n",
       "      <td>28.306703</td>\n",
       "      <td>39.016505</td>\n",
       "      <td>38.044990</td>\n",
       "      <td>37.350202</td>\n",
       "      <td>31.954175</td>\n",
       "      <td>23.614043</td>\n",
       "      <td>25.710865</td>\n",
       "      <td>31.829865</td>\n",
       "    </tr>\n",
       "    <tr>\n",
       "      <th>CCLM5-0-15 MPI-ESM-LR</th>\n",
       "      <td>19.202341</td>\n",
       "      <td>45.931066</td>\n",
       "      <td>26.101194</td>\n",
       "      <td>27.681186</td>\n",
       "      <td>29.243186</td>\n",
       "      <td>46.935752</td>\n",
       "      <td>47.827889</td>\n",
       "      <td>24.358514</td>\n",
       "      <td>36.035262</td>\n",
       "      <td>29.996104</td>\n",
       "      <td>33.131561</td>\n",
       "      <td>35.089751</td>\n",
       "    </tr>\n",
       "    <tr>\n",
       "      <th>CCLM5-0-15 NorESM1-M</th>\n",
       "      <td>22.720668</td>\n",
       "      <td>43.268382</td>\n",
       "      <td>27.326608</td>\n",
       "      <td>21.642398</td>\n",
       "      <td>25.657465</td>\n",
       "      <td>34.111060</td>\n",
       "      <td>27.814599</td>\n",
       "      <td>24.968044</td>\n",
       "      <td>26.340700</td>\n",
       "      <td>27.945275</td>\n",
       "      <td>30.792255</td>\n",
       "      <td>38.629275</td>\n",
       "    </tr>\n",
       "    <tr>\n",
       "      <th>REMO2015 HadGEM2-ES</th>\n",
       "      <td>26.176612</td>\n",
       "      <td>48.768799</td>\n",
       "      <td>29.181523</td>\n",
       "      <td>27.890308</td>\n",
       "      <td>25.418184</td>\n",
       "      <td>49.809647</td>\n",
       "      <td>48.226632</td>\n",
       "      <td>28.855918</td>\n",
       "      <td>37.504604</td>\n",
       "      <td>30.098687</td>\n",
       "      <td>33.055485</td>\n",
       "      <td>39.535365</td>\n",
       "    </tr>\n",
       "    <tr>\n",
       "      <th>REMO2015 MPI-ESM-LR</th>\n",
       "      <td>20.470716</td>\n",
       "      <td>51.099454</td>\n",
       "      <td>21.354346</td>\n",
       "      <td>21.028383</td>\n",
       "      <td>23.444798</td>\n",
       "      <td>53.862446</td>\n",
       "      <td>53.383568</td>\n",
       "      <td>22.274609</td>\n",
       "      <td>43.064901</td>\n",
       "      <td>26.381118</td>\n",
       "      <td>33.521213</td>\n",
       "      <td>39.447003</td>\n",
       "    </tr>\n",
       "    <tr>\n",
       "      <th>REMO2015 NorESM1-M</th>\n",
       "      <td>27.401853</td>\n",
       "      <td>48.967721</td>\n",
       "      <td>29.143566</td>\n",
       "      <td>23.794383</td>\n",
       "      <td>28.851753</td>\n",
       "      <td>43.498553</td>\n",
       "      <td>33.159482</td>\n",
       "      <td>23.338082</td>\n",
       "      <td>30.072454</td>\n",
       "      <td>33.020160</td>\n",
       "      <td>35.003588</td>\n",
       "      <td>44.711132</td>\n",
       "    </tr>\n",
       "    <tr>\n",
       "      <th>RegCM4-7 HadGEM2-ES</th>\n",
       "      <td>63.802911</td>\n",
       "      <td>75.563148</td>\n",
       "      <td>70.242994</td>\n",
       "      <td>68.512302</td>\n",
       "      <td>74.438938</td>\n",
       "      <td>79.030985</td>\n",
       "      <td>82.984072</td>\n",
       "      <td>64.352896</td>\n",
       "      <td>74.924320</td>\n",
       "      <td>56.293614</td>\n",
       "      <td>55.499044</td>\n",
       "      <td>57.614629</td>\n",
       "    </tr>\n",
       "    <tr>\n",
       "      <th>RegCM4-7 MPI-ESM-MR</th>\n",
       "      <td>41.607402</td>\n",
       "      <td>79.713628</td>\n",
       "      <td>50.481844</td>\n",
       "      <td>48.387297</td>\n",
       "      <td>59.624269</td>\n",
       "      <td>90.769439</td>\n",
       "      <td>86.253454</td>\n",
       "      <td>51.548856</td>\n",
       "      <td>69.032753</td>\n",
       "      <td>53.690983</td>\n",
       "      <td>55.600035</td>\n",
       "      <td>68.458530</td>\n",
       "    </tr>\n",
       "    <tr>\n",
       "      <th>RegCM4-7 NorESM1-M</th>\n",
       "      <td>50.786989</td>\n",
       "      <td>76.444146</td>\n",
       "      <td>68.162302</td>\n",
       "      <td>52.036276</td>\n",
       "      <td>70.699427</td>\n",
       "      <td>68.781655</td>\n",
       "      <td>62.229578</td>\n",
       "      <td>52.468887</td>\n",
       "      <td>62.150036</td>\n",
       "      <td>66.782282</td>\n",
       "      <td>60.153257</td>\n",
       "      <td>71.433863</td>\n",
       "    </tr>\n",
       "    <tr>\n",
       "      <th>WRF360J ACCESS1-0</th>\n",
       "      <td>40.685261</td>\n",
       "      <td>47.117472</td>\n",
       "      <td>40.599938</td>\n",
       "      <td>41.904370</td>\n",
       "      <td>38.770110</td>\n",
       "      <td>41.786716</td>\n",
       "      <td>40.118643</td>\n",
       "      <td>38.624022</td>\n",
       "      <td>35.327420</td>\n",
       "      <td>42.703085</td>\n",
       "      <td>42.668628</td>\n",
       "      <td>43.696776</td>\n",
       "    </tr>\n",
       "    <tr>\n",
       "      <th>WRF360J CanESM2</th>\n",
       "      <td>38.524412</td>\n",
       "      <td>47.909516</td>\n",
       "      <td>34.282425</td>\n",
       "      <td>30.731443</td>\n",
       "      <td>32.817791</td>\n",
       "      <td>48.904276</td>\n",
       "      <td>46.618285</td>\n",
       "      <td>38.722541</td>\n",
       "      <td>39.909571</td>\n",
       "      <td>37.637957</td>\n",
       "      <td>39.919673</td>\n",
       "      <td>44.068459</td>\n",
       "    </tr>\n",
       "    <tr>\n",
       "      <th>WRF360K ACCESS1-0</th>\n",
       "      <td>40.829173</td>\n",
       "      <td>52.972660</td>\n",
       "      <td>39.472687</td>\n",
       "      <td>37.617622</td>\n",
       "      <td>37.198813</td>\n",
       "      <td>49.179732</td>\n",
       "      <td>45.113975</td>\n",
       "      <td>39.475174</td>\n",
       "      <td>40.750821</td>\n",
       "      <td>43.749850</td>\n",
       "      <td>46.980467</td>\n",
       "      <td>50.595392</td>\n",
       "    </tr>\n",
       "    <tr>\n",
       "      <th>WRF360K CanESM2</th>\n",
       "      <td>35.189694</td>\n",
       "      <td>45.498208</td>\n",
       "      <td>26.676726</td>\n",
       "      <td>23.235338</td>\n",
       "      <td>26.988373</td>\n",
       "      <td>49.591090</td>\n",
       "      <td>47.737161</td>\n",
       "      <td>30.480890</td>\n",
       "      <td>39.965732</td>\n",
       "      <td>29.629055</td>\n",
       "      <td>34.860482</td>\n",
       "      <td>40.302357</td>\n",
       "    </tr>\n",
       "  </tbody>\n",
       "</table>\n",
       "</div>"
      ],
      "text/plain": [
       "month                        Apr        Aug        Dec        Feb        Jan  \\\n",
       "RCM_GCM_pair                                                                   \n",
       "CCAM-1704 ACCESS1-0    33.193657  50.022298  27.489755  44.488362  33.030255   \n",
       "CCAM-1704 CNRM-CM5     35.903895  49.208173  34.730248  37.362945  30.027207   \n",
       "CCAM-1704 GFDL-ESM2M   31.638391  49.872747  30.331825  43.636058  30.123103   \n",
       "CCAM-1704 HadGEM2-CC   32.608270  45.723354  30.376439  33.450877  36.013188   \n",
       "CCAM-1704 MIROC5       39.913747  42.982663  31.641088  40.067432  41.791743   \n",
       "CCAM-1704 NorESM1-M    36.433501  44.770045  27.918309  46.811882  40.060669   \n",
       "CCAM-2008 ACCESS1-0    35.729405  47.428279  47.160520  44.683237  39.921307   \n",
       "CCAM-2008 CanESM2      40.776773  47.067281  53.173960  50.638375  51.155117   \n",
       "CCAM-2008 GFDL-ESM2M   29.646104  39.569668  38.299283  42.278297  46.632240   \n",
       "CCAM-2008 MIROC5       31.473650  57.279940  32.464337  36.092609  36.831540   \n",
       "CCAM-2008 NorESM1-M    18.107973  37.630429  18.336270  34.640996  28.111703   \n",
       "CCLM5-0-15 HadGEM2-ES  28.770579  37.503736  26.467642  35.984424  28.306703   \n",
       "CCLM5-0-15 MPI-ESM-LR  19.202341  45.931066  26.101194  27.681186  29.243186   \n",
       "CCLM5-0-15 NorESM1-M   22.720668  43.268382  27.326608  21.642398  25.657465   \n",
       "REMO2015 HadGEM2-ES    26.176612  48.768799  29.181523  27.890308  25.418184   \n",
       "REMO2015 MPI-ESM-LR    20.470716  51.099454  21.354346  21.028383  23.444798   \n",
       "REMO2015 NorESM1-M     27.401853  48.967721  29.143566  23.794383  28.851753   \n",
       "RegCM4-7 HadGEM2-ES    63.802911  75.563148  70.242994  68.512302  74.438938   \n",
       "RegCM4-7 MPI-ESM-MR    41.607402  79.713628  50.481844  48.387297  59.624269   \n",
       "RegCM4-7 NorESM1-M     50.786989  76.444146  68.162302  52.036276  70.699427   \n",
       "WRF360J ACCESS1-0      40.685261  47.117472  40.599938  41.904370  38.770110   \n",
       "WRF360J CanESM2        38.524412  47.909516  34.282425  30.731443  32.817791   \n",
       "WRF360K ACCESS1-0      40.829173  52.972660  39.472687  37.617622  37.198813   \n",
       "WRF360K CanESM2        35.189694  45.498208  26.676726  23.235338  26.988373   \n",
       "\n",
       "month                        Jul        Jun        Mar        May        Nov  \\\n",
       "RCM_GCM_pair                                                                   \n",
       "CCAM-1704 ACCESS1-0    49.732027  41.963969  42.407061  39.122688  32.708068   \n",
       "CCAM-1704 CNRM-CM5     54.981375  42.935880  42.068762  41.038726  39.062647   \n",
       "CCAM-1704 GFDL-ESM2M   54.359175  45.513986  43.520872  39.425470  29.407940   \n",
       "CCAM-1704 HadGEM2-CC   55.194909  43.132566  36.730498  38.688228  36.377366   \n",
       "CCAM-1704 MIROC5       53.299231  50.025755  49.759379  44.444215  36.923408   \n",
       "CCAM-1704 NorESM1-M    54.119430  47.866208  39.517208  48.659112  27.464741   \n",
       "CCAM-2008 ACCESS1-0    46.027507  42.861144  34.449548  34.381796  44.544354   \n",
       "CCAM-2008 CanESM2      54.897744  49.371259  47.683559  45.594998  56.159864   \n",
       "CCAM-2008 GFDL-ESM2M   48.695115  49.817987  42.753004  37.870975  32.650570   \n",
       "CCAM-2008 MIROC5       55.593456  51.824989  37.059281  36.691290  26.867351   \n",
       "CCAM-2008 NorESM1-M    38.024107  28.737952  27.914731  21.658381  14.264350   \n",
       "CCLM5-0-15 HadGEM2-ES  39.016505  38.044990  37.350202  31.954175  23.614043   \n",
       "CCLM5-0-15 MPI-ESM-LR  46.935752  47.827889  24.358514  36.035262  29.996104   \n",
       "CCLM5-0-15 NorESM1-M   34.111060  27.814599  24.968044  26.340700  27.945275   \n",
       "REMO2015 HadGEM2-ES    49.809647  48.226632  28.855918  37.504604  30.098687   \n",
       "REMO2015 MPI-ESM-LR    53.862446  53.383568  22.274609  43.064901  26.381118   \n",
       "REMO2015 NorESM1-M     43.498553  33.159482  23.338082  30.072454  33.020160   \n",
       "RegCM4-7 HadGEM2-ES    79.030985  82.984072  64.352896  74.924320  56.293614   \n",
       "RegCM4-7 MPI-ESM-MR    90.769439  86.253454  51.548856  69.032753  53.690983   \n",
       "RegCM4-7 NorESM1-M     68.781655  62.229578  52.468887  62.150036  66.782282   \n",
       "WRF360J ACCESS1-0      41.786716  40.118643  38.624022  35.327420  42.703085   \n",
       "WRF360J CanESM2        48.904276  46.618285  38.722541  39.909571  37.637957   \n",
       "WRF360K ACCESS1-0      49.179732  45.113975  39.475174  40.750821  43.749850   \n",
       "WRF360K CanESM2        49.591090  47.737161  30.480890  39.965732  29.629055   \n",
       "\n",
       "month                        Oct        Sep  \n",
       "RCM_GCM_pair                                 \n",
       "CCAM-1704 ACCESS1-0    40.338481  33.182985  \n",
       "CCAM-1704 CNRM-CM5     32.732897  35.954603  \n",
       "CCAM-1704 GFDL-ESM2M   30.380494  39.736302  \n",
       "CCAM-1704 HadGEM2-CC   35.860534  33.839599  \n",
       "CCAM-1704 MIROC5       39.167537  34.119843  \n",
       "CCAM-1704 NorESM1-M    41.950566  34.836952  \n",
       "CCAM-2008 ACCESS1-0    39.014419  35.501520  \n",
       "CCAM-2008 CanESM2      46.334667  45.075879  \n",
       "CCAM-2008 GFDL-ESM2M   32.345611  34.406477  \n",
       "CCAM-2008 MIROC5       37.494677  47.665250  \n",
       "CCAM-2008 NorESM1-M    16.785411  27.981581  \n",
       "CCLM5-0-15 HadGEM2-ES  25.710865  31.829865  \n",
       "CCLM5-0-15 MPI-ESM-LR  33.131561  35.089751  \n",
       "CCLM5-0-15 NorESM1-M   30.792255  38.629275  \n",
       "REMO2015 HadGEM2-ES    33.055485  39.535365  \n",
       "REMO2015 MPI-ESM-LR    33.521213  39.447003  \n",
       "REMO2015 NorESM1-M     35.003588  44.711132  \n",
       "RegCM4-7 HadGEM2-ES    55.499044  57.614629  \n",
       "RegCM4-7 MPI-ESM-MR    55.600035  68.458530  \n",
       "RegCM4-7 NorESM1-M     60.153257  71.433863  \n",
       "WRF360J ACCESS1-0      42.668628  43.696776  \n",
       "WRF360J CanESM2        39.919673  44.068459  \n",
       "WRF360K ACCESS1-0      46.980467  50.595392  \n",
       "WRF360K CanESM2        34.860482  40.302357  "
      ]
     },
     "execution_count": 15,
     "metadata": {},
     "output_type": "execute_result"
    }
   ],
   "source": [
    "rcm_mon_avg_piv = pd.pivot_table(rcm_master_timeseries_df, values=f'{variable}', index='RCM_GCM_pair', columns='month')\n",
    "rcm_mon_avg_piv"
   ]
  },
  {
   "cell_type": "markdown",
   "id": "5c58fe07-8c2a-4b80-8c89-84e15c9e7c2c",
   "metadata": {},
   "source": [
    "## Get Monthly Averages for Observational Datasets"
   ]
  },
  {
   "cell_type": "markdown",
   "id": "d4e0b0b0-91b1-4620-a448-5e15fe6df74b",
   "metadata": {},
   "source": [
    "#### AGCD"
   ]
  },
  {
   "cell_type": "code",
   "execution_count": 13,
   "id": "1b18dc5e-4728-4557-baca-5c8bd6e1fd77",
   "metadata": {
    "tags": []
   },
   "outputs": [
    {
     "data": {
      "text/html": [
       "<div>\n",
       "<style scoped>\n",
       "    .dataframe tbody tr th:only-of-type {\n",
       "        vertical-align: middle;\n",
       "    }\n",
       "\n",
       "    .dataframe tbody tr th {\n",
       "        vertical-align: top;\n",
       "    }\n",
       "\n",
       "    .dataframe thead th {\n",
       "        text-align: right;\n",
       "    }\n",
       "</style>\n",
       "<table border=\"1\" class=\"dataframe\">\n",
       "  <thead>\n",
       "    <tr style=\"text-align: right;\">\n",
       "      <th></th>\n",
       "      <th>prcptot</th>\n",
       "      <th>month</th>\n",
       "    </tr>\n",
       "    <tr>\n",
       "      <th>month</th>\n",
       "      <th></th>\n",
       "      <th></th>\n",
       "    </tr>\n",
       "  </thead>\n",
       "  <tbody>\n",
       "    <tr>\n",
       "      <th>1</th>\n",
       "      <td>26.136153</td>\n",
       "      <td>Jan</td>\n",
       "    </tr>\n",
       "    <tr>\n",
       "      <th>2</th>\n",
       "      <td>25.045280</td>\n",
       "      <td>Feb</td>\n",
       "    </tr>\n",
       "    <tr>\n",
       "      <th>3</th>\n",
       "      <td>25.993440</td>\n",
       "      <td>Mar</td>\n",
       "    </tr>\n",
       "    <tr>\n",
       "      <th>4</th>\n",
       "      <td>27.840556</td>\n",
       "      <td>Apr</td>\n",
       "    </tr>\n",
       "    <tr>\n",
       "      <th>5</th>\n",
       "      <td>42.403019</td>\n",
       "      <td>May</td>\n",
       "    </tr>\n",
       "    <tr>\n",
       "      <th>6</th>\n",
       "      <td>49.050846</td>\n",
       "      <td>Jun</td>\n",
       "    </tr>\n",
       "    <tr>\n",
       "      <th>7</th>\n",
       "      <td>48.730855</td>\n",
       "      <td>Jul</td>\n",
       "    </tr>\n",
       "    <tr>\n",
       "      <th>8</th>\n",
       "      <td>48.513248</td>\n",
       "      <td>Aug</td>\n",
       "    </tr>\n",
       "    <tr>\n",
       "      <th>9</th>\n",
       "      <td>42.686890</td>\n",
       "      <td>Sep</td>\n",
       "    </tr>\n",
       "    <tr>\n",
       "      <th>10</th>\n",
       "      <td>38.323651</td>\n",
       "      <td>Oct</td>\n",
       "    </tr>\n",
       "    <tr>\n",
       "      <th>11</th>\n",
       "      <td>32.087290</td>\n",
       "      <td>Nov</td>\n",
       "    </tr>\n",
       "    <tr>\n",
       "      <th>12</th>\n",
       "      <td>29.924687</td>\n",
       "      <td>Dec</td>\n",
       "    </tr>\n",
       "  </tbody>\n",
       "</table>\n",
       "</div>"
      ],
      "text/plain": [
       "         prcptot month\n",
       "month                 \n",
       "1      26.136153   Jan\n",
       "2      25.045280   Feb\n",
       "3      25.993440   Mar\n",
       "4      27.840556   Apr\n",
       "5      42.403019   May\n",
       "6      49.050846   Jun\n",
       "7      48.730855   Jul\n",
       "8      48.513248   Aug\n",
       "9      42.686890   Sep\n",
       "10     38.323651   Oct\n",
       "11     32.087290   Nov\n",
       "12     29.924687   Dec"
      ]
     },
     "execution_count": 13,
     "metadata": {},
     "output_type": "execute_result"
    }
   ],
   "source": [
    "# No unit conversion needed\n",
    "data_type = \"obs\"\n",
    "\n",
    "# Get Monthly averages for AGCD dataset\n",
    "agcd_monthly_avg = get_monthly_averages(agcd_data_path, variable, time_slice, lat_slice, lon_slice, data_type, iscale, qc_mask, ipcc_mask, 42)\n",
    "agcd_monthly_avg_df = agcd_monthly_avg.to_dataframe()\n",
    "agcd_monthly_avg_df['month'] = model_timeseries_df.index\n",
    "agcd_monthly_avg_df['month'] = pd.to_datetime(agcd_monthly_avg_df['month'], format='%m').dt.month_name().str.slice(stop=3)\n",
    "agcd_monthly_avg_df"
   ]
  },
  {
   "cell_type": "markdown",
   "id": "06e6ae5c-d170-4752-a372-d02313ec799c",
   "metadata": {
    "tags": []
   },
   "source": [
    "## Set-up Plotting Specifications"
   ]
  },
  {
   "cell_type": "code",
   "execution_count": 16,
   "id": "245755b4-f315-4701-b043-e149bab54570",
   "metadata": {
    "tags": []
   },
   "outputs": [
    {
     "data": {
      "application/vnd.plotly.v1+json": {
       "config": {
        "plotlyServerURL": "https://plot.ly"
       },
       "data": [
        {
         "customdata": [
          [
           "CCAM-1704",
           "ACCESS1-0"
          ],
          [
           "CCAM-1704",
           "ACCESS1-0"
          ],
          [
           "CCAM-1704",
           "ACCESS1-0"
          ],
          [
           "CCAM-1704",
           "ACCESS1-0"
          ],
          [
           "CCAM-1704",
           "ACCESS1-0"
          ],
          [
           "CCAM-1704",
           "ACCESS1-0"
          ],
          [
           "CCAM-1704",
           "ACCESS1-0"
          ],
          [
           "CCAM-1704",
           "ACCESS1-0"
          ],
          [
           "CCAM-1704",
           "ACCESS1-0"
          ],
          [
           "CCAM-1704",
           "ACCESS1-0"
          ],
          [
           "CCAM-1704",
           "ACCESS1-0"
          ],
          [
           "CCAM-1704",
           "ACCESS1-0"
          ]
         ],
         "hovertemplate": "RCM=%{customdata[0]}<br>Driving GCM=%{customdata[1]}<br>month=%{x}<br>prcptot (mm/month)=%{y}<extra></extra>",
         "legendgroup": "CCAM-1704, ACCESS1-0",
         "line": {
          "color": "deepskyblue",
          "dash": "dot"
         },
         "marker": {
          "size": 8,
          "symbol": "circle"
         },
         "mode": "lines",
         "name": "CCAM-1704, ACCESS1-0",
         "orientation": "v",
         "showlegend": true,
         "type": "scatter",
         "x": [
          "Jan",
          "Feb",
          "Mar",
          "Apr",
          "May",
          "Jun",
          "Jul",
          "Aug",
          "Sep",
          "Oct",
          "Nov",
          "Dec"
         ],
         "xaxis": "x",
         "y": [
          33.030254815894025,
          44.48836238420544,
          42.407060787327865,
          33.19365657065021,
          39.12268823639189,
          41.96396932527684,
          49.73202696295037,
          50.02229795195306,
          33.18298482411239,
          40.33848089551659,
          32.70806798563984,
          27.489754824478542
         ],
         "yaxis": "y"
        },
        {
         "customdata": [
          [
           "CCAM-1704",
           "CNRM-CM5"
          ],
          [
           "CCAM-1704",
           "CNRM-CM5"
          ],
          [
           "CCAM-1704",
           "CNRM-CM5"
          ],
          [
           "CCAM-1704",
           "CNRM-CM5"
          ],
          [
           "CCAM-1704",
           "CNRM-CM5"
          ],
          [
           "CCAM-1704",
           "CNRM-CM5"
          ],
          [
           "CCAM-1704",
           "CNRM-CM5"
          ],
          [
           "CCAM-1704",
           "CNRM-CM5"
          ],
          [
           "CCAM-1704",
           "CNRM-CM5"
          ],
          [
           "CCAM-1704",
           "CNRM-CM5"
          ],
          [
           "CCAM-1704",
           "CNRM-CM5"
          ],
          [
           "CCAM-1704",
           "CNRM-CM5"
          ]
         ],
         "hovertemplate": "RCM=%{customdata[0]}<br>Driving GCM=%{customdata[1]}<br>month=%{x}<br>prcptot (mm/month)=%{y}<extra></extra>",
         "legendgroup": "CCAM-1704, CNRM-CM5",
         "line": {
          "color": "deepskyblue",
          "dash": "longdash"
         },
         "marker": {
          "size": 8,
          "symbol": "circle"
         },
         "mode": "lines",
         "name": "CCAM-1704, CNRM-CM5",
         "orientation": "v",
         "showlegend": true,
         "type": "scatter",
         "x": [
          "Jan",
          "Feb",
          "Mar",
          "Apr",
          "May",
          "Jun",
          "Jul",
          "Aug",
          "Sep",
          "Oct",
          "Nov",
          "Dec"
         ],
         "xaxis": "x",
         "y": [
          30.02720726533081,
          37.36294521488561,
          42.068761905755146,
          35.903895089562624,
          41.038726211616186,
          42.935880026658495,
          54.98137455810241,
          49.20817330218261,
          35.95460302439489,
          32.732897165710654,
          39.062647070486605,
          34.73024827896892
         ],
         "yaxis": "y"
        },
        {
         "customdata": [
          [
           "CCAM-1704",
           "GFDL-ESM2M"
          ],
          [
           "CCAM-1704",
           "GFDL-ESM2M"
          ],
          [
           "CCAM-1704",
           "GFDL-ESM2M"
          ],
          [
           "CCAM-1704",
           "GFDL-ESM2M"
          ],
          [
           "CCAM-1704",
           "GFDL-ESM2M"
          ],
          [
           "CCAM-1704",
           "GFDL-ESM2M"
          ],
          [
           "CCAM-1704",
           "GFDL-ESM2M"
          ],
          [
           "CCAM-1704",
           "GFDL-ESM2M"
          ],
          [
           "CCAM-1704",
           "GFDL-ESM2M"
          ],
          [
           "CCAM-1704",
           "GFDL-ESM2M"
          ],
          [
           "CCAM-1704",
           "GFDL-ESM2M"
          ],
          [
           "CCAM-1704",
           "GFDL-ESM2M"
          ]
         ],
         "hovertemplate": "RCM=%{customdata[0]}<br>Driving GCM=%{customdata[1]}<br>month=%{x}<br>prcptot (mm/month)=%{y}<extra></extra>",
         "legendgroup": "CCAM-1704, GFDL-ESM2M",
         "line": {
          "color": "deepskyblue",
          "dash": "20px,4px,8px"
         },
         "marker": {
          "size": 8,
          "symbol": "circle"
         },
         "mode": "lines",
         "name": "CCAM-1704, GFDL-ESM2M",
         "orientation": "v",
         "showlegend": true,
         "type": "scatter",
         "x": [
          "Jan",
          "Feb",
          "Mar",
          "Apr",
          "May",
          "Jun",
          "Jul",
          "Aug",
          "Sep",
          "Oct",
          "Nov",
          "Dec"
         ],
         "xaxis": "x",
         "y": [
          30.123102520498616,
          43.63605755842078,
          43.52087223056479,
          31.638390818249764,
          39.425470342575814,
          45.513986215098484,
          54.35917452792549,
          49.872747458437196,
          39.73630216090116,
          30.380494213916386,
          29.407939534915094,
          30.331825436087954
         ],
         "yaxis": "y"
        },
        {
         "customdata": [
          [
           "CCAM-1704",
           "HadGEM2-CC"
          ],
          [
           "CCAM-1704",
           "HadGEM2-CC"
          ],
          [
           "CCAM-1704",
           "HadGEM2-CC"
          ],
          [
           "CCAM-1704",
           "HadGEM2-CC"
          ],
          [
           "CCAM-1704",
           "HadGEM2-CC"
          ],
          [
           "CCAM-1704",
           "HadGEM2-CC"
          ],
          [
           "CCAM-1704",
           "HadGEM2-CC"
          ],
          [
           "CCAM-1704",
           "HadGEM2-CC"
          ],
          [
           "CCAM-1704",
           "HadGEM2-CC"
          ],
          [
           "CCAM-1704",
           "HadGEM2-CC"
          ],
          [
           "CCAM-1704",
           "HadGEM2-CC"
          ],
          [
           "CCAM-1704",
           "HadGEM2-CC"
          ]
         ],
         "hovertemplate": "RCM=%{customdata[0]}<br>Driving GCM=%{customdata[1]}<br>month=%{x}<br>prcptot (mm/month)=%{y}<extra></extra>",
         "legendgroup": "CCAM-1704, HadGEM2-CC",
         "line": {
          "color": "deepskyblue",
          "dash": "dash"
         },
         "marker": {
          "size": 8,
          "symbol": "circle"
         },
         "mode": "lines",
         "name": "CCAM-1704, HadGEM2-CC",
         "orientation": "v",
         "showlegend": true,
         "type": "scatter",
         "x": [
          "Jan",
          "Feb",
          "Mar",
          "Apr",
          "May",
          "Jun",
          "Jul",
          "Aug",
          "Sep",
          "Oct",
          "Nov",
          "Dec"
         ],
         "xaxis": "x",
         "y": [
          36.01318799509532,
          33.450876524353525,
          36.73049815228378,
          32.6082701804621,
          38.6882283205097,
          43.13256592130717,
          55.19490915063851,
          45.72335438724084,
          33.83959855809737,
          35.86053445352994,
          36.37736622880877,
          30.37643893785847
         ],
         "yaxis": "y"
        },
        {
         "customdata": [
          [
           "CCAM-1704",
           "MIROC5"
          ],
          [
           "CCAM-1704",
           "MIROC5"
          ],
          [
           "CCAM-1704",
           "MIROC5"
          ],
          [
           "CCAM-1704",
           "MIROC5"
          ],
          [
           "CCAM-1704",
           "MIROC5"
          ],
          [
           "CCAM-1704",
           "MIROC5"
          ],
          [
           "CCAM-1704",
           "MIROC5"
          ],
          [
           "CCAM-1704",
           "MIROC5"
          ],
          [
           "CCAM-1704",
           "MIROC5"
          ],
          [
           "CCAM-1704",
           "MIROC5"
          ],
          [
           "CCAM-1704",
           "MIROC5"
          ],
          [
           "CCAM-1704",
           "MIROC5"
          ]
         ],
         "hovertemplate": "RCM=%{customdata[0]}<br>Driving GCM=%{customdata[1]}<br>month=%{x}<br>prcptot (mm/month)=%{y}<extra></extra>",
         "legendgroup": "CCAM-1704, MIROC5",
         "line": {
          "color": "deepskyblue",
          "dash": "longdashdot"
         },
         "marker": {
          "size": 8,
          "symbol": "circle"
         },
         "mode": "lines",
         "name": "CCAM-1704, MIROC5",
         "orientation": "v",
         "showlegend": true,
         "type": "scatter",
         "x": [
          "Jan",
          "Feb",
          "Mar",
          "Apr",
          "May",
          "Jun",
          "Jul",
          "Aug",
          "Sep",
          "Oct",
          "Nov",
          "Dec"
         ],
         "xaxis": "x",
         "y": [
          41.79174277401604,
          40.06743212736432,
          49.75937895212754,
          39.9137471810502,
          44.44421533798324,
          50.025754511000294,
          53.29923080136788,
          42.98266278111974,
          34.119843055098414,
          39.16753676404224,
          36.92340849445895,
          31.64108805105629
         ],
         "yaxis": "y"
        },
        {
         "customdata": [
          [
           "CCAM-1704",
           "NorESM1-M"
          ],
          [
           "CCAM-1704",
           "NorESM1-M"
          ],
          [
           "CCAM-1704",
           "NorESM1-M"
          ],
          [
           "CCAM-1704",
           "NorESM1-M"
          ],
          [
           "CCAM-1704",
           "NorESM1-M"
          ],
          [
           "CCAM-1704",
           "NorESM1-M"
          ],
          [
           "CCAM-1704",
           "NorESM1-M"
          ],
          [
           "CCAM-1704",
           "NorESM1-M"
          ],
          [
           "CCAM-1704",
           "NorESM1-M"
          ],
          [
           "CCAM-1704",
           "NorESM1-M"
          ],
          [
           "CCAM-1704",
           "NorESM1-M"
          ],
          [
           "CCAM-1704",
           "NorESM1-M"
          ]
         ],
         "hovertemplate": "RCM=%{customdata[0]}<br>Driving GCM=%{customdata[1]}<br>month=%{x}<br>prcptot (mm/month)=%{y}<extra></extra>",
         "legendgroup": "CCAM-1704, NorESM1-M",
         "line": {
          "color": "deepskyblue",
          "dash": "dashdot"
         },
         "marker": {
          "size": 8,
          "symbol": "circle"
         },
         "mode": "lines",
         "name": "CCAM-1704, NorESM1-M",
         "orientation": "v",
         "showlegend": true,
         "type": "scatter",
         "x": [
          "Jan",
          "Feb",
          "Mar",
          "Apr",
          "May",
          "Jun",
          "Jul",
          "Aug",
          "Sep",
          "Oct",
          "Nov",
          "Dec"
         ],
         "xaxis": "x",
         "y": [
          40.06066909721984,
          46.81188221686156,
          39.517207798992786,
          36.43350141897755,
          48.65911187727555,
          47.8662076939611,
          54.119430471037965,
          44.770044990660985,
          34.83695202335717,
          41.95056607488493,
          27.46474096233972,
          27.91830888617243
         ],
         "yaxis": "y"
        },
        {
         "customdata": [
          [
           "CCAM-2008",
           "ACCESS1-0"
          ],
          [
           "CCAM-2008",
           "ACCESS1-0"
          ],
          [
           "CCAM-2008",
           "ACCESS1-0"
          ],
          [
           "CCAM-2008",
           "ACCESS1-0"
          ],
          [
           "CCAM-2008",
           "ACCESS1-0"
          ],
          [
           "CCAM-2008",
           "ACCESS1-0"
          ],
          [
           "CCAM-2008",
           "ACCESS1-0"
          ],
          [
           "CCAM-2008",
           "ACCESS1-0"
          ],
          [
           "CCAM-2008",
           "ACCESS1-0"
          ],
          [
           "CCAM-2008",
           "ACCESS1-0"
          ],
          [
           "CCAM-2008",
           "ACCESS1-0"
          ],
          [
           "CCAM-2008",
           "ACCESS1-0"
          ]
         ],
         "hovertemplate": "RCM=%{customdata[0]}<br>Driving GCM=%{customdata[1]}<br>month=%{x}<br>prcptot (mm/month)=%{y}<extra></extra>",
         "legendgroup": "CCAM-2008, ACCESS1-0",
         "line": {
          "color": "limegreen",
          "dash": "dot"
         },
         "marker": {
          "size": 8,
          "symbol": "circle"
         },
         "mode": "lines",
         "name": "CCAM-2008, ACCESS1-0",
         "orientation": "v",
         "showlegend": true,
         "type": "scatter",
         "x": [
          "Jan",
          "Feb",
          "Mar",
          "Apr",
          "May",
          "Jun",
          "Jul",
          "Aug",
          "Sep",
          "Oct",
          "Nov",
          "Dec"
         ],
         "xaxis": "x",
         "y": [
          39.92130666372019,
          44.68323666441539,
          34.449547852072435,
          35.72940502690829,
          34.381796184043914,
          42.861143755650154,
          46.02750746743139,
          47.42827886211981,
          35.501520016939125,
          39.01441887475483,
          44.5443541730009,
          47.1605198505357
         ],
         "yaxis": "y"
        },
        {
         "customdata": [
          [
           "CCAM-2008",
           "GFDL-ESM2M"
          ],
          [
           "CCAM-2008",
           "GFDL-ESM2M"
          ],
          [
           "CCAM-2008",
           "GFDL-ESM2M"
          ],
          [
           "CCAM-2008",
           "GFDL-ESM2M"
          ],
          [
           "CCAM-2008",
           "GFDL-ESM2M"
          ],
          [
           "CCAM-2008",
           "GFDL-ESM2M"
          ],
          [
           "CCAM-2008",
           "GFDL-ESM2M"
          ],
          [
           "CCAM-2008",
           "GFDL-ESM2M"
          ],
          [
           "CCAM-2008",
           "GFDL-ESM2M"
          ],
          [
           "CCAM-2008",
           "GFDL-ESM2M"
          ],
          [
           "CCAM-2008",
           "GFDL-ESM2M"
          ],
          [
           "CCAM-2008",
           "GFDL-ESM2M"
          ]
         ],
         "hovertemplate": "RCM=%{customdata[0]}<br>Driving GCM=%{customdata[1]}<br>month=%{x}<br>prcptot (mm/month)=%{y}<extra></extra>",
         "legendgroup": "CCAM-2008, GFDL-ESM2M",
         "line": {
          "color": "limegreen",
          "dash": "20px,4px,8px"
         },
         "marker": {
          "size": 8,
          "symbol": "circle"
         },
         "mode": "lines",
         "name": "CCAM-2008, GFDL-ESM2M",
         "orientation": "v",
         "showlegend": true,
         "type": "scatter",
         "x": [
          "Jan",
          "Feb",
          "Mar",
          "Apr",
          "May",
          "Jun",
          "Jul",
          "Aug",
          "Sep",
          "Oct",
          "Nov",
          "Dec"
         ],
         "xaxis": "x",
         "y": [
          46.63223987532106,
          42.278297032800225,
          42.75300447239467,
          29.646103968570586,
          37.87097513564239,
          49.81798699718754,
          48.695114735814016,
          39.56966757666184,
          34.406477298435114,
          32.34561071440386,
          32.65057049182395,
          38.29928321747538
         ],
         "yaxis": "y"
        },
        {
         "customdata": [
          [
           "CCAM-2008",
           "MIROC5"
          ],
          [
           "CCAM-2008",
           "MIROC5"
          ],
          [
           "CCAM-2008",
           "MIROC5"
          ],
          [
           "CCAM-2008",
           "MIROC5"
          ],
          [
           "CCAM-2008",
           "MIROC5"
          ],
          [
           "CCAM-2008",
           "MIROC5"
          ],
          [
           "CCAM-2008",
           "MIROC5"
          ],
          [
           "CCAM-2008",
           "MIROC5"
          ],
          [
           "CCAM-2008",
           "MIROC5"
          ],
          [
           "CCAM-2008",
           "MIROC5"
          ],
          [
           "CCAM-2008",
           "MIROC5"
          ],
          [
           "CCAM-2008",
           "MIROC5"
          ]
         ],
         "hovertemplate": "RCM=%{customdata[0]}<br>Driving GCM=%{customdata[1]}<br>month=%{x}<br>prcptot (mm/month)=%{y}<extra></extra>",
         "legendgroup": "CCAM-2008, MIROC5",
         "line": {
          "color": "limegreen",
          "dash": "longdashdot"
         },
         "marker": {
          "size": 8,
          "symbol": "circle"
         },
         "mode": "lines",
         "name": "CCAM-2008, MIROC5",
         "orientation": "v",
         "showlegend": true,
         "type": "scatter",
         "x": [
          "Jan",
          "Feb",
          "Mar",
          "Apr",
          "May",
          "Jun",
          "Jul",
          "Aug",
          "Sep",
          "Oct",
          "Nov",
          "Dec"
         ],
         "xaxis": "x",
         "y": [
          36.831539613477645,
          36.09260900991581,
          37.05928144908747,
          31.47364976942414,
          36.69129031230605,
          51.82498876440788,
          55.59345576465644,
          57.279940134592806,
          47.665250184254546,
          37.49467667000959,
          26.867350736609602,
          32.46433667048283
         ],
         "yaxis": "y"
        },
        {
         "customdata": [
          [
           "CCAM-2008",
           "NorESM1-M"
          ],
          [
           "CCAM-2008",
           "NorESM1-M"
          ],
          [
           "CCAM-2008",
           "NorESM1-M"
          ],
          [
           "CCAM-2008",
           "NorESM1-M"
          ],
          [
           "CCAM-2008",
           "NorESM1-M"
          ],
          [
           "CCAM-2008",
           "NorESM1-M"
          ],
          [
           "CCAM-2008",
           "NorESM1-M"
          ],
          [
           "CCAM-2008",
           "NorESM1-M"
          ],
          [
           "CCAM-2008",
           "NorESM1-M"
          ],
          [
           "CCAM-2008",
           "NorESM1-M"
          ],
          [
           "CCAM-2008",
           "NorESM1-M"
          ],
          [
           "CCAM-2008",
           "NorESM1-M"
          ]
         ],
         "hovertemplate": "RCM=%{customdata[0]}<br>Driving GCM=%{customdata[1]}<br>month=%{x}<br>prcptot (mm/month)=%{y}<extra></extra>",
         "legendgroup": "CCAM-2008, NorESM1-M",
         "line": {
          "color": "limegreen",
          "dash": "dashdot"
         },
         "marker": {
          "size": 8,
          "symbol": "circle"
         },
         "mode": "lines",
         "name": "CCAM-2008, NorESM1-M",
         "orientation": "v",
         "showlegend": true,
         "type": "scatter",
         "x": [
          "Jan",
          "Feb",
          "Mar",
          "Apr",
          "May",
          "Jun",
          "Jul",
          "Aug",
          "Sep",
          "Oct",
          "Nov",
          "Dec"
         ],
         "xaxis": "x",
         "y": [
          28.111703439414182,
          34.640995763443804,
          27.914731077845534,
          18.10797300900679,
          21.658381097520635,
          28.737952155888692,
          38.02410704644235,
          37.63042891085543,
          27.9815805844866,
          16.785411234384377,
          14.264349661301216,
          18.336270076724766
         ],
         "yaxis": "y"
        },
        {
         "customdata": [
          [
           "CCAM-2008",
           "CanESM2"
          ],
          [
           "CCAM-2008",
           "CanESM2"
          ],
          [
           "CCAM-2008",
           "CanESM2"
          ],
          [
           "CCAM-2008",
           "CanESM2"
          ],
          [
           "CCAM-2008",
           "CanESM2"
          ],
          [
           "CCAM-2008",
           "CanESM2"
          ],
          [
           "CCAM-2008",
           "CanESM2"
          ],
          [
           "CCAM-2008",
           "CanESM2"
          ],
          [
           "CCAM-2008",
           "CanESM2"
          ],
          [
           "CCAM-2008",
           "CanESM2"
          ],
          [
           "CCAM-2008",
           "CanESM2"
          ],
          [
           "CCAM-2008",
           "CanESM2"
          ]
         ],
         "hovertemplate": "RCM=%{customdata[0]}<br>Driving GCM=%{customdata[1]}<br>month=%{x}<br>prcptot (mm/month)=%{y}<extra></extra>",
         "legendgroup": "CCAM-2008, CanESM2",
         "line": {
          "color": "limegreen",
          "dash": "solid"
         },
         "marker": {
          "size": 8,
          "symbol": "circle"
         },
         "mode": "lines",
         "name": "CCAM-2008, CanESM2",
         "orientation": "v",
         "showlegend": true,
         "type": "scatter",
         "x": [
          "Jan",
          "Feb",
          "Mar",
          "Apr",
          "May",
          "Jun",
          "Jul",
          "Aug",
          "Sep",
          "Oct",
          "Nov",
          "Dec"
         ],
         "xaxis": "x",
         "y": [
          51.1551169370601,
          50.63837457493938,
          47.6835594985215,
          40.77677257706732,
          45.59499777118535,
          49.37125885471388,
          54.897743743985366,
          47.067281392242315,
          45.07587915553065,
          46.334666957986975,
          56.15986376949726,
          53.173959518490825
         ],
         "yaxis": "y"
        },
        {
         "customdata": [
          [
           "CCLM5-0-15",
           "NorESM1-M"
          ],
          [
           "CCLM5-0-15",
           "NorESM1-M"
          ],
          [
           "CCLM5-0-15",
           "NorESM1-M"
          ],
          [
           "CCLM5-0-15",
           "NorESM1-M"
          ],
          [
           "CCLM5-0-15",
           "NorESM1-M"
          ],
          [
           "CCLM5-0-15",
           "NorESM1-M"
          ],
          [
           "CCLM5-0-15",
           "NorESM1-M"
          ],
          [
           "CCLM5-0-15",
           "NorESM1-M"
          ],
          [
           "CCLM5-0-15",
           "NorESM1-M"
          ],
          [
           "CCLM5-0-15",
           "NorESM1-M"
          ],
          [
           "CCLM5-0-15",
           "NorESM1-M"
          ],
          [
           "CCLM5-0-15",
           "NorESM1-M"
          ]
         ],
         "hovertemplate": "RCM=%{customdata[0]}<br>Driving GCM=%{customdata[1]}<br>month=%{x}<br>prcptot (mm/month)=%{y}<extra></extra>",
         "legendgroup": "CCLM5-0-15, NorESM1-M",
         "line": {
          "color": "indianred",
          "dash": "dashdot"
         },
         "marker": {
          "size": 8,
          "symbol": "circle"
         },
         "mode": "lines",
         "name": "CCLM5-0-15, NorESM1-M",
         "orientation": "v",
         "showlegend": true,
         "type": "scatter",
         "x": [
          "Jan",
          "Feb",
          "Mar",
          "Apr",
          "May",
          "Jun",
          "Jul",
          "Aug",
          "Sep",
          "Oct",
          "Nov",
          "Dec"
         ],
         "xaxis": "x",
         "y": [
          25.657465415549833,
          21.642397795682374,
          24.968043786408273,
          22.720668171538655,
          26.340700460653995,
          27.814598625143805,
          34.1110600440405,
          43.26838189246269,
          38.629274935856664,
          30.792255209893863,
          27.945275175843918,
          27.326607573201557
         ],
         "yaxis": "y"
        },
        {
         "customdata": [
          [
           "CCLM5-0-15",
           "HadGEM2-ES"
          ],
          [
           "CCLM5-0-15",
           "HadGEM2-ES"
          ],
          [
           "CCLM5-0-15",
           "HadGEM2-ES"
          ],
          [
           "CCLM5-0-15",
           "HadGEM2-ES"
          ],
          [
           "CCLM5-0-15",
           "HadGEM2-ES"
          ],
          [
           "CCLM5-0-15",
           "HadGEM2-ES"
          ],
          [
           "CCLM5-0-15",
           "HadGEM2-ES"
          ],
          [
           "CCLM5-0-15",
           "HadGEM2-ES"
          ],
          [
           "CCLM5-0-15",
           "HadGEM2-ES"
          ],
          [
           "CCLM5-0-15",
           "HadGEM2-ES"
          ],
          [
           "CCLM5-0-15",
           "HadGEM2-ES"
          ],
          [
           "CCLM5-0-15",
           "HadGEM2-ES"
          ]
         ],
         "hovertemplate": "RCM=%{customdata[0]}<br>Driving GCM=%{customdata[1]}<br>month=%{x}<br>prcptot (mm/month)=%{y}<extra></extra>",
         "legendgroup": "CCLM5-0-15, HadGEM2-ES",
         "line": {
          "color": "indianred",
          "dash": "dash"
         },
         "marker": {
          "size": 8,
          "symbol": "circle"
         },
         "mode": "lines",
         "name": "CCLM5-0-15, HadGEM2-ES",
         "orientation": "v",
         "showlegend": true,
         "type": "scatter",
         "x": [
          "Jan",
          "Feb",
          "Mar",
          "Apr",
          "May",
          "Jun",
          "Jul",
          "Aug",
          "Sep",
          "Oct",
          "Nov",
          "Dec"
         ],
         "xaxis": "x",
         "y": [
          28.306702970029427,
          35.98442370017098,
          37.35020245743616,
          28.770578694912366,
          31.95417509506749,
          38.04498998352879,
          39.016505251919185,
          37.50373628695398,
          31.829864627135407,
          25.710865017142567,
          23.61404292766854,
          26.467641518719613
         ],
         "yaxis": "y"
        },
        {
         "customdata": [
          [
           "CCLM5-0-15",
           "MPI-ESM-LR"
          ],
          [
           "CCLM5-0-15",
           "MPI-ESM-LR"
          ],
          [
           "CCLM5-0-15",
           "MPI-ESM-LR"
          ],
          [
           "CCLM5-0-15",
           "MPI-ESM-LR"
          ],
          [
           "CCLM5-0-15",
           "MPI-ESM-LR"
          ],
          [
           "CCLM5-0-15",
           "MPI-ESM-LR"
          ],
          [
           "CCLM5-0-15",
           "MPI-ESM-LR"
          ],
          [
           "CCLM5-0-15",
           "MPI-ESM-LR"
          ],
          [
           "CCLM5-0-15",
           "MPI-ESM-LR"
          ],
          [
           "CCLM5-0-15",
           "MPI-ESM-LR"
          ],
          [
           "CCLM5-0-15",
           "MPI-ESM-LR"
          ],
          [
           "CCLM5-0-15",
           "MPI-ESM-LR"
          ]
         ],
         "hovertemplate": "RCM=%{customdata[0]}<br>Driving GCM=%{customdata[1]}<br>month=%{x}<br>prcptot (mm/month)=%{y}<extra></extra>",
         "legendgroup": "CCLM5-0-15, MPI-ESM-LR",
         "line": {
          "color": "indianred",
          "dash": "longdash"
         },
         "marker": {
          "size": 8,
          "symbol": "circle"
         },
         "mode": "lines",
         "name": "CCLM5-0-15, MPI-ESM-LR",
         "orientation": "v",
         "showlegend": true,
         "type": "scatter",
         "x": [
          "Jan",
          "Feb",
          "Mar",
          "Apr",
          "May",
          "Jun",
          "Jul",
          "Aug",
          "Sep",
          "Oct",
          "Nov",
          "Dec"
         ],
         "xaxis": "x",
         "y": [
          29.243186079008492,
          27.68118637791408,
          24.35851440753712,
          19.20234108069908,
          36.03526187229443,
          47.82788871778326,
          46.93575186848151,
          45.9310657547512,
          35.08975111357986,
          33.13156123175433,
          29.996104376352353,
          26.101194247502214
         ],
         "yaxis": "y"
        },
        {
         "customdata": [
          [
           "REMO2015",
           "NorESM1-M"
          ],
          [
           "REMO2015",
           "NorESM1-M"
          ],
          [
           "REMO2015",
           "NorESM1-M"
          ],
          [
           "REMO2015",
           "NorESM1-M"
          ],
          [
           "REMO2015",
           "NorESM1-M"
          ],
          [
           "REMO2015",
           "NorESM1-M"
          ],
          [
           "REMO2015",
           "NorESM1-M"
          ],
          [
           "REMO2015",
           "NorESM1-M"
          ],
          [
           "REMO2015",
           "NorESM1-M"
          ],
          [
           "REMO2015",
           "NorESM1-M"
          ],
          [
           "REMO2015",
           "NorESM1-M"
          ],
          [
           "REMO2015",
           "NorESM1-M"
          ]
         ],
         "hovertemplate": "RCM=%{customdata[0]}<br>Driving GCM=%{customdata[1]}<br>month=%{x}<br>prcptot (mm/month)=%{y}<extra></extra>",
         "legendgroup": "REMO2015, NorESM1-M",
         "line": {
          "color": "mediumpurple",
          "dash": "dashdot"
         },
         "marker": {
          "size": 8,
          "symbol": "circle"
         },
         "mode": "lines",
         "name": "REMO2015, NorESM1-M",
         "orientation": "v",
         "showlegend": true,
         "type": "scatter",
         "x": [
          "Jan",
          "Feb",
          "Mar",
          "Apr",
          "May",
          "Jun",
          "Jul",
          "Aug",
          "Sep",
          "Oct",
          "Nov",
          "Dec"
         ],
         "xaxis": "x",
         "y": [
          28.851752896120953,
          23.794383371585177,
          23.338081969527114,
          27.401852976054727,
          30.072453669827503,
          33.159481976031365,
          43.49855261387942,
          48.96772148029984,
          44.711132141110035,
          35.003588063367964,
          33.02016023349604,
          29.143565998469814
         ],
         "yaxis": "y"
        },
        {
         "customdata": [
          [
           "REMO2015",
           "HadGEM2-ES"
          ],
          [
           "REMO2015",
           "HadGEM2-ES"
          ],
          [
           "REMO2015",
           "HadGEM2-ES"
          ],
          [
           "REMO2015",
           "HadGEM2-ES"
          ],
          [
           "REMO2015",
           "HadGEM2-ES"
          ],
          [
           "REMO2015",
           "HadGEM2-ES"
          ],
          [
           "REMO2015",
           "HadGEM2-ES"
          ],
          [
           "REMO2015",
           "HadGEM2-ES"
          ],
          [
           "REMO2015",
           "HadGEM2-ES"
          ],
          [
           "REMO2015",
           "HadGEM2-ES"
          ],
          [
           "REMO2015",
           "HadGEM2-ES"
          ],
          [
           "REMO2015",
           "HadGEM2-ES"
          ]
         ],
         "hovertemplate": "RCM=%{customdata[0]}<br>Driving GCM=%{customdata[1]}<br>month=%{x}<br>prcptot (mm/month)=%{y}<extra></extra>",
         "legendgroup": "REMO2015, HadGEM2-ES",
         "line": {
          "color": "mediumpurple",
          "dash": "dash"
         },
         "marker": {
          "size": 8,
          "symbol": "circle"
         },
         "mode": "lines",
         "name": "REMO2015, HadGEM2-ES",
         "orientation": "v",
         "showlegend": true,
         "type": "scatter",
         "x": [
          "Jan",
          "Feb",
          "Mar",
          "Apr",
          "May",
          "Jun",
          "Jul",
          "Aug",
          "Sep",
          "Oct",
          "Nov",
          "Dec"
         ],
         "xaxis": "x",
         "y": [
          25.418183607038387,
          27.89030798508893,
          28.855918317624383,
          26.176612042207534,
          37.50460381612515,
          48.226632130091495,
          49.809646949665336,
          48.76879912318917,
          39.53536454307819,
          33.055484989327304,
          30.098687298878918,
          29.181523057921883
         ],
         "yaxis": "y"
        },
        {
         "customdata": [
          [
           "REMO2015",
           "MPI-ESM-LR"
          ],
          [
           "REMO2015",
           "MPI-ESM-LR"
          ],
          [
           "REMO2015",
           "MPI-ESM-LR"
          ],
          [
           "REMO2015",
           "MPI-ESM-LR"
          ],
          [
           "REMO2015",
           "MPI-ESM-LR"
          ],
          [
           "REMO2015",
           "MPI-ESM-LR"
          ],
          [
           "REMO2015",
           "MPI-ESM-LR"
          ],
          [
           "REMO2015",
           "MPI-ESM-LR"
          ],
          [
           "REMO2015",
           "MPI-ESM-LR"
          ],
          [
           "REMO2015",
           "MPI-ESM-LR"
          ],
          [
           "REMO2015",
           "MPI-ESM-LR"
          ],
          [
           "REMO2015",
           "MPI-ESM-LR"
          ]
         ],
         "hovertemplate": "RCM=%{customdata[0]}<br>Driving GCM=%{customdata[1]}<br>month=%{x}<br>prcptot (mm/month)=%{y}<extra></extra>",
         "legendgroup": "REMO2015, MPI-ESM-LR",
         "line": {
          "color": "mediumpurple",
          "dash": "longdash"
         },
         "marker": {
          "size": 8,
          "symbol": "circle"
         },
         "mode": "lines",
         "name": "REMO2015, MPI-ESM-LR",
         "orientation": "v",
         "showlegend": true,
         "type": "scatter",
         "x": [
          "Jan",
          "Feb",
          "Mar",
          "Apr",
          "May",
          "Jun",
          "Jul",
          "Aug",
          "Sep",
          "Oct",
          "Nov",
          "Dec"
         ],
         "xaxis": "x",
         "y": [
          23.44479819756998,
          21.02838285007714,
          22.274609386991695,
          20.470716294033178,
          43.06490126781778,
          53.38356815582799,
          53.8624458834657,
          51.099454034743076,
          39.4470029243865,
          33.521212911146065,
          26.381118096016273,
          21.354346139509904
         ],
         "yaxis": "y"
        },
        {
         "customdata": [
          [
           "RegCM4-7",
           "NorESM1-M"
          ],
          [
           "RegCM4-7",
           "NorESM1-M"
          ],
          [
           "RegCM4-7",
           "NorESM1-M"
          ],
          [
           "RegCM4-7",
           "NorESM1-M"
          ],
          [
           "RegCM4-7",
           "NorESM1-M"
          ],
          [
           "RegCM4-7",
           "NorESM1-M"
          ],
          [
           "RegCM4-7",
           "NorESM1-M"
          ],
          [
           "RegCM4-7",
           "NorESM1-M"
          ],
          [
           "RegCM4-7",
           "NorESM1-M"
          ],
          [
           "RegCM4-7",
           "NorESM1-M"
          ],
          [
           "RegCM4-7",
           "NorESM1-M"
          ],
          [
           "RegCM4-7",
           "NorESM1-M"
          ]
         ],
         "hovertemplate": "RCM=%{customdata[0]}<br>Driving GCM=%{customdata[1]}<br>month=%{x}<br>prcptot (mm/month)=%{y}<extra></extra>",
         "legendgroup": "RegCM4-7, NorESM1-M",
         "line": {
          "color": "darkorange",
          "dash": "dashdot"
         },
         "marker": {
          "size": 8,
          "symbol": "circle"
         },
         "mode": "lines",
         "name": "RegCM4-7, NorESM1-M",
         "orientation": "v",
         "showlegend": true,
         "type": "scatter",
         "x": [
          "Jan",
          "Feb",
          "Mar",
          "Apr",
          "May",
          "Jun",
          "Jul",
          "Aug",
          "Sep",
          "Oct",
          "Nov",
          "Dec"
         ],
         "xaxis": "x",
         "y": [
          70.69942687007308,
          52.03627599341735,
          52.46888747218994,
          50.7869889184765,
          62.15003644478898,
          62.22957821120958,
          68.78165511632162,
          76.44414590525221,
          71.43386287815143,
          60.15325713359723,
          66.78228212951657,
          68.16230233388806
         ],
         "yaxis": "y"
        },
        {
         "customdata": [
          [
           "RegCM4-7",
           "HadGEM2-ES"
          ],
          [
           "RegCM4-7",
           "HadGEM2-ES"
          ],
          [
           "RegCM4-7",
           "HadGEM2-ES"
          ],
          [
           "RegCM4-7",
           "HadGEM2-ES"
          ],
          [
           "RegCM4-7",
           "HadGEM2-ES"
          ],
          [
           "RegCM4-7",
           "HadGEM2-ES"
          ],
          [
           "RegCM4-7",
           "HadGEM2-ES"
          ],
          [
           "RegCM4-7",
           "HadGEM2-ES"
          ],
          [
           "RegCM4-7",
           "HadGEM2-ES"
          ],
          [
           "RegCM4-7",
           "HadGEM2-ES"
          ],
          [
           "RegCM4-7",
           "HadGEM2-ES"
          ],
          [
           "RegCM4-7",
           "HadGEM2-ES"
          ]
         ],
         "hovertemplate": "RCM=%{customdata[0]}<br>Driving GCM=%{customdata[1]}<br>month=%{x}<br>prcptot (mm/month)=%{y}<extra></extra>",
         "legendgroup": "RegCM4-7, HadGEM2-ES",
         "line": {
          "color": "darkorange",
          "dash": "dash"
         },
         "marker": {
          "size": 8,
          "symbol": "circle"
         },
         "mode": "lines",
         "name": "RegCM4-7, HadGEM2-ES",
         "orientation": "v",
         "showlegend": true,
         "type": "scatter",
         "x": [
          "Jan",
          "Feb",
          "Mar",
          "Apr",
          "May",
          "Jun",
          "Jul",
          "Aug",
          "Sep",
          "Oct",
          "Nov",
          "Dec"
         ],
         "xaxis": "x",
         "y": [
          74.43893769454854,
          68.51230152503805,
          64.35289620392594,
          63.80291125522214,
          74.92431993088506,
          82.98407185272332,
          79.0309845009281,
          75.56314806395129,
          57.614628727891656,
          55.4990442015358,
          56.29361419649375,
          70.2429942325953
         ],
         "yaxis": "y"
        },
        {
         "customdata": [
          [
           "RegCM4-7",
           "MPI-ESM-MR"
          ],
          [
           "RegCM4-7",
           "MPI-ESM-MR"
          ],
          [
           "RegCM4-7",
           "MPI-ESM-MR"
          ],
          [
           "RegCM4-7",
           "MPI-ESM-MR"
          ],
          [
           "RegCM4-7",
           "MPI-ESM-MR"
          ],
          [
           "RegCM4-7",
           "MPI-ESM-MR"
          ],
          [
           "RegCM4-7",
           "MPI-ESM-MR"
          ],
          [
           "RegCM4-7",
           "MPI-ESM-MR"
          ],
          [
           "RegCM4-7",
           "MPI-ESM-MR"
          ],
          [
           "RegCM4-7",
           "MPI-ESM-MR"
          ],
          [
           "RegCM4-7",
           "MPI-ESM-MR"
          ],
          [
           "RegCM4-7",
           "MPI-ESM-MR"
          ]
         ],
         "hovertemplate": "RCM=%{customdata[0]}<br>Driving GCM=%{customdata[1]}<br>month=%{x}<br>prcptot (mm/month)=%{y}<extra></extra>",
         "legendgroup": "RegCM4-7, MPI-ESM-MR",
         "line": {
          "color": "darkorange",
          "dash": "longdash"
         },
         "marker": {
          "size": 8,
          "symbol": "circle"
         },
         "mode": "lines",
         "name": "RegCM4-7, MPI-ESM-MR",
         "orientation": "v",
         "showlegend": true,
         "type": "scatter",
         "x": [
          "Jan",
          "Feb",
          "Mar",
          "Apr",
          "May",
          "Jun",
          "Jul",
          "Aug",
          "Sep",
          "Oct",
          "Nov",
          "Dec"
         ],
         "xaxis": "x",
         "y": [
          59.624269021762416,
          48.387296951404174,
          51.548856403660174,
          41.607401726132544,
          69.03275340755202,
          86.25345433344745,
          90.76943937520613,
          79.71362791932083,
          68.45853048264578,
          55.6000345702548,
          53.69098347105682,
          50.48184391588027
         ],
         "yaxis": "y"
        },
        {
         "customdata": [
          [
           "WRF360J",
           "ACCESS1-0"
          ],
          [
           "WRF360J",
           "ACCESS1-0"
          ],
          [
           "WRF360J",
           "ACCESS1-0"
          ],
          [
           "WRF360J",
           "ACCESS1-0"
          ],
          [
           "WRF360J",
           "ACCESS1-0"
          ],
          [
           "WRF360J",
           "ACCESS1-0"
          ],
          [
           "WRF360J",
           "ACCESS1-0"
          ],
          [
           "WRF360J",
           "ACCESS1-0"
          ],
          [
           "WRF360J",
           "ACCESS1-0"
          ],
          [
           "WRF360J",
           "ACCESS1-0"
          ],
          [
           "WRF360J",
           "ACCESS1-0"
          ],
          [
           "WRF360J",
           "ACCESS1-0"
          ]
         ],
         "hovertemplate": "RCM=%{customdata[0]}<br>Driving GCM=%{customdata[1]}<br>month=%{x}<br>prcptot (mm/month)=%{y}<extra></extra>",
         "legendgroup": "WRF360J, ACCESS1-0",
         "line": {
          "color": "magenta",
          "dash": "dot"
         },
         "marker": {
          "size": 8,
          "symbol": "circle"
         },
         "mode": "lines",
         "name": "WRF360J, ACCESS1-0",
         "orientation": "v",
         "showlegend": true,
         "type": "scatter",
         "x": [
          "Jan",
          "Feb",
          "Mar",
          "Apr",
          "May",
          "Jun",
          "Jul",
          "Aug",
          "Sep",
          "Oct",
          "Nov",
          "Dec"
         ],
         "xaxis": "x",
         "y": [
          38.77010963579781,
          41.904370092362164,
          38.6240218228161,
          40.68526107087005,
          35.32741991833195,
          40.11864307377058,
          41.78671642594756,
          47.1174719823356,
          43.696775991975386,
          42.668628000114886,
          42.70308489449015,
          40.599937543585334
         ],
         "yaxis": "y"
        },
        {
         "customdata": [
          [
           "WRF360J",
           "CanESM2"
          ],
          [
           "WRF360J",
           "CanESM2"
          ],
          [
           "WRF360J",
           "CanESM2"
          ],
          [
           "WRF360J",
           "CanESM2"
          ],
          [
           "WRF360J",
           "CanESM2"
          ],
          [
           "WRF360J",
           "CanESM2"
          ],
          [
           "WRF360J",
           "CanESM2"
          ],
          [
           "WRF360J",
           "CanESM2"
          ],
          [
           "WRF360J",
           "CanESM2"
          ],
          [
           "WRF360J",
           "CanESM2"
          ],
          [
           "WRF360J",
           "CanESM2"
          ],
          [
           "WRF360J",
           "CanESM2"
          ]
         ],
         "hovertemplate": "RCM=%{customdata[0]}<br>Driving GCM=%{customdata[1]}<br>month=%{x}<br>prcptot (mm/month)=%{y}<extra></extra>",
         "legendgroup": "WRF360J, CanESM2",
         "line": {
          "color": "magenta",
          "dash": "solid"
         },
         "marker": {
          "size": 8,
          "symbol": "circle"
         },
         "mode": "lines",
         "name": "WRF360J, CanESM2",
         "orientation": "v",
         "showlegend": true,
         "type": "scatter",
         "x": [
          "Jan",
          "Feb",
          "Mar",
          "Apr",
          "May",
          "Jun",
          "Jul",
          "Aug",
          "Sep",
          "Oct",
          "Nov",
          "Dec"
         ],
         "xaxis": "x",
         "y": [
          32.817791229042776,
          30.731442875657752,
          38.72254143248381,
          38.52441199261528,
          39.909571053182276,
          46.61828517039786,
          48.90427573167378,
          47.909516393693664,
          44.06845942719749,
          39.91967281315915,
          37.6379565782086,
          34.28242527866717
         ],
         "yaxis": "y"
        },
        {
         "customdata": [
          [
           "WRF360K",
           "ACCESS1-0"
          ],
          [
           "WRF360K",
           "ACCESS1-0"
          ],
          [
           "WRF360K",
           "ACCESS1-0"
          ],
          [
           "WRF360K",
           "ACCESS1-0"
          ],
          [
           "WRF360K",
           "ACCESS1-0"
          ],
          [
           "WRF360K",
           "ACCESS1-0"
          ],
          [
           "WRF360K",
           "ACCESS1-0"
          ],
          [
           "WRF360K",
           "ACCESS1-0"
          ],
          [
           "WRF360K",
           "ACCESS1-0"
          ],
          [
           "WRF360K",
           "ACCESS1-0"
          ],
          [
           "WRF360K",
           "ACCESS1-0"
          ],
          [
           "WRF360K",
           "ACCESS1-0"
          ]
         ],
         "hovertemplate": "RCM=%{customdata[0]}<br>Driving GCM=%{customdata[1]}<br>month=%{x}<br>prcptot (mm/month)=%{y}<extra></extra>",
         "legendgroup": "WRF360K, ACCESS1-0",
         "line": {
          "color": "mediumvioletred",
          "dash": "dot"
         },
         "marker": {
          "size": 8,
          "symbol": "circle"
         },
         "mode": "lines",
         "name": "WRF360K, ACCESS1-0",
         "orientation": "v",
         "showlegend": true,
         "type": "scatter",
         "x": [
          "Jan",
          "Feb",
          "Mar",
          "Apr",
          "May",
          "Jun",
          "Jul",
          "Aug",
          "Sep",
          "Oct",
          "Nov",
          "Dec"
         ],
         "xaxis": "x",
         "y": [
          37.198813006911834,
          37.61762247161764,
          39.475174406518754,
          40.829172949506614,
          40.75082098765444,
          45.11397459623085,
          49.179732125513816,
          52.97265988304336,
          50.595391832457025,
          46.980467128793414,
          43.749849819922225,
          39.47268690466198
         ],
         "yaxis": "y"
        },
        {
         "customdata": [
          [
           "WRF360K",
           "CanESM2"
          ],
          [
           "WRF360K",
           "CanESM2"
          ],
          [
           "WRF360K",
           "CanESM2"
          ],
          [
           "WRF360K",
           "CanESM2"
          ],
          [
           "WRF360K",
           "CanESM2"
          ],
          [
           "WRF360K",
           "CanESM2"
          ],
          [
           "WRF360K",
           "CanESM2"
          ],
          [
           "WRF360K",
           "CanESM2"
          ],
          [
           "WRF360K",
           "CanESM2"
          ],
          [
           "WRF360K",
           "CanESM2"
          ],
          [
           "WRF360K",
           "CanESM2"
          ],
          [
           "WRF360K",
           "CanESM2"
          ]
         ],
         "hovertemplate": "RCM=%{customdata[0]}<br>Driving GCM=%{customdata[1]}<br>month=%{x}<br>prcptot (mm/month)=%{y}<extra></extra>",
         "legendgroup": "WRF360K, CanESM2",
         "line": {
          "color": "mediumvioletred",
          "dash": "solid"
         },
         "marker": {
          "size": 8,
          "symbol": "circle"
         },
         "mode": "lines",
         "name": "WRF360K, CanESM2",
         "orientation": "v",
         "showlegend": true,
         "type": "scatter",
         "x": [
          "Jan",
          "Feb",
          "Mar",
          "Apr",
          "May",
          "Jun",
          "Jul",
          "Aug",
          "Sep",
          "Oct",
          "Nov",
          "Dec"
         ],
         "xaxis": "x",
         "y": [
          26.988373410267613,
          23.23533801326862,
          30.480889611240613,
          35.189694063973775,
          39.96573181768828,
          47.73716121474883,
          49.59108953194974,
          45.49820792350527,
          40.302357035777845,
          34.860482406388456,
          29.629054778499842,
          26.676725748514986
         ],
         "yaxis": "y"
        },
        {
         "hovertemplate": "AGCD: %{y:.2f}mm<br>Month: %{x}<extra></extra>",
         "line": {
          "color": "rgb(0, 0, 0)"
         },
         "marker": {
          "size": 9
         },
         "name": "AGCD",
         "type": "scatter",
         "x": [
          "Jan",
          "Feb",
          "Mar",
          "Apr",
          "May",
          "Jun",
          "Jul",
          "Aug",
          "Sep",
          "Oct",
          "Nov",
          "Dec"
         ],
         "y": [
          26.136153494704285,
          25.045280105470486,
          25.993440230928453,
          27.84055643319726,
          42.40301902388742,
          49.0508459074857,
          48.73085527502092,
          48.51324812687893,
          42.68689036994947,
          38.323651410359254,
          32.08729024616892,
          29.924687244060085
         ]
        }
       ],
       "layout": {
        "height": 700,
        "legend": {
         "title": {
          "text": "RCM, Driving GCM"
         },
         "tracegroupgap": 0
        },
        "template": {
         "data": {
          "bar": [
           {
            "error_x": {
             "color": "#2a3f5f"
            },
            "error_y": {
             "color": "#2a3f5f"
            },
            "marker": {
             "line": {
              "color": "#E5ECF6",
              "width": 0.5
             },
             "pattern": {
              "fillmode": "overlay",
              "size": 10,
              "solidity": 0.2
             }
            },
            "type": "bar"
           }
          ],
          "barpolar": [
           {
            "marker": {
             "line": {
              "color": "#E5ECF6",
              "width": 0.5
             },
             "pattern": {
              "fillmode": "overlay",
              "size": 10,
              "solidity": 0.2
             }
            },
            "type": "barpolar"
           }
          ],
          "carpet": [
           {
            "aaxis": {
             "endlinecolor": "#2a3f5f",
             "gridcolor": "white",
             "linecolor": "white",
             "minorgridcolor": "white",
             "startlinecolor": "#2a3f5f"
            },
            "baxis": {
             "endlinecolor": "#2a3f5f",
             "gridcolor": "white",
             "linecolor": "white",
             "minorgridcolor": "white",
             "startlinecolor": "#2a3f5f"
            },
            "type": "carpet"
           }
          ],
          "choropleth": [
           {
            "colorbar": {
             "outlinewidth": 0,
             "ticks": ""
            },
            "type": "choropleth"
           }
          ],
          "contour": [
           {
            "colorbar": {
             "outlinewidth": 0,
             "ticks": ""
            },
            "colorscale": [
             [
              0,
              "#0d0887"
             ],
             [
              0.1111111111111111,
              "#46039f"
             ],
             [
              0.2222222222222222,
              "#7201a8"
             ],
             [
              0.3333333333333333,
              "#9c179e"
             ],
             [
              0.4444444444444444,
              "#bd3786"
             ],
             [
              0.5555555555555556,
              "#d8576b"
             ],
             [
              0.6666666666666666,
              "#ed7953"
             ],
             [
              0.7777777777777778,
              "#fb9f3a"
             ],
             [
              0.8888888888888888,
              "#fdca26"
             ],
             [
              1,
              "#f0f921"
             ]
            ],
            "type": "contour"
           }
          ],
          "contourcarpet": [
           {
            "colorbar": {
             "outlinewidth": 0,
             "ticks": ""
            },
            "type": "contourcarpet"
           }
          ],
          "heatmap": [
           {
            "colorbar": {
             "outlinewidth": 0,
             "ticks": ""
            },
            "colorscale": [
             [
              0,
              "#0d0887"
             ],
             [
              0.1111111111111111,
              "#46039f"
             ],
             [
              0.2222222222222222,
              "#7201a8"
             ],
             [
              0.3333333333333333,
              "#9c179e"
             ],
             [
              0.4444444444444444,
              "#bd3786"
             ],
             [
              0.5555555555555556,
              "#d8576b"
             ],
             [
              0.6666666666666666,
              "#ed7953"
             ],
             [
              0.7777777777777778,
              "#fb9f3a"
             ],
             [
              0.8888888888888888,
              "#fdca26"
             ],
             [
              1,
              "#f0f921"
             ]
            ],
            "type": "heatmap"
           }
          ],
          "heatmapgl": [
           {
            "colorbar": {
             "outlinewidth": 0,
             "ticks": ""
            },
            "colorscale": [
             [
              0,
              "#0d0887"
             ],
             [
              0.1111111111111111,
              "#46039f"
             ],
             [
              0.2222222222222222,
              "#7201a8"
             ],
             [
              0.3333333333333333,
              "#9c179e"
             ],
             [
              0.4444444444444444,
              "#bd3786"
             ],
             [
              0.5555555555555556,
              "#d8576b"
             ],
             [
              0.6666666666666666,
              "#ed7953"
             ],
             [
              0.7777777777777778,
              "#fb9f3a"
             ],
             [
              0.8888888888888888,
              "#fdca26"
             ],
             [
              1,
              "#f0f921"
             ]
            ],
            "type": "heatmapgl"
           }
          ],
          "histogram": [
           {
            "marker": {
             "pattern": {
              "fillmode": "overlay",
              "size": 10,
              "solidity": 0.2
             }
            },
            "type": "histogram"
           }
          ],
          "histogram2d": [
           {
            "colorbar": {
             "outlinewidth": 0,
             "ticks": ""
            },
            "colorscale": [
             [
              0,
              "#0d0887"
             ],
             [
              0.1111111111111111,
              "#46039f"
             ],
             [
              0.2222222222222222,
              "#7201a8"
             ],
             [
              0.3333333333333333,
              "#9c179e"
             ],
             [
              0.4444444444444444,
              "#bd3786"
             ],
             [
              0.5555555555555556,
              "#d8576b"
             ],
             [
              0.6666666666666666,
              "#ed7953"
             ],
             [
              0.7777777777777778,
              "#fb9f3a"
             ],
             [
              0.8888888888888888,
              "#fdca26"
             ],
             [
              1,
              "#f0f921"
             ]
            ],
            "type": "histogram2d"
           }
          ],
          "histogram2dcontour": [
           {
            "colorbar": {
             "outlinewidth": 0,
             "ticks": ""
            },
            "colorscale": [
             [
              0,
              "#0d0887"
             ],
             [
              0.1111111111111111,
              "#46039f"
             ],
             [
              0.2222222222222222,
              "#7201a8"
             ],
             [
              0.3333333333333333,
              "#9c179e"
             ],
             [
              0.4444444444444444,
              "#bd3786"
             ],
             [
              0.5555555555555556,
              "#d8576b"
             ],
             [
              0.6666666666666666,
              "#ed7953"
             ],
             [
              0.7777777777777778,
              "#fb9f3a"
             ],
             [
              0.8888888888888888,
              "#fdca26"
             ],
             [
              1,
              "#f0f921"
             ]
            ],
            "type": "histogram2dcontour"
           }
          ],
          "mesh3d": [
           {
            "colorbar": {
             "outlinewidth": 0,
             "ticks": ""
            },
            "type": "mesh3d"
           }
          ],
          "parcoords": [
           {
            "line": {
             "colorbar": {
              "outlinewidth": 0,
              "ticks": ""
             }
            },
            "type": "parcoords"
           }
          ],
          "pie": [
           {
            "automargin": true,
            "type": "pie"
           }
          ],
          "scatter": [
           {
            "fillpattern": {
             "fillmode": "overlay",
             "size": 10,
             "solidity": 0.2
            },
            "type": "scatter"
           }
          ],
          "scatter3d": [
           {
            "line": {
             "colorbar": {
              "outlinewidth": 0,
              "ticks": ""
             }
            },
            "marker": {
             "colorbar": {
              "outlinewidth": 0,
              "ticks": ""
             }
            },
            "type": "scatter3d"
           }
          ],
          "scattercarpet": [
           {
            "marker": {
             "colorbar": {
              "outlinewidth": 0,
              "ticks": ""
             }
            },
            "type": "scattercarpet"
           }
          ],
          "scattergeo": [
           {
            "marker": {
             "colorbar": {
              "outlinewidth": 0,
              "ticks": ""
             }
            },
            "type": "scattergeo"
           }
          ],
          "scattergl": [
           {
            "marker": {
             "colorbar": {
              "outlinewidth": 0,
              "ticks": ""
             }
            },
            "type": "scattergl"
           }
          ],
          "scattermapbox": [
           {
            "marker": {
             "colorbar": {
              "outlinewidth": 0,
              "ticks": ""
             }
            },
            "type": "scattermapbox"
           }
          ],
          "scatterpolar": [
           {
            "marker": {
             "colorbar": {
              "outlinewidth": 0,
              "ticks": ""
             }
            },
            "type": "scatterpolar"
           }
          ],
          "scatterpolargl": [
           {
            "marker": {
             "colorbar": {
              "outlinewidth": 0,
              "ticks": ""
             }
            },
            "type": "scatterpolargl"
           }
          ],
          "scatterternary": [
           {
            "marker": {
             "colorbar": {
              "outlinewidth": 0,
              "ticks": ""
             }
            },
            "type": "scatterternary"
           }
          ],
          "surface": [
           {
            "colorbar": {
             "outlinewidth": 0,
             "ticks": ""
            },
            "colorscale": [
             [
              0,
              "#0d0887"
             ],
             [
              0.1111111111111111,
              "#46039f"
             ],
             [
              0.2222222222222222,
              "#7201a8"
             ],
             [
              0.3333333333333333,
              "#9c179e"
             ],
             [
              0.4444444444444444,
              "#bd3786"
             ],
             [
              0.5555555555555556,
              "#d8576b"
             ],
             [
              0.6666666666666666,
              "#ed7953"
             ],
             [
              0.7777777777777778,
              "#fb9f3a"
             ],
             [
              0.8888888888888888,
              "#fdca26"
             ],
             [
              1,
              "#f0f921"
             ]
            ],
            "type": "surface"
           }
          ],
          "table": [
           {
            "cells": {
             "fill": {
              "color": "#EBF0F8"
             },
             "line": {
              "color": "white"
             }
            },
            "header": {
             "fill": {
              "color": "#C8D4E3"
             },
             "line": {
              "color": "white"
             }
            },
            "type": "table"
           }
          ]
         },
         "layout": {
          "annotationdefaults": {
           "arrowcolor": "#2a3f5f",
           "arrowhead": 0,
           "arrowwidth": 1
          },
          "autotypenumbers": "strict",
          "coloraxis": {
           "colorbar": {
            "outlinewidth": 0,
            "ticks": ""
           }
          },
          "colorscale": {
           "diverging": [
            [
             0,
             "#8e0152"
            ],
            [
             0.1,
             "#c51b7d"
            ],
            [
             0.2,
             "#de77ae"
            ],
            [
             0.3,
             "#f1b6da"
            ],
            [
             0.4,
             "#fde0ef"
            ],
            [
             0.5,
             "#f7f7f7"
            ],
            [
             0.6,
             "#e6f5d0"
            ],
            [
             0.7,
             "#b8e186"
            ],
            [
             0.8,
             "#7fbc41"
            ],
            [
             0.9,
             "#4d9221"
            ],
            [
             1,
             "#276419"
            ]
           ],
           "sequential": [
            [
             0,
             "#0d0887"
            ],
            [
             0.1111111111111111,
             "#46039f"
            ],
            [
             0.2222222222222222,
             "#7201a8"
            ],
            [
             0.3333333333333333,
             "#9c179e"
            ],
            [
             0.4444444444444444,
             "#bd3786"
            ],
            [
             0.5555555555555556,
             "#d8576b"
            ],
            [
             0.6666666666666666,
             "#ed7953"
            ],
            [
             0.7777777777777778,
             "#fb9f3a"
            ],
            [
             0.8888888888888888,
             "#fdca26"
            ],
            [
             1,
             "#f0f921"
            ]
           ],
           "sequentialminus": [
            [
             0,
             "#0d0887"
            ],
            [
             0.1111111111111111,
             "#46039f"
            ],
            [
             0.2222222222222222,
             "#7201a8"
            ],
            [
             0.3333333333333333,
             "#9c179e"
            ],
            [
             0.4444444444444444,
             "#bd3786"
            ],
            [
             0.5555555555555556,
             "#d8576b"
            ],
            [
             0.6666666666666666,
             "#ed7953"
            ],
            [
             0.7777777777777778,
             "#fb9f3a"
            ],
            [
             0.8888888888888888,
             "#fdca26"
            ],
            [
             1,
             "#f0f921"
            ]
           ]
          },
          "colorway": [
           "#636efa",
           "#EF553B",
           "#00cc96",
           "#ab63fa",
           "#FFA15A",
           "#19d3f3",
           "#FF6692",
           "#B6E880",
           "#FF97FF",
           "#FECB52"
          ],
          "font": {
           "color": "#2a3f5f"
          },
          "geo": {
           "bgcolor": "white",
           "lakecolor": "white",
           "landcolor": "#E5ECF6",
           "showlakes": true,
           "showland": true,
           "subunitcolor": "white"
          },
          "hoverlabel": {
           "align": "left"
          },
          "hovermode": "closest",
          "mapbox": {
           "style": "light"
          },
          "paper_bgcolor": "white",
          "plot_bgcolor": "#E5ECF6",
          "polar": {
           "angularaxis": {
            "gridcolor": "white",
            "linecolor": "white",
            "ticks": ""
           },
           "bgcolor": "#E5ECF6",
           "radialaxis": {
            "gridcolor": "white",
            "linecolor": "white",
            "ticks": ""
           }
          },
          "scene": {
           "xaxis": {
            "backgroundcolor": "#E5ECF6",
            "gridcolor": "white",
            "gridwidth": 2,
            "linecolor": "white",
            "showbackground": true,
            "ticks": "",
            "zerolinecolor": "white"
           },
           "yaxis": {
            "backgroundcolor": "#E5ECF6",
            "gridcolor": "white",
            "gridwidth": 2,
            "linecolor": "white",
            "showbackground": true,
            "ticks": "",
            "zerolinecolor": "white"
           },
           "zaxis": {
            "backgroundcolor": "#E5ECF6",
            "gridcolor": "white",
            "gridwidth": 2,
            "linecolor": "white",
            "showbackground": true,
            "ticks": "",
            "zerolinecolor": "white"
           }
          },
          "shapedefaults": {
           "line": {
            "color": "#2a3f5f"
           }
          },
          "ternary": {
           "aaxis": {
            "gridcolor": "white",
            "linecolor": "white",
            "ticks": ""
           },
           "baxis": {
            "gridcolor": "white",
            "linecolor": "white",
            "ticks": ""
           },
           "bgcolor": "#E5ECF6",
           "caxis": {
            "gridcolor": "white",
            "linecolor": "white",
            "ticks": ""
           }
          },
          "title": {
           "x": 0.05
          },
          "xaxis": {
           "automargin": true,
           "gridcolor": "white",
           "linecolor": "white",
           "ticks": "",
           "title": {
            "standoff": 15
           },
           "zerolinecolor": "white",
           "zerolinewidth": 2
          },
          "yaxis": {
           "automargin": true,
           "gridcolor": "white",
           "linecolor": "white",
           "ticks": "",
           "title": {
            "standoff": 15
           },
           "zerolinecolor": "white",
           "zerolinewidth": 2
          }
         }
        },
        "title": {
         "text": "SAU Average Total Monthly Rainfall (1976-2005) <br> Combined Quality Mask Applied",
         "x": 0.45
        },
        "width": 1080,
        "xaxis": {
         "anchor": "y",
         "autorange": true,
         "domain": [
          0,
          1
         ],
         "range": [
          -0.7127596658534784,
          11.71275966585348
         ],
         "title": {
          "text": "month"
         },
         "type": "category"
        },
        "yaxis": {
         "anchor": "x",
         "autorange": true,
         "domain": [
          0,
          1
         ],
         "range": [
          10.014066899417609,
          95.01972213708974
         ],
         "title": {
          "text": "prcptot (mm/month)"
         },
         "type": "linear"
        }
       }
      },
      "image/png": "[encoded data removed]",
      "text/html": [
       "<div>                            <div id=\"b65ea180-9e2d-41bc-bbca-91e8dde215ba\" class=\"plotly-graph-div\" style=\"height:700px; width:1080px;\"></div>            <script type=\"text/javascript\">                require([\"plotly\"], function(Plotly) {                    window.PLOTLYENV=window.PLOTLYENV || {};                                    if (document.getElementById(\"b65ea180-9e2d-41bc-bbca-91e8dde215ba\")) {                    Plotly.newPlot(                        \"b65ea180-9e2d-41bc-bbca-91e8dde215ba\",                        [{\"customdata\":[[\"CCAM-1704\",\"ACCESS1-0\"],[\"CCAM-1704\",\"ACCESS1-0\"],[\"CCAM-1704\",\"ACCESS1-0\"],[\"CCAM-1704\",\"ACCESS1-0\"],[\"CCAM-1704\",\"ACCESS1-0\"],[\"CCAM-1704\",\"ACCESS1-0\"],[\"CCAM-1704\",\"ACCESS1-0\"],[\"CCAM-1704\",\"ACCESS1-0\"],[\"CCAM-1704\",\"ACCESS1-0\"],[\"CCAM-1704\",\"ACCESS1-0\"],[\"CCAM-1704\",\"ACCESS1-0\"],[\"CCAM-1704\",\"ACCESS1-0\"]],\"hovertemplate\":\"RCM=%{customdata[0]}\\u003cbr\\u003eDriving GCM=%{customdata[1]}\\u003cbr\\u003emonth=%{x}\\u003cbr\\u003eprcptot (mm\\u002fmonth)=%{y}\\u003cextra\\u003e\\u003c\\u002fextra\\u003e\",\"legendgroup\":\"CCAM-1704, ACCESS1-0\",\"line\":{\"color\":\"deepskyblue\",\"dash\":\"dot\"},\"marker\":{\"symbol\":\"circle\",\"size\":8},\"mode\":\"lines\",\"name\":\"CCAM-1704, ACCESS1-0\",\"orientation\":\"v\",\"showlegend\":true,\"x\":[\"Jan\",\"Feb\",\"Mar\",\"Apr\",\"May\",\"Jun\",\"Jul\",\"Aug\",\"Sep\",\"Oct\",\"Nov\",\"Dec\"],\"xaxis\":\"x\",\"y\":[33.030254815894025,44.48836238420544,42.407060787327865,33.19365657065021,39.12268823639189,41.96396932527684,49.73202696295037,50.02229795195306,33.18298482411239,40.33848089551659,32.70806798563984,27.489754824478542],\"yaxis\":\"y\",\"type\":\"scatter\"},{\"customdata\":[[\"CCAM-1704\",\"CNRM-CM5\"],[\"CCAM-1704\",\"CNRM-CM5\"],[\"CCAM-1704\",\"CNRM-CM5\"],[\"CCAM-1704\",\"CNRM-CM5\"],[\"CCAM-1704\",\"CNRM-CM5\"],[\"CCAM-1704\",\"CNRM-CM5\"],[\"CCAM-1704\",\"CNRM-CM5\"],[\"CCAM-1704\",\"CNRM-CM5\"],[\"CCAM-1704\",\"CNRM-CM5\"],[\"CCAM-1704\",\"CNRM-CM5\"],[\"CCAM-1704\",\"CNRM-CM5\"],[\"CCAM-1704\",\"CNRM-CM5\"]],\"hovertemplate\":\"RCM=%{customdata[0]}\\u003cbr\\u003eDriving GCM=%{customdata[1]}\\u003cbr\\u003emonth=%{x}\\u003cbr\\u003eprcptot (mm\\u002fmonth)=%{y}\\u003cextra\\u003e\\u003c\\u002fextra\\u003e\",\"legendgroup\":\"CCAM-1704, CNRM-CM5\",\"line\":{\"color\":\"deepskyblue\",\"dash\":\"longdash\"},\"marker\":{\"symbol\":\"circle\",\"size\":8},\"mode\":\"lines\",\"name\":\"CCAM-1704, CNRM-CM5\",\"orientation\":\"v\",\"showlegend\":true,\"x\":[\"Jan\",\"Feb\",\"Mar\",\"Apr\",\"May\",\"Jun\",\"Jul\",\"Aug\",\"Sep\",\"Oct\",\"Nov\",\"Dec\"],\"xaxis\":\"x\",\"y\":[30.02720726533081,37.36294521488561,42.068761905755146,35.903895089562624,41.038726211616186,42.935880026658495,54.98137455810241,49.20817330218261,35.95460302439489,32.732897165710654,39.062647070486605,34.73024827896892],\"yaxis\":\"y\",\"type\":\"scatter\"},{\"customdata\":[[\"CCAM-1704\",\"GFDL-ESM2M\"],[\"CCAM-1704\",\"GFDL-ESM2M\"],[\"CCAM-1704\",\"GFDL-ESM2M\"],[\"CCAM-1704\",\"GFDL-ESM2M\"],[\"CCAM-1704\",\"GFDL-ESM2M\"],[\"CCAM-1704\",\"GFDL-ESM2M\"],[\"CCAM-1704\",\"GFDL-ESM2M\"],[\"CCAM-1704\",\"GFDL-ESM2M\"],[\"CCAM-1704\",\"GFDL-ESM2M\"],[\"CCAM-1704\",\"GFDL-ESM2M\"],[\"CCAM-1704\",\"GFDL-ESM2M\"],[\"CCAM-1704\",\"GFDL-ESM2M\"]],\"hovertemplate\":\"RCM=%{customdata[0]}\\u003cbr\\u003eDriving GCM=%{customdata[1]}\\u003cbr\\u003emonth=%{x}\\u003cbr\\u003eprcptot (mm\\u002fmonth)=%{y}\\u003cextra\\u003e\\u003c\\u002fextra\\u003e\",\"legendgroup\":\"CCAM-1704, GFDL-ESM2M\",\"line\":{\"color\":\"deepskyblue\",\"dash\":\"20px,4px,8px\"},\"marker\":{\"symbol\":\"circle\",\"size\":8},\"mode\":\"lines\",\"name\":\"CCAM-1704, GFDL-ESM2M\",\"orientation\":\"v\",\"showlegend\":true,\"x\":[\"Jan\",\"Feb\",\"Mar\",\"Apr\",\"May\",\"Jun\",\"Jul\",\"Aug\",\"Sep\",\"Oct\",\"Nov\",\"Dec\"],\"xaxis\":\"x\",\"y\":[30.123102520498616,43.63605755842078,43.52087223056479,31.638390818249764,39.425470342575814,45.513986215098484,54.35917452792549,49.872747458437196,39.73630216090116,30.380494213916386,29.407939534915094,30.331825436087954],\"yaxis\":\"y\",\"type\":\"scatter\"},{\"customdata\":[[\"CCAM-1704\",\"HadGEM2-CC\"],[\"CCAM-1704\",\"HadGEM2-CC\"],[\"CCAM-1704\",\"HadGEM2-CC\"],[\"CCAM-1704\",\"HadGEM2-CC\"],[\"CCAM-1704\",\"HadGEM2-CC\"],[\"CCAM-1704\",\"HadGEM2-CC\"],[\"CCAM-1704\",\"HadGEM2-CC\"],[\"CCAM-1704\",\"HadGEM2-CC\"],[\"CCAM-1704\",\"HadGEM2-CC\"],[\"CCAM-1704\",\"HadGEM2-CC\"],[\"CCAM-1704\",\"HadGEM2-CC\"],[\"CCAM-1704\",\"HadGEM2-CC\"]],\"hovertemplate\":\"RCM=%{customdata[0]}\\u003cbr\\u003eDriving GCM=%{customdata[1]}\\u003cbr\\u003emonth=%{x}\\u003cbr\\u003eprcptot (mm\\u002fmonth)=%{y}\\u003cextra\\u003e\\u003c\\u002fextra\\u003e\",\"legendgroup\":\"CCAM-1704, HadGEM2-CC\",\"line\":{\"color\":\"deepskyblue\",\"dash\":\"dash\"},\"marker\":{\"symbol\":\"circle\",\"size\":8},\"mode\":\"lines\",\"name\":\"CCAM-1704, HadGEM2-CC\",\"orientation\":\"v\",\"showlegend\":true,\"x\":[\"Jan\",\"Feb\",\"Mar\",\"Apr\",\"May\",\"Jun\",\"Jul\",\"Aug\",\"Sep\",\"Oct\",\"Nov\",\"Dec\"],\"xaxis\":\"x\",\"y\":[36.01318799509532,33.450876524353525,36.73049815228378,32.6082701804621,38.6882283205097,43.13256592130717,55.19490915063851,45.72335438724084,33.83959855809737,35.86053445352994,36.37736622880877,30.37643893785847],\"yaxis\":\"y\",\"type\":\"scatter\"},{\"customdata\":[[\"CCAM-1704\",\"MIROC5\"],[\"CCAM-1704\",\"MIROC5\"],[\"CCAM-1704\",\"MIROC5\"],[\"CCAM-1704\",\"MIROC5\"],[\"CCAM-1704\",\"MIROC5\"],[\"CCAM-1704\",\"MIROC5\"],[\"CCAM-1704\",\"MIROC5\"],[\"CCAM-1704\",\"MIROC5\"],[\"CCAM-1704\",\"MIROC5\"],[\"CCAM-1704\",\"MIROC5\"],[\"CCAM-1704\",\"MIROC5\"],[\"CCAM-1704\",\"MIROC5\"]],\"hovertemplate\":\"RCM=%{customdata[0]}\\u003cbr\\u003eDriving GCM=%{customdata[1]}\\u003cbr\\u003emonth=%{x}\\u003cbr\\u003eprcptot (mm\\u002fmonth)=%{y}\\u003cextra\\u003e\\u003c\\u002fextra\\u003e\",\"legendgroup\":\"CCAM-1704, MIROC5\",\"line\":{\"color\":\"deepskyblue\",\"dash\":\"longdashdot\"},\"marker\":{\"symbol\":\"circle\",\"size\":8},\"mode\":\"lines\",\"name\":\"CCAM-1704, MIROC5\",\"orientation\":\"v\",\"showlegend\":true,\"x\":[\"Jan\",\"Feb\",\"Mar\",\"Apr\",\"May\",\"Jun\",\"Jul\",\"Aug\",\"Sep\",\"Oct\",\"Nov\",\"Dec\"],\"xaxis\":\"x\",\"y\":[41.79174277401604,40.06743212736432,49.75937895212754,39.9137471810502,44.44421533798324,50.025754511000294,53.29923080136788,42.98266278111974,34.119843055098414,39.16753676404224,36.92340849445895,31.64108805105629],\"yaxis\":\"y\",\"type\":\"scatter\"},{\"customdata\":[[\"CCAM-1704\",\"NorESM1-M\"],[\"CCAM-1704\",\"NorESM1-M\"],[\"CCAM-1704\",\"NorESM1-M\"],[\"CCAM-1704\",\"NorESM1-M\"],[\"CCAM-1704\",\"NorESM1-M\"],[\"CCAM-1704\",\"NorESM1-M\"],[\"CCAM-1704\",\"NorESM1-M\"],[\"CCAM-1704\",\"NorESM1-M\"],[\"CCAM-1704\",\"NorESM1-M\"],[\"CCAM-1704\",\"NorESM1-M\"],[\"CCAM-1704\",\"NorESM1-M\"],[\"CCAM-1704\",\"NorESM1-M\"]],\"hovertemplate\":\"RCM=%{customdata[0]}\\u003cbr\\u003eDriving GCM=%{customdata[1]}\\u003cbr\\u003emonth=%{x}\\u003cbr\\u003eprcptot (mm\\u002fmonth)=%{y}\\u003cextra\\u003e\\u003c\\u002fextra\\u003e\",\"legendgroup\":\"CCAM-1704, NorESM1-M\",\"line\":{\"color\":\"deepskyblue\",\"dash\":\"dashdot\"},\"marker\":{\"symbol\":\"circle\",\"size\":8},\"mode\":\"lines\",\"name\":\"CCAM-1704, NorESM1-M\",\"orientation\":\"v\",\"showlegend\":true,\"x\":[\"Jan\",\"Feb\",\"Mar\",\"Apr\",\"May\",\"Jun\",\"Jul\",\"Aug\",\"Sep\",\"Oct\",\"Nov\",\"Dec\"],\"xaxis\":\"x\",\"y\":[40.06066909721984,46.81188221686156,39.517207798992786,36.43350141897755,48.65911187727555,47.8662076939611,54.119430471037965,44.770044990660985,34.83695202335717,41.95056607488493,27.46474096233972,27.91830888617243],\"yaxis\":\"y\",\"type\":\"scatter\"},{\"customdata\":[[\"CCAM-2008\",\"ACCESS1-0\"],[\"CCAM-2008\",\"ACCESS1-0\"],[\"CCAM-2008\",\"ACCESS1-0\"],[\"CCAM-2008\",\"ACCESS1-0\"],[\"CCAM-2008\",\"ACCESS1-0\"],[\"CCAM-2008\",\"ACCESS1-0\"],[\"CCAM-2008\",\"ACCESS1-0\"],[\"CCAM-2008\",\"ACCESS1-0\"],[\"CCAM-2008\",\"ACCESS1-0\"],[\"CCAM-2008\",\"ACCESS1-0\"],[\"CCAM-2008\",\"ACCESS1-0\"],[\"CCAM-2008\",\"ACCESS1-0\"]],\"hovertemplate\":\"RCM=%{customdata[0]}\\u003cbr\\u003eDriving GCM=%{customdata[1]}\\u003cbr\\u003emonth=%{x}\\u003cbr\\u003eprcptot (mm\\u002fmonth)=%{y}\\u003cextra\\u003e\\u003c\\u002fextra\\u003e\",\"legendgroup\":\"CCAM-2008, ACCESS1-0\",\"line\":{\"color\":\"limegreen\",\"dash\":\"dot\"},\"marker\":{\"symbol\":\"circle\",\"size\":8},\"mode\":\"lines\",\"name\":\"CCAM-2008, ACCESS1-0\",\"orientation\":\"v\",\"showlegend\":true,\"x\":[\"Jan\",\"Feb\",\"Mar\",\"Apr\",\"May\",\"Jun\",\"Jul\",\"Aug\",\"Sep\",\"Oct\",\"Nov\",\"Dec\"],\"xaxis\":\"x\",\"y\":[39.92130666372019,44.68323666441539,34.449547852072435,35.72940502690829,34.381796184043914,42.861143755650154,46.02750746743139,47.42827886211981,35.501520016939125,39.01441887475483,44.5443541730009,47.1605198505357],\"yaxis\":\"y\",\"type\":\"scatter\"},{\"customdata\":[[\"CCAM-2008\",\"GFDL-ESM2M\"],[\"CCAM-2008\",\"GFDL-ESM2M\"],[\"CCAM-2008\",\"GFDL-ESM2M\"],[\"CCAM-2008\",\"GFDL-ESM2M\"],[\"CCAM-2008\",\"GFDL-ESM2M\"],[\"CCAM-2008\",\"GFDL-ESM2M\"],[\"CCAM-2008\",\"GFDL-ESM2M\"],[\"CCAM-2008\",\"GFDL-ESM2M\"],[\"CCAM-2008\",\"GFDL-ESM2M\"],[\"CCAM-2008\",\"GFDL-ESM2M\"],[\"CCAM-2008\",\"GFDL-ESM2M\"],[\"CCAM-2008\",\"GFDL-ESM2M\"]],\"hovertemplate\":\"RCM=%{customdata[0]}\\u003cbr\\u003eDriving GCM=%{customdata[1]}\\u003cbr\\u003emonth=%{x}\\u003cbr\\u003eprcptot (mm\\u002fmonth)=%{y}\\u003cextra\\u003e\\u003c\\u002fextra\\u003e\",\"legendgroup\":\"CCAM-2008, GFDL-ESM2M\",\"line\":{\"color\":\"limegreen\",\"dash\":\"20px,4px,8px\"},\"marker\":{\"symbol\":\"circle\",\"size\":8},\"mode\":\"lines\",\"name\":\"CCAM-2008, GFDL-ESM2M\",\"orientation\":\"v\",\"showlegend\":true,\"x\":[\"Jan\",\"Feb\",\"Mar\",\"Apr\",\"May\",\"Jun\",\"Jul\",\"Aug\",\"Sep\",\"Oct\",\"Nov\",\"Dec\"],\"xaxis\":\"x\",\"y\":[46.63223987532106,42.278297032800225,42.75300447239467,29.646103968570586,37.87097513564239,49.81798699718754,48.695114735814016,39.56966757666184,34.406477298435114,32.34561071440386,32.65057049182395,38.29928321747538],\"yaxis\":\"y\",\"type\":\"scatter\"},{\"customdata\":[[\"CCAM-2008\",\"MIROC5\"],[\"CCAM-2008\",\"MIROC5\"],[\"CCAM-2008\",\"MIROC5\"],[\"CCAM-2008\",\"MIROC5\"],[\"CCAM-2008\",\"MIROC5\"],[\"CCAM-2008\",\"MIROC5\"],[\"CCAM-2008\",\"MIROC5\"],[\"CCAM-2008\",\"MIROC5\"],[\"CCAM-2008\",\"MIROC5\"],[\"CCAM-2008\",\"MIROC5\"],[\"CCAM-2008\",\"MIROC5\"],[\"CCAM-2008\",\"MIROC5\"]],\"hovertemplate\":\"RCM=%{customdata[0]}\\u003cbr\\u003eDriving GCM=%{customdata[1]}\\u003cbr\\u003emonth=%{x}\\u003cbr\\u003eprcptot (mm\\u002fmonth)=%{y}\\u003cextra\\u003e\\u003c\\u002fextra\\u003e\",\"legendgroup\":\"CCAM-2008, MIROC5\",\"line\":{\"color\":\"limegreen\",\"dash\":\"longdashdot\"},\"marker\":{\"symbol\":\"circle\",\"size\":8},\"mode\":\"lines\",\"name\":\"CCAM-2008, MIROC5\",\"orientation\":\"v\",\"showlegend\":true,\"x\":[\"Jan\",\"Feb\",\"Mar\",\"Apr\",\"May\",\"Jun\",\"Jul\",\"Aug\",\"Sep\",\"Oct\",\"Nov\",\"Dec\"],\"xaxis\":\"x\",\"y\":[36.831539613477645,36.09260900991581,37.05928144908747,31.47364976942414,36.69129031230605,51.82498876440788,55.59345576465644,57.279940134592806,47.665250184254546,37.49467667000959,26.867350736609602,32.46433667048283],\"yaxis\":\"y\",\"type\":\"scatter\"},{\"customdata\":[[\"CCAM-2008\",\"NorESM1-M\"],[\"CCAM-2008\",\"NorESM1-M\"],[\"CCAM-2008\",\"NorESM1-M\"],[\"CCAM-2008\",\"NorESM1-M\"],[\"CCAM-2008\",\"NorESM1-M\"],[\"CCAM-2008\",\"NorESM1-M\"],[\"CCAM-2008\",\"NorESM1-M\"],[\"CCAM-2008\",\"NorESM1-M\"],[\"CCAM-2008\",\"NorESM1-M\"],[\"CCAM-2008\",\"NorESM1-M\"],[\"CCAM-2008\",\"NorESM1-M\"],[\"CCAM-2008\",\"NorESM1-M\"]],\"hovertemplate\":\"RCM=%{customdata[0]}\\u003cbr\\u003eDriving GCM=%{customdata[1]}\\u003cbr\\u003emonth=%{x}\\u003cbr\\u003eprcptot (mm\\u002fmonth)=%{y}\\u003cextra\\u003e\\u003c\\u002fextra\\u003e\",\"legendgroup\":\"CCAM-2008, NorESM1-M\",\"line\":{\"color\":\"limegreen\",\"dash\":\"dashdot\"},\"marker\":{\"symbol\":\"circle\",\"size\":8},\"mode\":\"lines\",\"name\":\"CCAM-2008, NorESM1-M\",\"orientation\":\"v\",\"showlegend\":true,\"x\":[\"Jan\",\"Feb\",\"Mar\",\"Apr\",\"May\",\"Jun\",\"Jul\",\"Aug\",\"Sep\",\"Oct\",\"Nov\",\"Dec\"],\"xaxis\":\"x\",\"y\":[28.111703439414182,34.640995763443804,27.914731077845534,18.10797300900679,21.658381097520635,28.737952155888692,38.02410704644235,37.63042891085543,27.9815805844866,16.785411234384377,14.264349661301216,18.336270076724766],\"yaxis\":\"y\",\"type\":\"scatter\"},{\"customdata\":[[\"CCAM-2008\",\"CanESM2\"],[\"CCAM-2008\",\"CanESM2\"],[\"CCAM-2008\",\"CanESM2\"],[\"CCAM-2008\",\"CanESM2\"],[\"CCAM-2008\",\"CanESM2\"],[\"CCAM-2008\",\"CanESM2\"],[\"CCAM-2008\",\"CanESM2\"],[\"CCAM-2008\",\"CanESM2\"],[\"CCAM-2008\",\"CanESM2\"],[\"CCAM-2008\",\"CanESM2\"],[\"CCAM-2008\",\"CanESM2\"],[\"CCAM-2008\",\"CanESM2\"]],\"hovertemplate\":\"RCM=%{customdata[0]}\\u003cbr\\u003eDriving GCM=%{customdata[1]}\\u003cbr\\u003emonth=%{x}\\u003cbr\\u003eprcptot (mm\\u002fmonth)=%{y}\\u003cextra\\u003e\\u003c\\u002fextra\\u003e\",\"legendgroup\":\"CCAM-2008, CanESM2\",\"line\":{\"color\":\"limegreen\",\"dash\":\"solid\"},\"marker\":{\"symbol\":\"circle\",\"size\":8},\"mode\":\"lines\",\"name\":\"CCAM-2008, CanESM2\",\"orientation\":\"v\",\"showlegend\":true,\"x\":[\"Jan\",\"Feb\",\"Mar\",\"Apr\",\"May\",\"Jun\",\"Jul\",\"Aug\",\"Sep\",\"Oct\",\"Nov\",\"Dec\"],\"xaxis\":\"x\",\"y\":[51.1551169370601,50.63837457493938,47.6835594985215,40.77677257706732,45.59499777118535,49.37125885471388,54.897743743985366,47.067281392242315,45.07587915553065,46.334666957986975,56.15986376949726,53.173959518490825],\"yaxis\":\"y\",\"type\":\"scatter\"},{\"customdata\":[[\"CCLM5-0-15\",\"NorESM1-M\"],[\"CCLM5-0-15\",\"NorESM1-M\"],[\"CCLM5-0-15\",\"NorESM1-M\"],[\"CCLM5-0-15\",\"NorESM1-M\"],[\"CCLM5-0-15\",\"NorESM1-M\"],[\"CCLM5-0-15\",\"NorESM1-M\"],[\"CCLM5-0-15\",\"NorESM1-M\"],[\"CCLM5-0-15\",\"NorESM1-M\"],[\"CCLM5-0-15\",\"NorESM1-M\"],[\"CCLM5-0-15\",\"NorESM1-M\"],[\"CCLM5-0-15\",\"NorESM1-M\"],[\"CCLM5-0-15\",\"NorESM1-M\"]],\"hovertemplate\":\"RCM=%{customdata[0]}\\u003cbr\\u003eDriving GCM=%{customdata[1]}\\u003cbr\\u003emonth=%{x}\\u003cbr\\u003eprcptot (mm\\u002fmonth)=%{y}\\u003cextra\\u003e\\u003c\\u002fextra\\u003e\",\"legendgroup\":\"CCLM5-0-15, NorESM1-M\",\"line\":{\"color\":\"indianred\",\"dash\":\"dashdot\"},\"marker\":{\"symbol\":\"circle\",\"size\":8},\"mode\":\"lines\",\"name\":\"CCLM5-0-15, NorESM1-M\",\"orientation\":\"v\",\"showlegend\":true,\"x\":[\"Jan\",\"Feb\",\"Mar\",\"Apr\",\"May\",\"Jun\",\"Jul\",\"Aug\",\"Sep\",\"Oct\",\"Nov\",\"Dec\"],\"xaxis\":\"x\",\"y\":[25.657465415549833,21.642397795682374,24.968043786408273,22.720668171538655,26.340700460653995,27.814598625143805,34.1110600440405,43.26838189246269,38.629274935856664,30.792255209893863,27.945275175843918,27.326607573201557],\"yaxis\":\"y\",\"type\":\"scatter\"},{\"customdata\":[[\"CCLM5-0-15\",\"HadGEM2-ES\"],[\"CCLM5-0-15\",\"HadGEM2-ES\"],[\"CCLM5-0-15\",\"HadGEM2-ES\"],[\"CCLM5-0-15\",\"HadGEM2-ES\"],[\"CCLM5-0-15\",\"HadGEM2-ES\"],[\"CCLM5-0-15\",\"HadGEM2-ES\"],[\"CCLM5-0-15\",\"HadGEM2-ES\"],[\"CCLM5-0-15\",\"HadGEM2-ES\"],[\"CCLM5-0-15\",\"HadGEM2-ES\"],[\"CCLM5-0-15\",\"HadGEM2-ES\"],[\"CCLM5-0-15\",\"HadGEM2-ES\"],[\"CCLM5-0-15\",\"HadGEM2-ES\"]],\"hovertemplate\":\"RCM=%{customdata[0]}\\u003cbr\\u003eDriving GCM=%{customdata[1]}\\u003cbr\\u003emonth=%{x}\\u003cbr\\u003eprcptot (mm\\u002fmonth)=%{y}\\u003cextra\\u003e\\u003c\\u002fextra\\u003e\",\"legendgroup\":\"CCLM5-0-15, HadGEM2-ES\",\"line\":{\"color\":\"indianred\",\"dash\":\"dash\"},\"marker\":{\"symbol\":\"circle\",\"size\":8},\"mode\":\"lines\",\"name\":\"CCLM5-0-15, HadGEM2-ES\",\"orientation\":\"v\",\"showlegend\":true,\"x\":[\"Jan\",\"Feb\",\"Mar\",\"Apr\",\"May\",\"Jun\",\"Jul\",\"Aug\",\"Sep\",\"Oct\",\"Nov\",\"Dec\"],\"xaxis\":\"x\",\"y\":[28.306702970029427,35.98442370017098,37.35020245743616,28.770578694912366,31.95417509506749,38.04498998352879,39.016505251919185,37.50373628695398,31.829864627135407,25.710865017142567,23.61404292766854,26.467641518719613],\"yaxis\":\"y\",\"type\":\"scatter\"},{\"customdata\":[[\"CCLM5-0-15\",\"MPI-ESM-LR\"],[\"CCLM5-0-15\",\"MPI-ESM-LR\"],[\"CCLM5-0-15\",\"MPI-ESM-LR\"],[\"CCLM5-0-15\",\"MPI-ESM-LR\"],[\"CCLM5-0-15\",\"MPI-ESM-LR\"],[\"CCLM5-0-15\",\"MPI-ESM-LR\"],[\"CCLM5-0-15\",\"MPI-ESM-LR\"],[\"CCLM5-0-15\",\"MPI-ESM-LR\"],[\"CCLM5-0-15\",\"MPI-ESM-LR\"],[\"CCLM5-0-15\",\"MPI-ESM-LR\"],[\"CCLM5-0-15\",\"MPI-ESM-LR\"],[\"CCLM5-0-15\",\"MPI-ESM-LR\"]],\"hovertemplate\":\"RCM=%{customdata[0]}\\u003cbr\\u003eDriving GCM=%{customdata[1]}\\u003cbr\\u003emonth=%{x}\\u003cbr\\u003eprcptot (mm\\u002fmonth)=%{y}\\u003cextra\\u003e\\u003c\\u002fextra\\u003e\",\"legendgroup\":\"CCLM5-0-15, MPI-ESM-LR\",\"line\":{\"color\":\"indianred\",\"dash\":\"longdash\"},\"marker\":{\"symbol\":\"circle\",\"size\":8},\"mode\":\"lines\",\"name\":\"CCLM5-0-15, MPI-ESM-LR\",\"orientation\":\"v\",\"showlegend\":true,\"x\":[\"Jan\",\"Feb\",\"Mar\",\"Apr\",\"May\",\"Jun\",\"Jul\",\"Aug\",\"Sep\",\"Oct\",\"Nov\",\"Dec\"],\"xaxis\":\"x\",\"y\":[29.243186079008492,27.68118637791408,24.35851440753712,19.20234108069908,36.03526187229443,47.82788871778326,46.93575186848151,45.9310657547512,35.08975111357986,33.13156123175433,29.996104376352353,26.101194247502214],\"yaxis\":\"y\",\"type\":\"scatter\"},{\"customdata\":[[\"REMO2015\",\"NorESM1-M\"],[\"REMO2015\",\"NorESM1-M\"],[\"REMO2015\",\"NorESM1-M\"],[\"REMO2015\",\"NorESM1-M\"],[\"REMO2015\",\"NorESM1-M\"],[\"REMO2015\",\"NorESM1-M\"],[\"REMO2015\",\"NorESM1-M\"],[\"REMO2015\",\"NorESM1-M\"],[\"REMO2015\",\"NorESM1-M\"],[\"REMO2015\",\"NorESM1-M\"],[\"REMO2015\",\"NorESM1-M\"],[\"REMO2015\",\"NorESM1-M\"]],\"hovertemplate\":\"RCM=%{customdata[0]}\\u003cbr\\u003eDriving GCM=%{customdata[1]}\\u003cbr\\u003emonth=%{x}\\u003cbr\\u003eprcptot (mm\\u002fmonth)=%{y}\\u003cextra\\u003e\\u003c\\u002fextra\\u003e\",\"legendgroup\":\"REMO2015, NorESM1-M\",\"line\":{\"color\":\"mediumpurple\",\"dash\":\"dashdot\"},\"marker\":{\"symbol\":\"circle\",\"size\":8},\"mode\":\"lines\",\"name\":\"REMO2015, NorESM1-M\",\"orientation\":\"v\",\"showlegend\":true,\"x\":[\"Jan\",\"Feb\",\"Mar\",\"Apr\",\"May\",\"Jun\",\"Jul\",\"Aug\",\"Sep\",\"Oct\",\"Nov\",\"Dec\"],\"xaxis\":\"x\",\"y\":[28.851752896120953,23.794383371585177,23.338081969527114,27.401852976054727,30.072453669827503,33.159481976031365,43.49855261387942,48.96772148029984,44.711132141110035,35.003588063367964,33.02016023349604,29.143565998469814],\"yaxis\":\"y\",\"type\":\"scatter\"},{\"customdata\":[[\"REMO2015\",\"HadGEM2-ES\"],[\"REMO2015\",\"HadGEM2-ES\"],[\"REMO2015\",\"HadGEM2-ES\"],[\"REMO2015\",\"HadGEM2-ES\"],[\"REMO2015\",\"HadGEM2-ES\"],[\"REMO2015\",\"HadGEM2-ES\"],[\"REMO2015\",\"HadGEM2-ES\"],[\"REMO2015\",\"HadGEM2-ES\"],[\"REMO2015\",\"HadGEM2-ES\"],[\"REMO2015\",\"HadGEM2-ES\"],[\"REMO2015\",\"HadGEM2-ES\"],[\"REMO2015\",\"HadGEM2-ES\"]],\"hovertemplate\":\"RCM=%{customdata[0]}\\u003cbr\\u003eDriving GCM=%{customdata[1]}\\u003cbr\\u003emonth=%{x}\\u003cbr\\u003eprcptot (mm\\u002fmonth)=%{y}\\u003cextra\\u003e\\u003c\\u002fextra\\u003e\",\"legendgroup\":\"REMO2015, HadGEM2-ES\",\"line\":{\"color\":\"mediumpurple\",\"dash\":\"dash\"},\"marker\":{\"symbol\":\"circle\",\"size\":8},\"mode\":\"lines\",\"name\":\"REMO2015, HadGEM2-ES\",\"orientation\":\"v\",\"showlegend\":true,\"x\":[\"Jan\",\"Feb\",\"Mar\",\"Apr\",\"May\",\"Jun\",\"Jul\",\"Aug\",\"Sep\",\"Oct\",\"Nov\",\"Dec\"],\"xaxis\":\"x\",\"y\":[25.418183607038387,27.89030798508893,28.855918317624383,26.176612042207534,37.50460381612515,48.226632130091495,49.809646949665336,48.76879912318917,39.53536454307819,33.055484989327304,30.098687298878918,29.181523057921883],\"yaxis\":\"y\",\"type\":\"scatter\"},{\"customdata\":[[\"REMO2015\",\"MPI-ESM-LR\"],[\"REMO2015\",\"MPI-ESM-LR\"],[\"REMO2015\",\"MPI-ESM-LR\"],[\"REMO2015\",\"MPI-ESM-LR\"],[\"REMO2015\",\"MPI-ESM-LR\"],[\"REMO2015\",\"MPI-ESM-LR\"],[\"REMO2015\",\"MPI-ESM-LR\"],[\"REMO2015\",\"MPI-ESM-LR\"],[\"REMO2015\",\"MPI-ESM-LR\"],[\"REMO2015\",\"MPI-ESM-LR\"],[\"REMO2015\",\"MPI-ESM-LR\"],[\"REMO2015\",\"MPI-ESM-LR\"]],\"hovertemplate\":\"RCM=%{customdata[0]}\\u003cbr\\u003eDriving GCM=%{customdata[1]}\\u003cbr\\u003emonth=%{x}\\u003cbr\\u003eprcptot (mm\\u002fmonth)=%{y}\\u003cextra\\u003e\\u003c\\u002fextra\\u003e\",\"legendgroup\":\"REMO2015, MPI-ESM-LR\",\"line\":{\"color\":\"mediumpurple\",\"dash\":\"longdash\"},\"marker\":{\"symbol\":\"circle\",\"size\":8},\"mode\":\"lines\",\"name\":\"REMO2015, MPI-ESM-LR\",\"orientation\":\"v\",\"showlegend\":true,\"x\":[\"Jan\",\"Feb\",\"Mar\",\"Apr\",\"May\",\"Jun\",\"Jul\",\"Aug\",\"Sep\",\"Oct\",\"Nov\",\"Dec\"],\"xaxis\":\"x\",\"y\":[23.44479819756998,21.02838285007714,22.274609386991695,20.470716294033178,43.06490126781778,53.38356815582799,53.8624458834657,51.099454034743076,39.4470029243865,33.521212911146065,26.381118096016273,21.354346139509904],\"yaxis\":\"y\",\"type\":\"scatter\"},{\"customdata\":[[\"RegCM4-7\",\"NorESM1-M\"],[\"RegCM4-7\",\"NorESM1-M\"],[\"RegCM4-7\",\"NorESM1-M\"],[\"RegCM4-7\",\"NorESM1-M\"],[\"RegCM4-7\",\"NorESM1-M\"],[\"RegCM4-7\",\"NorESM1-M\"],[\"RegCM4-7\",\"NorESM1-M\"],[\"RegCM4-7\",\"NorESM1-M\"],[\"RegCM4-7\",\"NorESM1-M\"],[\"RegCM4-7\",\"NorESM1-M\"],[\"RegCM4-7\",\"NorESM1-M\"],[\"RegCM4-7\",\"NorESM1-M\"]],\"hovertemplate\":\"RCM=%{customdata[0]}\\u003cbr\\u003eDriving GCM=%{customdata[1]}\\u003cbr\\u003emonth=%{x}\\u003cbr\\u003eprcptot (mm\\u002fmonth)=%{y}\\u003cextra\\u003e\\u003c\\u002fextra\\u003e\",\"legendgroup\":\"RegCM4-7, NorESM1-M\",\"line\":{\"color\":\"darkorange\",\"dash\":\"dashdot\"},\"marker\":{\"symbol\":\"circle\",\"size\":8},\"mode\":\"lines\",\"name\":\"RegCM4-7, NorESM1-M\",\"orientation\":\"v\",\"showlegend\":true,\"x\":[\"Jan\",\"Feb\",\"Mar\",\"Apr\",\"May\",\"Jun\",\"Jul\",\"Aug\",\"Sep\",\"Oct\",\"Nov\",\"Dec\"],\"xaxis\":\"x\",\"y\":[70.69942687007308,52.03627599341735,52.46888747218994,50.7869889184765,62.15003644478898,62.22957821120958,68.78165511632162,76.44414590525221,71.43386287815143,60.15325713359723,66.78228212951657,68.16230233388806],\"yaxis\":\"y\",\"type\":\"scatter\"},{\"customdata\":[[\"RegCM4-7\",\"HadGEM2-ES\"],[\"RegCM4-7\",\"HadGEM2-ES\"],[\"RegCM4-7\",\"HadGEM2-ES\"],[\"RegCM4-7\",\"HadGEM2-ES\"],[\"RegCM4-7\",\"HadGEM2-ES\"],[\"RegCM4-7\",\"HadGEM2-ES\"],[\"RegCM4-7\",\"HadGEM2-ES\"],[\"RegCM4-7\",\"HadGEM2-ES\"],[\"RegCM4-7\",\"HadGEM2-ES\"],[\"RegCM4-7\",\"HadGEM2-ES\"],[\"RegCM4-7\",\"HadGEM2-ES\"],[\"RegCM4-7\",\"HadGEM2-ES\"]],\"hovertemplate\":\"RCM=%{customdata[0]}\\u003cbr\\u003eDriving GCM=%{customdata[1]}\\u003cbr\\u003emonth=%{x}\\u003cbr\\u003eprcptot (mm\\u002fmonth)=%{y}\\u003cextra\\u003e\\u003c\\u002fextra\\u003e\",\"legendgroup\":\"RegCM4-7, HadGEM2-ES\",\"line\":{\"color\":\"darkorange\",\"dash\":\"dash\"},\"marker\":{\"symbol\":\"circle\",\"size\":8},\"mode\":\"lines\",\"name\":\"RegCM4-7, HadGEM2-ES\",\"orientation\":\"v\",\"showlegend\":true,\"x\":[\"Jan\",\"Feb\",\"Mar\",\"Apr\",\"May\",\"Jun\",\"Jul\",\"Aug\",\"Sep\",\"Oct\",\"Nov\",\"Dec\"],\"xaxis\":\"x\",\"y\":[74.43893769454854,68.51230152503805,64.35289620392594,63.80291125522214,74.92431993088506,82.98407185272332,79.0309845009281,75.56314806395129,57.614628727891656,55.4990442015358,56.29361419649375,70.2429942325953],\"yaxis\":\"y\",\"type\":\"scatter\"},{\"customdata\":[[\"RegCM4-7\",\"MPI-ESM-MR\"],[\"RegCM4-7\",\"MPI-ESM-MR\"],[\"RegCM4-7\",\"MPI-ESM-MR\"],[\"RegCM4-7\",\"MPI-ESM-MR\"],[\"RegCM4-7\",\"MPI-ESM-MR\"],[\"RegCM4-7\",\"MPI-ESM-MR\"],[\"RegCM4-7\",\"MPI-ESM-MR\"],[\"RegCM4-7\",\"MPI-ESM-MR\"],[\"RegCM4-7\",\"MPI-ESM-MR\"],[\"RegCM4-7\",\"MPI-ESM-MR\"],[\"RegCM4-7\",\"MPI-ESM-MR\"],[\"RegCM4-7\",\"MPI-ESM-MR\"]],\"hovertemplate\":\"RCM=%{customdata[0]}\\u003cbr\\u003eDriving GCM=%{customdata[1]}\\u003cbr\\u003emonth=%{x}\\u003cbr\\u003eprcptot (mm\\u002fmonth)=%{y}\\u003cextra\\u003e\\u003c\\u002fextra\\u003e\",\"legendgroup\":\"RegCM4-7, MPI-ESM-MR\",\"line\":{\"color\":\"darkorange\",\"dash\":\"longdash\"},\"marker\":{\"symbol\":\"circle\",\"size\":8},\"mode\":\"lines\",\"name\":\"RegCM4-7, MPI-ESM-MR\",\"orientation\":\"v\",\"showlegend\":true,\"x\":[\"Jan\",\"Feb\",\"Mar\",\"Apr\",\"May\",\"Jun\",\"Jul\",\"Aug\",\"Sep\",\"Oct\",\"Nov\",\"Dec\"],\"xaxis\":\"x\",\"y\":[59.624269021762416,48.387296951404174,51.548856403660174,41.607401726132544,69.03275340755202,86.25345433344745,90.76943937520613,79.71362791932083,68.45853048264578,55.6000345702548,53.69098347105682,50.48184391588027],\"yaxis\":\"y\",\"type\":\"scatter\"},{\"customdata\":[[\"WRF360J\",\"ACCESS1-0\"],[\"WRF360J\",\"ACCESS1-0\"],[\"WRF360J\",\"ACCESS1-0\"],[\"WRF360J\",\"ACCESS1-0\"],[\"WRF360J\",\"ACCESS1-0\"],[\"WRF360J\",\"ACCESS1-0\"],[\"WRF360J\",\"ACCESS1-0\"],[\"WRF360J\",\"ACCESS1-0\"],[\"WRF360J\",\"ACCESS1-0\"],[\"WRF360J\",\"ACCESS1-0\"],[\"WRF360J\",\"ACCESS1-0\"],[\"WRF360J\",\"ACCESS1-0\"]],\"hovertemplate\":\"RCM=%{customdata[0]}\\u003cbr\\u003eDriving GCM=%{customdata[1]}\\u003cbr\\u003emonth=%{x}\\u003cbr\\u003eprcptot (mm\\u002fmonth)=%{y}\\u003cextra\\u003e\\u003c\\u002fextra\\u003e\",\"legendgroup\":\"WRF360J, ACCESS1-0\",\"line\":{\"color\":\"magenta\",\"dash\":\"dot\"},\"marker\":{\"symbol\":\"circle\",\"size\":8},\"mode\":\"lines\",\"name\":\"WRF360J, ACCESS1-0\",\"orientation\":\"v\",\"showlegend\":true,\"x\":[\"Jan\",\"Feb\",\"Mar\",\"Apr\",\"May\",\"Jun\",\"Jul\",\"Aug\",\"Sep\",\"Oct\",\"Nov\",\"Dec\"],\"xaxis\":\"x\",\"y\":[38.77010963579781,41.904370092362164,38.6240218228161,40.68526107087005,35.32741991833195,40.11864307377058,41.78671642594756,47.1174719823356,43.696775991975386,42.668628000114886,42.70308489449015,40.599937543585334],\"yaxis\":\"y\",\"type\":\"scatter\"},{\"customdata\":[[\"WRF360J\",\"CanESM2\"],[\"WRF360J\",\"CanESM2\"],[\"WRF360J\",\"CanESM2\"],[\"WRF360J\",\"CanESM2\"],[\"WRF360J\",\"CanESM2\"],[\"WRF360J\",\"CanESM2\"],[\"WRF360J\",\"CanESM2\"],[\"WRF360J\",\"CanESM2\"],[\"WRF360J\",\"CanESM2\"],[\"WRF360J\",\"CanESM2\"],[\"WRF360J\",\"CanESM2\"],[\"WRF360J\",\"CanESM2\"]],\"hovertemplate\":\"RCM=%{customdata[0]}\\u003cbr\\u003eDriving GCM=%{customdata[1]}\\u003cbr\\u003emonth=%{x}\\u003cbr\\u003eprcptot (mm\\u002fmonth)=%{y}\\u003cextra\\u003e\\u003c\\u002fextra\\u003e\",\"legendgroup\":\"WRF360J, CanESM2\",\"line\":{\"color\":\"magenta\",\"dash\":\"solid\"},\"marker\":{\"symbol\":\"circle\",\"size\":8},\"mode\":\"lines\",\"name\":\"WRF360J, CanESM2\",\"orientation\":\"v\",\"showlegend\":true,\"x\":[\"Jan\",\"Feb\",\"Mar\",\"Apr\",\"May\",\"Jun\",\"Jul\",\"Aug\",\"Sep\",\"Oct\",\"Nov\",\"Dec\"],\"xaxis\":\"x\",\"y\":[32.817791229042776,30.731442875657752,38.72254143248381,38.52441199261528,39.909571053182276,46.61828517039786,48.90427573167378,47.909516393693664,44.06845942719749,39.91967281315915,37.6379565782086,34.28242527866717],\"yaxis\":\"y\",\"type\":\"scatter\"},{\"customdata\":[[\"WRF360K\",\"ACCESS1-0\"],[\"WRF360K\",\"ACCESS1-0\"],[\"WRF360K\",\"ACCESS1-0\"],[\"WRF360K\",\"ACCESS1-0\"],[\"WRF360K\",\"ACCESS1-0\"],[\"WRF360K\",\"ACCESS1-0\"],[\"WRF360K\",\"ACCESS1-0\"],[\"WRF360K\",\"ACCESS1-0\"],[\"WRF360K\",\"ACCESS1-0\"],[\"WRF360K\",\"ACCESS1-0\"],[\"WRF360K\",\"ACCESS1-0\"],[\"WRF360K\",\"ACCESS1-0\"]],\"hovertemplate\":\"RCM=%{customdata[0]}\\u003cbr\\u003eDriving GCM=%{customdata[1]}\\u003cbr\\u003emonth=%{x}\\u003cbr\\u003eprcptot (mm\\u002fmonth)=%{y}\\u003cextra\\u003e\\u003c\\u002fextra\\u003e\",\"legendgroup\":\"WRF360K, ACCESS1-0\",\"line\":{\"color\":\"mediumvioletred\",\"dash\":\"dot\"},\"marker\":{\"symbol\":\"circle\",\"size\":8},\"mode\":\"lines\",\"name\":\"WRF360K, ACCESS1-0\",\"orientation\":\"v\",\"showlegend\":true,\"x\":[\"Jan\",\"Feb\",\"Mar\",\"Apr\",\"May\",\"Jun\",\"Jul\",\"Aug\",\"Sep\",\"Oct\",\"Nov\",\"Dec\"],\"xaxis\":\"x\",\"y\":[37.198813006911834,37.61762247161764,39.475174406518754,40.829172949506614,40.75082098765444,45.11397459623085,49.179732125513816,52.97265988304336,50.595391832457025,46.980467128793414,43.749849819922225,39.47268690466198],\"yaxis\":\"y\",\"type\":\"scatter\"},{\"customdata\":[[\"WRF360K\",\"CanESM2\"],[\"WRF360K\",\"CanESM2\"],[\"WRF360K\",\"CanESM2\"],[\"WRF360K\",\"CanESM2\"],[\"WRF360K\",\"CanESM2\"],[\"WRF360K\",\"CanESM2\"],[\"WRF360K\",\"CanESM2\"],[\"WRF360K\",\"CanESM2\"],[\"WRF360K\",\"CanESM2\"],[\"WRF360K\",\"CanESM2\"],[\"WRF360K\",\"CanESM2\"],[\"WRF360K\",\"CanESM2\"]],\"hovertemplate\":\"RCM=%{customdata[0]}\\u003cbr\\u003eDriving GCM=%{customdata[1]}\\u003cbr\\u003emonth=%{x}\\u003cbr\\u003eprcptot (mm\\u002fmonth)=%{y}\\u003cextra\\u003e\\u003c\\u002fextra\\u003e\",\"legendgroup\":\"WRF360K, CanESM2\",\"line\":{\"color\":\"mediumvioletred\",\"dash\":\"solid\"},\"marker\":{\"symbol\":\"circle\",\"size\":8},\"mode\":\"lines\",\"name\":\"WRF360K, CanESM2\",\"orientation\":\"v\",\"showlegend\":true,\"x\":[\"Jan\",\"Feb\",\"Mar\",\"Apr\",\"May\",\"Jun\",\"Jul\",\"Aug\",\"Sep\",\"Oct\",\"Nov\",\"Dec\"],\"xaxis\":\"x\",\"y\":[26.988373410267613,23.23533801326862,30.480889611240613,35.189694063973775,39.96573181768828,47.73716121474883,49.59108953194974,45.49820792350527,40.302357035777845,34.860482406388456,29.629054778499842,26.676725748514986],\"yaxis\":\"y\",\"type\":\"scatter\"},{\"hovertemplate\":\"AGCD: %{y:.2f}mm\\u003cbr\\u003eMonth: %{x}\\u003cextra\\u003e\\u003c\\u002fextra\\u003e\",\"line\":{\"color\":\"rgb(0,0,0)\"},\"marker\":{\"size\":9},\"name\":\"AGCD\",\"x\":[\"Jan\",\"Feb\",\"Mar\",\"Apr\",\"May\",\"Jun\",\"Jul\",\"Aug\",\"Sep\",\"Oct\",\"Nov\",\"Dec\"],\"y\":[26.136153494704285,25.045280105470486,25.993440230928453,27.84055643319726,42.40301902388742,49.0508459074857,48.73085527502092,48.51324812687893,42.68689036994947,38.323651410359254,32.08729024616892,29.924687244060085],\"type\":\"scatter\"}],                        {\"template\":{\"data\":{\"histogram2dcontour\":[{\"type\":\"histogram2dcontour\",\"colorbar\":{\"outlinewidth\":0,\"ticks\":\"\"},\"colorscale\":[[0.0,\"#0d0887\"],[0.1111111111111111,\"#46039f\"],[0.2222222222222222,\"#7201a8\"],[0.3333333333333333,\"#9c179e\"],[0.4444444444444444,\"#bd3786\"],[0.5555555555555556,\"#d8576b\"],[0.6666666666666666,\"#ed7953\"],[0.7777777777777778,\"#fb9f3a\"],[0.8888888888888888,\"#fdca26\"],[1.0,\"#f0f921\"]]}],\"choropleth\":[{\"type\":\"choropleth\",\"colorbar\":{\"outlinewidth\":0,\"ticks\":\"\"}}],\"histogram2d\":[{\"type\":\"histogram2d\",\"colorbar\":{\"outlinewidth\":0,\"ticks\":\"\"},\"colorscale\":[[0.0,\"#0d0887\"],[0.1111111111111111,\"#46039f\"],[0.2222222222222222,\"#7201a8\"],[0.3333333333333333,\"#9c179e\"],[0.4444444444444444,\"#bd3786\"],[0.5555555555555556,\"#d8576b\"],[0.6666666666666666,\"#ed7953\"],[0.7777777777777778,\"#fb9f3a\"],[0.8888888888888888,\"#fdca26\"],[1.0,\"#f0f921\"]]}],\"heatmap\":[{\"type\":\"heatmap\",\"colorbar\":{\"outlinewidth\":0,\"ticks\":\"\"},\"colorscale\":[[0.0,\"#0d0887\"],[0.1111111111111111,\"#46039f\"],[0.2222222222222222,\"#7201a8\"],[0.3333333333333333,\"#9c179e\"],[0.4444444444444444,\"#bd3786\"],[0.5555555555555556,\"#d8576b\"],[0.6666666666666666,\"#ed7953\"],[0.7777777777777778,\"#fb9f3a\"],[0.8888888888888888,\"#fdca26\"],[1.0,\"#f0f921\"]]}],\"heatmapgl\":[{\"type\":\"heatmapgl\",\"colorbar\":{\"outlinewidth\":0,\"ticks\":\"\"},\"colorscale\":[[0.0,\"#0d0887\"],[0.1111111111111111,\"#46039f\"],[0.2222222222222222,\"#7201a8\"],[0.3333333333333333,\"#9c179e\"],[0.4444444444444444,\"#bd3786\"],[0.5555555555555556,\"#d8576b\"],[0.6666666666666666,\"#ed7953\"],[0.7777777777777778,\"#fb9f3a\"],[0.8888888888888888,\"#fdca26\"],[1.0,\"#f0f921\"]]}],\"contourcarpet\":[{\"type\":\"contourcarpet\",\"colorbar\":{\"outlinewidth\":0,\"ticks\":\"\"}}],\"contour\":[{\"type\":\"contour\",\"colorbar\":{\"outlinewidth\":0,\"ticks\":\"\"},\"colorscale\":[[0.0,\"#0d0887\"],[0.1111111111111111,\"#46039f\"],[0.2222222222222222,\"#7201a8\"],[0.3333333333333333,\"#9c179e\"],[0.4444444444444444,\"#bd3786\"],[0.5555555555555556,\"#d8576b\"],[0.6666666666666666,\"#ed7953\"],[0.7777777777777778,\"#fb9f3a\"],[0.8888888888888888,\"#fdca26\"],[1.0,\"#f0f921\"]]}],\"surface\":[{\"type\":\"surface\",\"colorbar\":{\"outlinewidth\":0,\"ticks\":\"\"},\"colorscale\":[[0.0,\"#0d0887\"],[0.1111111111111111,\"#46039f\"],[0.2222222222222222,\"#7201a8\"],[0.3333333333333333,\"#9c179e\"],[0.4444444444444444,\"#bd3786\"],[0.5555555555555556,\"#d8576b\"],[0.6666666666666666,\"#ed7953\"],[0.7777777777777778,\"#fb9f3a\"],[0.8888888888888888,\"#fdca26\"],[1.0,\"#f0f921\"]]}],\"mesh3d\":[{\"type\":\"mesh3d\",\"colorbar\":{\"outlinewidth\":0,\"ticks\":\"\"}}],\"scatter\":[{\"fillpattern\":{\"fillmode\":\"overlay\",\"size\":10,\"solidity\":0.2},\"type\":\"scatter\"}],\"parcoords\":[{\"type\":\"parcoords\",\"line\":{\"colorbar\":{\"outlinewidth\":0,\"ticks\":\"\"}}}],\"scatterpolargl\":[{\"type\":\"scatterpolargl\",\"marker\":{\"colorbar\":{\"outlinewidth\":0,\"ticks\":\"\"}}}],\"bar\":[{\"error_x\":{\"color\":\"#2a3f5f\"},\"error_y\":{\"color\":\"#2a3f5f\"},\"marker\":{\"line\":{\"color\":\"#E5ECF6\",\"width\":0.5},\"pattern\":{\"fillmode\":\"overlay\",\"size\":10,\"solidity\":0.2}},\"type\":\"bar\"}],\"scattergeo\":[{\"type\":\"scattergeo\",\"marker\":{\"colorbar\":{\"outlinewidth\":0,\"ticks\":\"\"}}}],\"scatterpolar\":[{\"type\":\"scatterpolar\",\"marker\":{\"colorbar\":{\"outlinewidth\":0,\"ticks\":\"\"}}}],\"histogram\":[{\"marker\":{\"pattern\":{\"fillmode\":\"overlay\",\"size\":10,\"solidity\":0.2}},\"type\":\"histogram\"}],\"scattergl\":[{\"type\":\"scattergl\",\"marker\":{\"colorbar\":{\"outlinewidth\":0,\"ticks\":\"\"}}}],\"scatter3d\":[{\"type\":\"scatter3d\",\"line\":{\"colorbar\":{\"outlinewidth\":0,\"ticks\":\"\"}},\"marker\":{\"colorbar\":{\"outlinewidth\":0,\"ticks\":\"\"}}}],\"scattermapbox\":[{\"type\":\"scattermapbox\",\"marker\":{\"colorbar\":{\"outlinewidth\":0,\"ticks\":\"\"}}}],\"scatterternary\":[{\"type\":\"scatterternary\",\"marker\":{\"colorbar\":{\"outlinewidth\":0,\"ticks\":\"\"}}}],\"scattercarpet\":[{\"type\":\"scattercarpet\",\"marker\":{\"colorbar\":{\"outlinewidth\":0,\"ticks\":\"\"}}}],\"carpet\":[{\"aaxis\":{\"endlinecolor\":\"#2a3f5f\",\"gridcolor\":\"white\",\"linecolor\":\"white\",\"minorgridcolor\":\"white\",\"startlinecolor\":\"#2a3f5f\"},\"baxis\":{\"endlinecolor\":\"#2a3f5f\",\"gridcolor\":\"white\",\"linecolor\":\"white\",\"minorgridcolor\":\"white\",\"startlinecolor\":\"#2a3f5f\"},\"type\":\"carpet\"}],\"table\":[{\"cells\":{\"fill\":{\"color\":\"#EBF0F8\"},\"line\":{\"color\":\"white\"}},\"header\":{\"fill\":{\"color\":\"#C8D4E3\"},\"line\":{\"color\":\"white\"}},\"type\":\"table\"}],\"barpolar\":[{\"marker\":{\"line\":{\"color\":\"#E5ECF6\",\"width\":0.5},\"pattern\":{\"fillmode\":\"overlay\",\"size\":10,\"solidity\":0.2}},\"type\":\"barpolar\"}],\"pie\":[{\"automargin\":true,\"type\":\"pie\"}]},\"layout\":{\"autotypenumbers\":\"strict\",\"colorway\":[\"#636efa\",\"#EF553B\",\"#00cc96\",\"#ab63fa\",\"#FFA15A\",\"#19d3f3\",\"#FF6692\",\"#B6E880\",\"#FF97FF\",\"#FECB52\"],\"font\":{\"color\":\"#2a3f5f\"},\"hovermode\":\"closest\",\"hoverlabel\":{\"align\":\"left\"},\"paper_bgcolor\":\"white\",\"plot_bgcolor\":\"#E5ECF6\",\"polar\":{\"bgcolor\":\"#E5ECF6\",\"angularaxis\":{\"gridcolor\":\"white\",\"linecolor\":\"white\",\"ticks\":\"\"},\"radialaxis\":{\"gridcolor\":\"white\",\"linecolor\":\"white\",\"ticks\":\"\"}},\"ternary\":{\"bgcolor\":\"#E5ECF6\",\"aaxis\":{\"gridcolor\":\"white\",\"linecolor\":\"white\",\"ticks\":\"\"},\"baxis\":{\"gridcolor\":\"white\",\"linecolor\":\"white\",\"ticks\":\"\"},\"caxis\":{\"gridcolor\":\"white\",\"linecolor\":\"white\",\"ticks\":\"\"}},\"coloraxis\":{\"colorbar\":{\"outlinewidth\":0,\"ticks\":\"\"}},\"colorscale\":{\"sequential\":[[0.0,\"#0d0887\"],[0.1111111111111111,\"#46039f\"],[0.2222222222222222,\"#7201a8\"],[0.3333333333333333,\"#9c179e\"],[0.4444444444444444,\"#bd3786\"],[0.5555555555555556,\"#d8576b\"],[0.6666666666666666,\"#ed7953\"],[0.7777777777777778,\"#fb9f3a\"],[0.8888888888888888,\"#fdca26\"],[1.0,\"#f0f921\"]],\"sequentialminus\":[[0.0,\"#0d0887\"],[0.1111111111111111,\"#46039f\"],[0.2222222222222222,\"#7201a8\"],[0.3333333333333333,\"#9c179e\"],[0.4444444444444444,\"#bd3786\"],[0.5555555555555556,\"#d8576b\"],[0.6666666666666666,\"#ed7953\"],[0.7777777777777778,\"#fb9f3a\"],[0.8888888888888888,\"#fdca26\"],[1.0,\"#f0f921\"]],\"diverging\":[[0,\"#8e0152\"],[0.1,\"#c51b7d\"],[0.2,\"#de77ae\"],[0.3,\"#f1b6da\"],[0.4,\"#fde0ef\"],[0.5,\"#f7f7f7\"],[0.6,\"#e6f5d0\"],[0.7,\"#b8e186\"],[0.8,\"#7fbc41\"],[0.9,\"#4d9221\"],[1,\"#276419\"]]},\"xaxis\":{\"gridcolor\":\"white\",\"linecolor\":\"white\",\"ticks\":\"\",\"title\":{\"standoff\":15},\"zerolinecolor\":\"white\",\"automargin\":true,\"zerolinewidth\":2},\"yaxis\":{\"gridcolor\":\"white\",\"linecolor\":\"white\",\"ticks\":\"\",\"title\":{\"standoff\":15},\"zerolinecolor\":\"white\",\"automargin\":true,\"zerolinewidth\":2},\"scene\":{\"xaxis\":{\"backgroundcolor\":\"#E5ECF6\",\"gridcolor\":\"white\",\"linecolor\":\"white\",\"showbackground\":true,\"ticks\":\"\",\"zerolinecolor\":\"white\",\"gridwidth\":2},\"yaxis\":{\"backgroundcolor\":\"#E5ECF6\",\"gridcolor\":\"white\",\"linecolor\":\"white\",\"showbackground\":true,\"ticks\":\"\",\"zerolinecolor\":\"white\",\"gridwidth\":2},\"zaxis\":{\"backgroundcolor\":\"#E5ECF6\",\"gridcolor\":\"white\",\"linecolor\":\"white\",\"showbackground\":true,\"ticks\":\"\",\"zerolinecolor\":\"white\",\"gridwidth\":2}},\"shapedefaults\":{\"line\":{\"color\":\"#2a3f5f\"}},\"annotationdefaults\":{\"arrowcolor\":\"#2a3f5f\",\"arrowhead\":0,\"arrowwidth\":1},\"geo\":{\"bgcolor\":\"white\",\"landcolor\":\"#E5ECF6\",\"subunitcolor\":\"white\",\"showland\":true,\"showlakes\":true,\"lakecolor\":\"white\"},\"title\":{\"x\":0.05},\"mapbox\":{\"style\":\"light\"}}},\"xaxis\":{\"anchor\":\"y\",\"domain\":[0.0,1.0],\"title\":{\"text\":\"month\"}},\"yaxis\":{\"anchor\":\"x\",\"domain\":[0.0,1.0],\"title\":{\"text\":\"prcptot (mm\\u002fmonth)\"}},\"legend\":{\"title\":{\"text\":\"RCM, Driving GCM\"},\"tracegroupgap\":0},\"title\":{\"text\":\"SAU Average Total Monthly Rainfall (1976-2005) \\u003cbr\\u003e Combined Quality Mask Applied\",\"x\":0.45},\"height\":700,\"width\":1080},                        {\"responsive\": true}                    ).then(function(){\n",
       "                            \n",
       "var gd = document.getElementById('b65ea180-9e2d-41bc-bbca-91e8dde215ba');\n",
       "var x = new MutationObserver(function (mutations, observer) {{\n",
       "        var display = window.getComputedStyle(gd).display;\n",
       "        if (!display || display === 'none') {{\n",
       "            console.log([gd, 'removed!']);\n",
       "            Plotly.purge(gd);\n",
       "            observer.disconnect();\n",
       "        }}\n",
       "}});\n",
       "\n",
       "// Listen for the removal of the full notebook cells\n",
       "var notebookContainer = gd.closest('#notebook-container');\n",
       "if (notebookContainer) {{\n",
       "    x.observe(notebookContainer, {childList: true});\n",
       "}}\n",
       "\n",
       "// Listen for the clearing of the current output cell\n",
       "var outputEl = gd.closest('.output');\n",
       "if (outputEl) {{\n",
       "    x.observe(outputEl, {childList: true});\n",
       "}}\n",
       "\n",
       "                        })                };                });            </script>        </div>"
      ]
     },
     "metadata": {},
     "output_type": "display_data"
    }
   ],
   "source": [
    "# Define line styles based on GCM and colors based on RCM\n",
    "gcm_lines = {'NorESM1-M':'dashdot',\n",
    "             'CNRM-CM5':'longdash',\n",
    "             'CanESM2':'solid',\n",
    "             'ACCESS1-0':'dot',\n",
    "             'HadGEM2-ES':'dash',\n",
    "             'MPI-ESM-LR':'longdash',\n",
    "             'HadGEM2-CC':'dash',\n",
    "             'GFDL-ESM2M':'20px,4px,8px',\n",
    "             'MIROC5':'longdashdot',\n",
    "             'MPI-ESM-MR':'longdash'\n",
    "             }\n",
    "\n",
    "rcm_colors = {'CCAM-1704':'deepskyblue',\n",
    "             'CCAM-2008':'limegreen',\n",
    "             'WRF360J':'magenta',\n",
    "             'WRF360K':'mediumvioletred',\n",
    "             'CCLM5-0-15':'indianred',\n",
    "             'REMO2015':'mediumpurple',\n",
    "             'RegCM4-7':'darkorange'}\n",
    "\n",
    "\n",
    "ts_fig = px.line(rcm_master_timeseries_df, x=rcm_master_timeseries_df['month'], y=f\"{variable}\", line_dash='driving_gcm', line_dash_map=gcm_lines, color='rcm', color_discrete_map=rcm_colors,\n",
    "                 hover_data=['rcm', 'driving_gcm', f\"{variable}\"], width=1080, height=700,\n",
    "    labels={\n",
    "         \"rcm\": \"RCM\",\n",
    "         \"driving_gcm\": \"Driving GCM\",\n",
    "         f\"{variable}\": f\"{variable}\" \" (mm/month)\",\n",
    "         \"index\": \"Month\",\n",
    "     },\n",
    "    title= \"SAU Average Total Monthly Rainfall (1976-2005) <br> Combined Quality Mask Applied\")\n",
    "\n",
    "ts_fig.update_traces(marker={'size': 8})\n",
    "\n",
    "# Add Observations \n",
    "ts_fig.add_trace(go.Scatter(\n",
    "    x=agcd_monthly_avg_df['month'], y=agcd_monthly_avg_df[f\"{variable}\"],\n",
    "    line_color='rgb(0,0,0)',\n",
    "    name='AGCD',\n",
    "    hovertemplate = 'AGCD: %{y:.2f}mm<br>Month: %{x}<extra></extra>',\n",
    "    marker={'size': 9}\n",
    "\n",
    "))\n",
    "\n",
    "ts_fig.update_layout(title_x=0.45)\n",
    "\n",
    "ts_fig.show()"
   ]
  },
  {
   "cell_type": "code",
   "execution_count": null,
   "id": "dce9d049-b20d-4f53-bacc-031d10041093",
   "metadata": {},
   "outputs": [],
   "source": []
  }
 ],
 "metadata": {
  "kernelspec": {
   "display_name": "Python [conda env:analysis3]",
   "language": "python",
   "name": "conda-env-analysis3-py"
  },
  "language_info": {
   "codemirror_mode": {
    "name": "ipython",
    "version": 3
   },
   "file_extension": ".py",
   "mimetype": "text/x-python",
   "name": "python",
   "nbconvert_exporter": "python",
   "pygments_lexer": "ipython3",
   "version": "3.9.17"
  }
 },
 "nbformat": 4,
 "nbformat_minor": 5
}
